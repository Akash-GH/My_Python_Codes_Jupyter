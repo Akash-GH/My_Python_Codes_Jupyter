{
 "cells": [
  {
   "cell_type": "code",
   "execution_count": 1,
   "id": "f8f0c73e",
   "metadata": {},
   "outputs": [],
   "source": [
    "month_list = ['January','February','March','April','May','June']"
   ]
  },
  {
   "cell_type": "code",
   "execution_count": 2,
   "id": "472245b7",
   "metadata": {},
   "outputs": [
    {
     "data": {
      "text/plain": [
       "['January', 'February', 'March', 'April', 'May', 'June']"
      ]
     },
     "execution_count": 2,
     "metadata": {},
     "output_type": "execute_result"
    }
   ],
   "source": [
    "month_list"
   ]
  },
  {
   "cell_type": "code",
   "execution_count": 3,
   "id": "ec9f7a57",
   "metadata": {},
   "outputs": [],
   "source": [
    "# This states that lists are mutable and changes can done with the help of indexes\n",
    "month_list[1] = \"FEBRUARY IS MY BIRTH MONTH\""
   ]
  },
  {
   "cell_type": "code",
   "execution_count": 4,
   "id": "ea728e04",
   "metadata": {},
   "outputs": [
    {
     "data": {
      "text/plain": [
       "['January', 'FEBRUARY IS MY BIRTH MONTH', 'March', 'April', 'May', 'June']"
      ]
     },
     "execution_count": 4,
     "metadata": {},
     "output_type": "execute_result"
    }
   ],
   "source": [
    "month_list"
   ]
  },
  {
   "cell_type": "code",
   "execution_count": 5,
   "id": "f75870df",
   "metadata": {},
   "outputs": [],
   "source": [
    "# append is used to add elements at the end of the lists\n",
    "month_list.append('July')"
   ]
  },
  {
   "cell_type": "code",
   "execution_count": 6,
   "id": "d649abaa",
   "metadata": {},
   "outputs": [
    {
     "data": {
      "text/plain": [
       "['January',\n",
       " 'FEBRUARY IS MY BIRTH MONTH',\n",
       " 'March',\n",
       " 'April',\n",
       " 'May',\n",
       " 'June',\n",
       " 'July']"
      ]
     },
     "execution_count": 6,
     "metadata": {},
     "output_type": "execute_result"
    }
   ],
   "source": [
    "month_list"
   ]
  },
  {
   "cell_type": "code",
   "execution_count": 7,
   "id": "2798c1e0",
   "metadata": {},
   "outputs": [],
   "source": [
    "month_list.append('August')"
   ]
  },
  {
   "cell_type": "code",
   "execution_count": 8,
   "id": "7bb1ddaf",
   "metadata": {},
   "outputs": [],
   "source": [
    "month_list.append('September')"
   ]
  },
  {
   "cell_type": "code",
   "execution_count": 10,
   "id": "36af6a9d",
   "metadata": {},
   "outputs": [],
   "source": [
    "month_list.append('October')"
   ]
  },
  {
   "cell_type": "code",
   "execution_count": 12,
   "id": "06249423",
   "metadata": {},
   "outputs": [],
   "source": [
    "month_list.append('November')"
   ]
  },
  {
   "cell_type": "code",
   "execution_count": 13,
   "id": "f337a455",
   "metadata": {},
   "outputs": [],
   "source": [
    "month_list.append('December')"
   ]
  },
  {
   "cell_type": "code",
   "execution_count": 14,
   "id": "362446cf",
   "metadata": {},
   "outputs": [
    {
     "data": {
      "text/plain": [
       "['January',\n",
       " 'FEBRUARY IS MY BIRTH MONTH',\n",
       " 'March',\n",
       " 'April',\n",
       " 'May',\n",
       " 'June',\n",
       " 'July',\n",
       " 'August',\n",
       " 'September',\n",
       " 'October',\n",
       " 'November',\n",
       " 'November',\n",
       " 'December']"
      ]
     },
     "execution_count": 14,
     "metadata": {},
     "output_type": "execute_result"
    }
   ],
   "source": [
    "month_list"
   ]
  },
  {
   "cell_type": "code",
   "execution_count": 15,
   "id": "6a804d6a",
   "metadata": {},
   "outputs": [
    {
     "data": {
      "text/plain": [
       "'November'"
      ]
     },
     "execution_count": 15,
     "metadata": {},
     "output_type": "execute_result"
    }
   ],
   "source": [
    "# pop is used to remove the element at the end of list or can remove specific elements based on thier index number.\n",
    "month_list.pop(10)"
   ]
  },
  {
   "cell_type": "code",
   "execution_count": 16,
   "id": "d59406db",
   "metadata": {},
   "outputs": [
    {
     "data": {
      "text/plain": [
       "['January',\n",
       " 'FEBRUARY IS MY BIRTH MONTH',\n",
       " 'March',\n",
       " 'April',\n",
       " 'May',\n",
       " 'June',\n",
       " 'July',\n",
       " 'August',\n",
       " 'September',\n",
       " 'October',\n",
       " 'November',\n",
       " 'December']"
      ]
     },
     "execution_count": 16,
     "metadata": {},
     "output_type": "execute_result"
    }
   ],
   "source": [
    "month_list"
   ]
  },
  {
   "cell_type": "code",
   "execution_count": 17,
   "id": "9f4ac3ca",
   "metadata": {},
   "outputs": [],
   "source": [
    "Num_list  = [1,9,3,7,4]\n",
    "vowel_list = ['u','a','o','i','e']"
   ]
  },
  {
   "cell_type": "code",
   "execution_count": 18,
   "id": "77b9a47c",
   "metadata": {},
   "outputs": [
    {
     "data": {
      "text/plain": [
       "[1, 9, 3, 7, 4]"
      ]
     },
     "execution_count": 18,
     "metadata": {},
     "output_type": "execute_result"
    }
   ],
   "source": [
    "Num_list"
   ]
  },
  {
   "cell_type": "code",
   "execution_count": 19,
   "id": "67e0fac4",
   "metadata": {},
   "outputs": [
    {
     "data": {
      "text/plain": [
       "['u', 'a', 'o', 'i', 'e']"
      ]
     },
     "execution_count": 19,
     "metadata": {},
     "output_type": "execute_result"
    }
   ],
   "source": [
    "vowel_list"
   ]
  },
  {
   "cell_type": "code",
   "execution_count": 21,
   "id": "108cd09f",
   "metadata": {},
   "outputs": [],
   "source": [
    "Sorted_Num = Num_list.sort()"
   ]
  },
  {
   "cell_type": "code",
   "execution_count": 22,
   "id": "8c7fd0f6",
   "metadata": {},
   "outputs": [],
   "source": [
    "Sorted_Num"
   ]
  },
  {
   "cell_type": "code",
   "execution_count": 23,
   "id": "87444f02",
   "metadata": {},
   "outputs": [
    {
     "data": {
      "text/plain": [
       "NoneType"
      ]
     },
     "execution_count": 23,
     "metadata": {},
     "output_type": "execute_result"
    }
   ],
   "source": [
    "# This shows that Sorted_Num consist no elements or we can say that it has no data type\n",
    "type(Sorted_Num)"
   ]
  },
  {
   "cell_type": "code",
   "execution_count": 24,
   "id": "468f7299",
   "metadata": {},
   "outputs": [],
   "source": [
    "Sorted_Num = Num_list"
   ]
  },
  {
   "cell_type": "code",
   "execution_count": 25,
   "id": "8a25ca99",
   "metadata": {},
   "outputs": [
    {
     "data": {
      "text/plain": [
       "[1, 3, 4, 7, 9]"
      ]
     },
     "execution_count": 25,
     "metadata": {},
     "output_type": "execute_result"
    }
   ],
   "source": [
    "Sorted_Num"
   ]
  },
  {
   "cell_type": "code",
   "execution_count": 26,
   "id": "944696a7",
   "metadata": {},
   "outputs": [],
   "source": [
    "sorted_vowel = vowel_list.sort()"
   ]
  },
  {
   "cell_type": "code",
   "execution_count": 27,
   "id": "bae80b82",
   "metadata": {},
   "outputs": [],
   "source": [
    "sorted_vowel"
   ]
  },
  {
   "cell_type": "code",
   "execution_count": 28,
   "id": "1c23f40f",
   "metadata": {},
   "outputs": [
    {
     "data": {
      "text/plain": [
       "NoneType"
      ]
     },
     "execution_count": 28,
     "metadata": {},
     "output_type": "execute_result"
    }
   ],
   "source": [
    "type(sorted_vowel)"
   ]
  },
  {
   "cell_type": "code",
   "execution_count": 29,
   "id": "250452a2",
   "metadata": {},
   "outputs": [],
   "source": [
    "sorted_vowel = vowel_list"
   ]
  },
  {
   "cell_type": "code",
   "execution_count": 30,
   "id": "31fffe27",
   "metadata": {},
   "outputs": [
    {
     "data": {
      "text/plain": [
       "['a', 'e', 'i', 'o', 'u']"
      ]
     },
     "execution_count": 30,
     "metadata": {},
     "output_type": "execute_result"
    }
   ],
   "source": [
    "sorted_vowel"
   ]
  },
  {
   "cell_type": "code",
   "execution_count": 33,
   "id": "1cf910b3",
   "metadata": {},
   "outputs": [],
   "source": [
    "# reverse is used to reverse the list\n",
    "Num_list.reverse()\n",
    "reverse_num = Num_list"
   ]
  },
  {
   "cell_type": "code",
   "execution_count": 34,
   "id": "5492fa1a",
   "metadata": {},
   "outputs": [
    {
     "data": {
      "text/plain": [
       "[9, 7, 4, 3, 1]"
      ]
     },
     "execution_count": 34,
     "metadata": {},
     "output_type": "execute_result"
    }
   ],
   "source": [
    "reverse_num"
   ]
  },
  {
   "cell_type": "code",
   "execution_count": 35,
   "id": "acddc7ee",
   "metadata": {},
   "outputs": [],
   "source": [
    "vowel_list.reverse()\n",
    "reverse_vowel = vowel_list"
   ]
  },
  {
   "cell_type": "code",
   "execution_count": 36,
   "id": "1a351609",
   "metadata": {},
   "outputs": [
    {
     "data": {
      "text/plain": [
       "['u', 'o', 'i', 'e', 'a']"
      ]
     },
     "execution_count": 36,
     "metadata": {},
     "output_type": "execute_result"
    }
   ],
   "source": [
    "reverse_vowel"
   ]
  },
  {
   "cell_type": "code",
   "execution_count": 37,
   "id": "bd4e9b40",
   "metadata": {},
   "outputs": [
    {
     "data": {
      "text/plain": [
       "['FEBRUARY IS MY BIRTH MONTH']"
      ]
     },
     "execution_count": 37,
     "metadata": {},
     "output_type": "execute_result"
    }
   ],
   "source": [
    "# slicing can be used on lists\n",
    "month_list[1:2]"
   ]
  },
  {
   "cell_type": "code",
   "execution_count": 38,
   "id": "83dd6c6f",
   "metadata": {},
   "outputs": [
    {
     "data": {
      "text/plain": [
       "'November'"
      ]
     },
     "execution_count": 38,
     "metadata": {},
     "output_type": "execute_result"
    }
   ],
   "source": [
    "# indexing can be used on lists\n",
    "month_list[10]"
   ]
  },
  {
   "cell_type": "code",
   "execution_count": 39,
   "id": "997ef3cd",
   "metadata": {},
   "outputs": [],
   "source": [
    "mylist = [1,2,3,4,[5,6,7]]"
   ]
  },
  {
   "cell_type": "code",
   "execution_count": 41,
   "id": "298a4c3f",
   "metadata": {},
   "outputs": [
    {
     "data": {
      "text/plain": [
       "6"
      ]
     },
     "execution_count": 41,
     "metadata": {},
     "output_type": "execute_result"
    }
   ],
   "source": [
    "# nested lists\n",
    "mylist[4][1]"
   ]
  },
  {
   "cell_type": "code",
   "execution_count": null,
   "id": "ad080c11",
   "metadata": {},
   "outputs": [],
   "source": []
  }
 ],
 "metadata": {
  "kernelspec": {
   "display_name": "Python 3 (ipykernel)",
   "language": "python",
   "name": "python3"
  },
  "language_info": {
   "codemirror_mode": {
    "name": "ipython",
    "version": 3
   },
   "file_extension": ".py",
   "mimetype": "text/x-python",
   "name": "python",
   "nbconvert_exporter": "python",
   "pygments_lexer": "ipython3",
   "version": "3.10.9"
  }
 },
 "nbformat": 4,
 "nbformat_minor": 5
}
