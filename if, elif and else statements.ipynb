{
 "cells": [
  {
   "cell_type": "markdown",
   "id": "3dbc97e4",
   "metadata": {},
   "source": [
    "# if statement"
   ]
  },
  {
   "cell_type": "code",
   "execution_count": 1,
   "id": "4aa01677",
   "metadata": {},
   "outputs": [
    {
     "name": "stdout",
     "output_type": "stream",
     "text": [
      "It is True\n"
     ]
    }
   ],
   "source": [
    "if (3>2) == True:\n",
    "    print(\"It is True\")"
   ]
  },
  {
   "cell_type": "code",
   "execution_count": 3,
   "id": "12a6ab39",
   "metadata": {},
   "outputs": [
    {
     "name": "stdout",
     "output_type": "stream",
     "text": [
      "My name is Akash\n"
     ]
    }
   ],
   "source": [
    "name = \"Akash\"\n",
    "if name == \"Akash\":\n",
    "    print(\"My name is Akash\")"
   ]
  },
  {
   "cell_type": "markdown",
   "id": "ad937768",
   "metadata": {},
   "source": [
    "# if-else statement"
   ]
  },
  {
   "cell_type": "code",
   "execution_count": 5,
   "id": "636ba1c6",
   "metadata": {},
   "outputs": [
    {
     "name": "stdout",
     "output_type": "stream",
     "text": [
      "Welcome to Engineering\n"
     ]
    }
   ],
   "source": [
    "Course = \"Engineering\"\n",
    "\n",
    "if Course == \"Architecture\":\n",
    "    print(\"Welcome to Architecture\")\n",
    "else:\n",
    "    print(\"Welcome to Engineering\")"
   ]
  },
  {
   "cell_type": "code",
   "execution_count": 6,
   "id": "183f4b26",
   "metadata": {},
   "outputs": [
    {
     "name": "stdout",
     "output_type": "stream",
     "text": [
      "Welcome to Architecture\n"
     ]
    }
   ],
   "source": [
    "Course = \"Architecture\"\n",
    "\n",
    "if Course == \"Architecture\":\n",
    "    print(\"Welcome to Architecture\")\n",
    "else:\n",
    "    print(\"Welcome to Engineering\")"
   ]
  },
  {
   "cell_type": "code",
   "execution_count": 7,
   "id": "d27e24ea",
   "metadata": {},
   "outputs": [
    {
     "name": "stdout",
     "output_type": "stream",
     "text": [
      "Namaste!\n"
     ]
    }
   ],
   "source": [
    "country = \"india\"\n",
    "\n",
    "if country == \"india\":\n",
    "    print(\"Namaste!\")\n",
    "else:\n",
    "    print(\"Hello!\")"
   ]
  },
  {
   "cell_type": "code",
   "execution_count": 8,
   "id": "f70e60d0",
   "metadata": {},
   "outputs": [
    {
     "name": "stdout",
     "output_type": "stream",
     "text": [
      "Hello!\n"
     ]
    }
   ],
   "source": [
    "country = \"USA\"\n",
    "\n",
    "if country == \"india\":\n",
    "    print(\"Namaste!\")\n",
    "else:\n",
    "    print(\"Hello!\")"
   ]
  },
  {
   "cell_type": "markdown",
   "id": "7d90a7cf",
   "metadata": {},
   "source": [
    "# if-elif-else statement"
   ]
  },
  {
   "cell_type": "code",
   "execution_count": 9,
   "id": "bab9a1a5",
   "metadata": {},
   "outputs": [
    {
     "name": "stdout",
     "output_type": "stream",
     "text": [
      "Welcome To Agra\n"
     ]
    }
   ],
   "source": [
    "place = \"Taj Mahal\"\n",
    "\n",
    "if place == \"Eiffel Tower\":\n",
    "    print(\"Welcome to Paris!\")\n",
    "elif place == \"Taj Mahal\":\n",
    "    print(\"Welcome To Agra\")\n",
    "else:\n",
    "    print(\"I don't know where the place is located\")"
   ]
  },
  {
   "cell_type": "code",
   "execution_count": 10,
   "id": "7175860d",
   "metadata": {},
   "outputs": [
    {
     "name": "stdout",
     "output_type": "stream",
     "text": [
      "Welcome to Paris!\n"
     ]
    }
   ],
   "source": [
    "place = \"Eiffel Tower\"\n",
    "\n",
    "if place == \"Eiffel Tower\":\n",
    "    print(\"Welcome to Paris!\")\n",
    "elif place == \"Taj Mahal\":\n",
    "    print(\"Welcome To Agra\")\n",
    "else:\n",
    "    print(\"I don't know where the place is located\")"
   ]
  },
  {
   "cell_type": "code",
   "execution_count": 11,
   "id": "72016bac",
   "metadata": {},
   "outputs": [
    {
     "name": "stdout",
     "output_type": "stream",
     "text": [
      "I don't know where the place is located\n"
     ]
    }
   ],
   "source": [
    "place = \"Jantar Mantar\"\n",
    "\n",
    "if place == \"Eiffel Tower\":\n",
    "    print(\"Welcome to Paris!\")\n",
    "elif place == \"Taj Mahal\":\n",
    "    print(\"Welcome To Agra\")\n",
    "else:\n",
    "    print(\"I don't know where the place is located\")"
   ]
  },
  {
   "cell_type": "markdown",
   "id": "a06cc224",
   "metadata": {},
   "source": [
    "Hence in this way the if,elif and else statements are used."
   ]
  }
 ],
 "metadata": {
  "kernelspec": {
   "display_name": "Python 3 (ipykernel)",
   "language": "python",
   "name": "python3"
  },
  "language_info": {
   "codemirror_mode": {
    "name": "ipython",
    "version": 3
   },
   "file_extension": ".py",
   "mimetype": "text/x-python",
   "name": "python",
   "nbconvert_exporter": "python",
   "pygments_lexer": "ipython3",
   "version": "3.10.9"
  }
 },
 "nbformat": 4,
 "nbformat_minor": 5
}
