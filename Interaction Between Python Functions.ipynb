{
 "cells": [
  {
   "cell_type": "code",
   "execution_count": 1,
   "id": "e5eba670",
   "metadata": {},
   "outputs": [],
   "source": [
    "num_list = [1,2,3,4,5,6,7]"
   ]
  },
  {
   "cell_type": "code",
   "execution_count": 2,
   "id": "10f4b557",
   "metadata": {},
   "outputs": [],
   "source": [
    "from random import shuffle"
   ]
  },
  {
   "cell_type": "code",
   "execution_count": 3,
   "id": "fbae0710",
   "metadata": {},
   "outputs": [],
   "source": [
    "shuffle(num_list)"
   ]
  },
  {
   "cell_type": "code",
   "execution_count": 4,
   "id": "4a61b193",
   "metadata": {},
   "outputs": [
    {
     "data": {
      "text/plain": [
       "[4, 6, 5, 7, 1, 2, 3]"
      ]
     },
     "execution_count": 4,
     "metadata": {},
     "output_type": "execute_result"
    }
   ],
   "source": [
    "num_list"
   ]
  },
  {
   "cell_type": "code",
   "execution_count": 5,
   "id": "540f6e1c",
   "metadata": {},
   "outputs": [],
   "source": [
    "result = shuffle(num_list)"
   ]
  },
  {
   "cell_type": "code",
   "execution_count": 6,
   "id": "3dbc47dd",
   "metadata": {},
   "outputs": [
    {
     "data": {
      "text/plain": [
       "NoneType"
      ]
     },
     "execution_count": 6,
     "metadata": {},
     "output_type": "execute_result"
    }
   ],
   "source": [
    "type(result)"
   ]
  },
  {
   "cell_type": "code",
   "execution_count": 7,
   "id": "6683e7d6",
   "metadata": {},
   "outputs": [],
   "source": [
    "def shuffler(a_list):\n",
    "    shuffle(a_list)\n",
    "    return a_list"
   ]
  },
  {
   "cell_type": "code",
   "execution_count": 8,
   "id": "f948a23d",
   "metadata": {},
   "outputs": [],
   "source": [
    "result = shuffler(num_list)"
   ]
  },
  {
   "cell_type": "code",
   "execution_count": 9,
   "id": "a27f04a3",
   "metadata": {},
   "outputs": [
    {
     "data": {
      "text/plain": [
       "[2, 3, 7, 1, 6, 4, 5]"
      ]
     },
     "execution_count": 9,
     "metadata": {},
     "output_type": "execute_result"
    }
   ],
   "source": [
    "result"
   ]
  },
  {
   "cell_type": "code",
   "execution_count": 10,
   "id": "32029fe0",
   "metadata": {},
   "outputs": [],
   "source": [
    "def challenger_guess():\n",
    "    \n",
    "    guess = ''\n",
    "    \n",
    "    while guess not in ['0','1','2']:\n",
    "        guess = input(\"Choose the option - 0/1/2: \")\n",
    "    \n",
    "    return int(guess)"
   ]
  },
  {
   "cell_type": "code",
   "execution_count": 11,
   "id": "7041dd66",
   "metadata": {},
   "outputs": [],
   "source": [
    "game = ['O',' ',' ']"
   ]
  },
  {
   "cell_type": "code",
   "execution_count": 12,
   "id": "f6ab4a2b",
   "metadata": {},
   "outputs": [
    {
     "data": {
      "text/plain": [
       "[' ', ' ', 'O']"
      ]
     },
     "execution_count": 12,
     "metadata": {},
     "output_type": "execute_result"
    }
   ],
   "source": [
    "shuffler(game)"
   ]
  },
  {
   "cell_type": "code",
   "execution_count": 13,
   "id": "fec69439",
   "metadata": {},
   "outputs": [
    {
     "name": "stdout",
     "output_type": "stream",
     "text": [
      "Choose the option - 0/1/2: 9\n",
      "Choose the option - 0/1/2: 2\n"
     ]
    },
    {
     "data": {
      "text/plain": [
       "2"
      ]
     },
     "execution_count": 13,
     "metadata": {},
     "output_type": "execute_result"
    }
   ],
   "source": [
    "challenger_guess()"
   ]
  },
  {
   "cell_type": "code",
   "execution_count": 15,
   "id": "6dbc0506",
   "metadata": {},
   "outputs": [],
   "source": [
    "def check_guess(a_list,guess):\n",
    "    if a_list[guess] == \"O\":\n",
    "        print(\"Congratulations! You guess right\")\n",
    "    else:\n",
    "        print(\"Oops! You guess wrong\")\n",
    "        print(a_list)"
   ]
  },
  {
   "cell_type": "code",
   "execution_count": 22,
   "id": "8e5e3bbc",
   "metadata": {},
   "outputs": [
    {
     "name": "stdout",
     "output_type": "stream",
     "text": [
      "Choose the option - 0/1/2: 0\n",
      "Congratulations! You guess right\n"
     ]
    }
   ],
   "source": [
    "# initial the list\n",
    "game = [' ','O',' ']\n",
    "\n",
    "# shuffling\n",
    "shuffled_game = shuffler(game)\n",
    "\n",
    "# guess from the challenger\n",
    "players_guess = challenger_guess()\n",
    "\n",
    "# checking the result\n",
    "result = check_guess(shuffled_game,players_guess)"
   ]
  },
  {
   "cell_type": "markdown",
   "id": "9c98ed87",
   "metadata": {},
   "source": [
    "Hence in this by creating several python functions one can make a basic game based on the logics of a game called as \"Three Cup Monte\".\n",
    "This is possible due to the interaction between python functions.\n"
   ]
  },
  {
   "cell_type": "code",
   "execution_count": null,
   "id": "196e164d",
   "metadata": {},
   "outputs": [],
   "source": []
  }
 ],
 "metadata": {
  "kernelspec": {
   "display_name": "Python 3 (ipykernel)",
   "language": "python",
   "name": "python3"
  },
  "language_info": {
   "codemirror_mode": {
    "name": "ipython",
    "version": 3
   },
   "file_extension": ".py",
   "mimetype": "text/x-python",
   "name": "python",
   "nbconvert_exporter": "python",
   "pygments_lexer": "ipython3",
   "version": "3.10.9"
  }
 },
 "nbformat": 4,
 "nbformat_minor": 5
}
