{
 "cells": [
  {
   "cell_type": "code",
   "execution_count": 1,
   "id": "46958d8c",
   "metadata": {},
   "outputs": [],
   "source": [
    "from IPython.display import clear_output\n",
    "\n",
    "def display_board(board):\n",
    "    clear_output()\n",
    "    print(\"   |   |\")\n",
    "    print(\" \" + board[7] +' | ' + board[8] + ' | '+ board[9])\n",
    "    print(\"   |   |\")\n",
    "    print(\"----------\")\n",
    "    print(\"   |   |\")\n",
    "    print(\" \" + board[4] +' | ' + board[5] + ' | '+board[6])\n",
    "    print(\"   |   |\")\n",
    "    print(\"----------\")\n",
    "    print(\"   |   |\")\n",
    "    print(\" \" + board[1] +' | ' + board[2] + ' | '+ board[3])\n",
    "    print(\"   |   |\")"
   ]
  },
  {
   "cell_type": "code",
   "execution_count": 2,
   "id": "b9e82fb0",
   "metadata": {},
   "outputs": [
    {
     "name": "stdout",
     "output_type": "stream",
     "text": [
      "   |   |\n",
      " X | O | X\n",
      "   |   |\n",
      "----------\n",
      "   |   |\n",
      " O | X | O\n",
      "   |   |\n",
      "----------\n",
      "   |   |\n",
      " X | O | X\n",
      "   |   |\n"
     ]
    }
   ],
   "source": [
    "test_board = ['#','X','O','X','O','X','O','X','O','X']\n",
    "display_board(test_board)"
   ]
  },
  {
   "cell_type": "code",
   "execution_count": 3,
   "id": "328bb849",
   "metadata": {},
   "outputs": [],
   "source": [
    "def player_input():\n",
    "    marker = ''\n",
    "        \n",
    "    while not (marker == 'X' or  marker == 'O'):\n",
    "        marker = input(\"Player 1: Choose X or O: \").upper()\n",
    "        \n",
    "    if marker == 'X':\n",
    "        return ('X','O')\n",
    "    else:\n",
    "        return ('O','X')"
   ]
  },
  {
   "cell_type": "code",
   "execution_count": 4,
   "id": "db78a557",
   "metadata": {},
   "outputs": [
    {
     "name": "stdout",
     "output_type": "stream",
     "text": [
      "Player 1: Choose X or O: x\n"
     ]
    },
    {
     "data": {
      "text/plain": [
       "('X', 'O')"
      ]
     },
     "execution_count": 4,
     "metadata": {},
     "output_type": "execute_result"
    }
   ],
   "source": [
    "player_input()"
   ]
  },
  {
   "cell_type": "code",
   "execution_count": 5,
   "id": "7c5236cb",
   "metadata": {},
   "outputs": [
    {
     "name": "stdout",
     "output_type": "stream",
     "text": [
      "Player 1: Choose X or O: o\n"
     ]
    }
   ],
   "source": [
    "player_1,player_2 = player_input()"
   ]
  },
  {
   "cell_type": "code",
   "execution_count": 6,
   "id": "49b08061",
   "metadata": {},
   "outputs": [
    {
     "data": {
      "text/plain": [
       "'O'"
      ]
     },
     "execution_count": 6,
     "metadata": {},
     "output_type": "execute_result"
    }
   ],
   "source": [
    "player_1"
   ]
  },
  {
   "cell_type": "code",
   "execution_count": 7,
   "id": "0a73b0af",
   "metadata": {},
   "outputs": [
    {
     "data": {
      "text/plain": [
       "'X'"
      ]
     },
     "execution_count": 7,
     "metadata": {},
     "output_type": "execute_result"
    }
   ],
   "source": [
    "player_2"
   ]
  },
  {
   "cell_type": "code",
   "execution_count": 8,
   "id": "a465f2e3",
   "metadata": {},
   "outputs": [],
   "source": [
    "def place_marker(board, marker, position):\n",
    "    \n",
    "    board[position] = marker"
   ]
  },
  {
   "cell_type": "code",
   "execution_count": 9,
   "id": "591a83e4",
   "metadata": {},
   "outputs": [
    {
     "name": "stdout",
     "output_type": "stream",
     "text": [
      "   |   |\n",
      " X | $ | X\n",
      "   |   |\n",
      "----------\n",
      "   |   |\n",
      " O | X | O\n",
      "   |   |\n",
      "----------\n",
      "   |   |\n",
      " X | O | X\n",
      "   |   |\n"
     ]
    }
   ],
   "source": [
    "place_marker(test_board,'$',8)\n",
    "display_board(test_board)"
   ]
  },
  {
   "cell_type": "code",
   "execution_count": 10,
   "id": "cdeb81ec",
   "metadata": {},
   "outputs": [],
   "source": [
    "def win_check(board, mark):\n",
    "    return ((board[7]==board[8]==board[9]==mark)or\n",
    "    (board[4]==board[5]==board[6]==mark) or\n",
    "    (board[1]==board[2]==board[3]==mark) or\n",
    "    (board[7]==board[4]==board[1]==mark) or \n",
    "    (board[8]==board[5]==board[1]==mark) or\n",
    "    (board[9]==board[6]==board[3]==mark) or\n",
    "    (board[7]==board[5]==board[3]==mark) or\n",
    "    (board[9]==board[5]==board[1]==mark))"
   ]
  },
  {
   "cell_type": "code",
   "execution_count": 11,
   "id": "fa04a304",
   "metadata": {},
   "outputs": [
    {
     "name": "stdout",
     "output_type": "stream",
     "text": [
      "   |   |\n",
      " X | $ | X\n",
      "   |   |\n",
      "----------\n",
      "   |   |\n",
      " O | X | O\n",
      "   |   |\n",
      "----------\n",
      "   |   |\n",
      " X | O | X\n",
      "   |   |\n"
     ]
    },
    {
     "data": {
      "text/plain": [
       "True"
      ]
     },
     "execution_count": 11,
     "metadata": {},
     "output_type": "execute_result"
    }
   ],
   "source": [
    "display_board(test_board)\n",
    "win_check(test_board,'X')"
   ]
  },
  {
   "cell_type": "code",
   "execution_count": 12,
   "id": "234e2cfc",
   "metadata": {},
   "outputs": [],
   "source": [
    "def win_check(board, mark):\n",
    "    return ((board[7] == board[8] and board[8] == board[9] and board[9] == mark) or\n",
    "    (board[4] == board[5] and board[5] == board[6] and board[6] == mark) or\n",
    "    (board[1] == board[2] and board[2] == board[3] and board[3] == mark) or\n",
    "    (board[7] == board[4] and board[4] == board[1] and board[1] == mark) or\n",
    "    (board[8] == board[5] and board[5] == board[2] and board[2] == mark) or\n",
    "    (board[9] == board[6] and board[6] == board[3] and board[3] == mark) or\n",
    "    (board[7] == board[5] and board[5] == board[3] and board[3] == mark) or\n",
    "    (board[9] == board[5] and board[5] == board[1] and board[1] == mark))"
   ]
  },
  {
   "cell_type": "code",
   "execution_count": 13,
   "id": "26266e1e",
   "metadata": {},
   "outputs": [
    {
     "name": "stdout",
     "output_type": "stream",
     "text": [
      "   |   |\n",
      " X | $ | X\n",
      "   |   |\n",
      "----------\n",
      "   |   |\n",
      " O | X | O\n",
      "   |   |\n",
      "----------\n",
      "   |   |\n",
      " X | O | X\n",
      "   |   |\n"
     ]
    },
    {
     "data": {
      "text/plain": [
       "True"
      ]
     },
     "execution_count": 13,
     "metadata": {},
     "output_type": "execute_result"
    }
   ],
   "source": [
    "display_board(test_board)\n",
    "win_check(test_board,'X')"
   ]
  },
  {
   "cell_type": "code",
   "execution_count": 14,
   "id": "dbb69acf",
   "metadata": {},
   "outputs": [],
   "source": [
    "import random\n",
    "\n",
    "def choose_first():\n",
    "    \n",
    "    switch = random.randint(0,1)\n",
    "    \n",
    "    if switch == 0:\n",
    "        return 'Player 2'\n",
    "    else:\n",
    "        return 'Player 1'"
   ]
  },
  {
   "cell_type": "code",
   "execution_count": 15,
   "id": "d5bc0266",
   "metadata": {},
   "outputs": [],
   "source": [
    "def space_check(board, position):\n",
    "    \n",
    "    return board[position] == ' '"
   ]
  },
  {
   "cell_type": "code",
   "execution_count": 16,
   "id": "4e32dca5",
   "metadata": {},
   "outputs": [],
   "source": [
    "def full_board_check(board):\n",
    "    \n",
    "    for i in range(1,10):\n",
    "        if space_check(board,i):\n",
    "            return False\n",
    "    return True"
   ]
  },
  {
   "cell_type": "code",
   "execution_count": 17,
   "id": "083e2381",
   "metadata": {},
   "outputs": [],
   "source": [
    "def player_choice(board):\n",
    "    \n",
    "    position = 0\n",
    "    \n",
    "    while position not in [1,2,3,4,5,6,7,8,9] or not space_check(board,position):\n",
    "        position = int(input(\"Enter the position (1-9): \"))\n",
    "    \n",
    "    return position"
   ]
  },
  {
   "cell_type": "code",
   "execution_count": 41,
   "id": "b134c9b4",
   "metadata": {},
   "outputs": [],
   "source": [
    "def replay():\n",
    "    \n",
    "    choice = input(\"Want to play again? (Yes or No): \").lower()\n",
    "    if choice.startswith('y'):\n",
    "        return True\n",
    "    else:\n",
    "        return False"
   ]
  },
  {
   "cell_type": "code",
   "execution_count": 47,
   "id": "f4257e01",
   "metadata": {},
   "outputs": [
    {
     "name": "stdout",
     "output_type": "stream",
     "text": [
      "   |   |\n",
      "   | O |  \n",
      "   |   |\n",
      "----------\n",
      "   |   |\n",
      " X | O |  \n",
      "   |   |\n",
      "----------\n",
      "   |   |\n",
      " X | O |  \n",
      "   |   |\n",
      "Congratulations! Player 2  has won\n",
      "Want to play again? (Yes or No): No\n"
     ]
    }
   ],
   "source": [
    "print(\"Welcome to TIC TAC TOE!\")\n",
    "\n",
    "while True:\n",
    "    \n",
    "    the_board = [\" \"] * 10\n",
    "    \n",
    "    player1_marker,player2_marker = player_input()\n",
    "    \n",
    "    turn  = choose_first()\n",
    "    \n",
    "    print(turn + \" will go first.\")\n",
    "    \n",
    "    play_game = input(\"Do you want to start the game? (Y or N): \").upper()\n",
    "    \n",
    "    if play_game == 'Y':\n",
    "        game_on = True\n",
    "        \n",
    "    else:\n",
    "        game_on = False\n",
    "        \n",
    "    \n",
    "    while game_on:\n",
    "        \n",
    "        if turn == 'Player 1':\n",
    "            display_board(the_board)\n",
    "            position = player_choice(the_board)\n",
    "            place_marker(the_board,player1_marker,position)\n",
    "            \n",
    "            if win_check(the_board,player1_marker):\n",
    "                display_board(the_board)\n",
    "                print(\"Congratulations! Player 1 has won\")\n",
    "                game_on = False\n",
    "                            \n",
    "            \n",
    "            else:\n",
    "                if full_board_check(the_board):\n",
    "                    display_board(the_board)\n",
    "                    print(\"TIE! The game is a draw\")\n",
    "                    break\n",
    "                else:\n",
    "                    turn = 'Player 2'\n",
    "        else:\n",
    "            display_board(the_board)\n",
    "            position = player_choice(the_board)\n",
    "            place_marker(the_board,player2_marker,position)\n",
    "            \n",
    "            if win_check(the_board,player2_marker):\n",
    "                display_board(the_board)\n",
    "                print(\"Congratulations! Player 2  has won\")\n",
    "                game_on = False\n",
    "                            \n",
    "            \n",
    "            else:\n",
    "                if full_board_check(the_board):\n",
    "                    display_board(the_board)\n",
    "                    print(\"TIE! The game is a draw\")\n",
    "                    break\n",
    "                else:\n",
    "                    turn = 'Player 1'\n",
    "        \n",
    "    if not replay():\n",
    "        break\n",
    "        "
   ]
  },
  {
   "cell_type": "code",
   "execution_count": 30,
   "id": "7507fce5",
   "metadata": {},
   "outputs": [],
   "source": [
    "def play_again():\n",
    "    return input('Do you want to play again? Enter Yes or No: ').startswith('y')"
   ]
  },
  {
   "cell_type": "code",
   "execution_count": 31,
   "id": "c195692f",
   "metadata": {},
   "outputs": [
    {
     "name": "stdout",
     "output_type": "stream",
     "text": [
      "Do you want to play again? Enter Yes or No: yes\n"
     ]
    },
    {
     "data": {
      "text/plain": [
       "True"
      ]
     },
     "execution_count": 31,
     "metadata": {},
     "output_type": "execute_result"
    }
   ],
   "source": [
    "play_again()"
   ]
  },
  {
   "cell_type": "code",
   "execution_count": 44,
   "id": "72bb6502",
   "metadata": {},
   "outputs": [
    {
     "name": "stdout",
     "output_type": "stream",
     "text": [
      "Want to play again? (Yes or No): no\n"
     ]
    },
    {
     "data": {
      "text/plain": [
       "False"
      ]
     },
     "execution_count": 44,
     "metadata": {},
     "output_type": "execute_result"
    }
   ],
   "source": [
    "replay()"
   ]
  },
  {
   "cell_type": "code",
   "execution_count": 33,
   "id": "7023d9f4",
   "metadata": {},
   "outputs": [
    {
     "name": "stdout",
     "output_type": "stream",
     "text": [
      "Choose y/n:Y\n"
     ]
    },
    {
     "data": {
      "text/plain": [
       "'y'"
      ]
     },
     "execution_count": 33,
     "metadata": {},
     "output_type": "execute_result"
    }
   ],
   "source": [
    "input(\"Choose y/n:\").lower()"
   ]
  },
  {
   "cell_type": "code",
   "execution_count": null,
   "id": "29a0e921",
   "metadata": {},
   "outputs": [],
   "source": []
  }
 ],
 "metadata": {
  "kernelspec": {
   "display_name": "Python 3 (ipykernel)",
   "language": "python",
   "name": "python3"
  },
  "language_info": {
   "codemirror_mode": {
    "name": "ipython",
    "version": 3
   },
   "file_extension": ".py",
   "mimetype": "text/x-python",
   "name": "python",
   "nbconvert_exporter": "python",
   "pygments_lexer": "ipython3",
   "version": "3.10.9"
  }
 },
 "nbformat": 4,
 "nbformat_minor": 5
}
