{
 "cells": [
  {
   "cell_type": "code",
   "execution_count": 1,
   "id": "09f46d87",
   "metadata": {},
   "outputs": [],
   "source": [
    "# global\n",
    "x = 5\n",
    "\n",
    "def num():\n",
    "    # local\n",
    "    x = 2\n",
    "    print(x)"
   ]
  },
  {
   "cell_type": "code",
   "execution_count": 2,
   "id": "314edd89",
   "metadata": {},
   "outputs": [
    {
     "name": "stdout",
     "output_type": "stream",
     "text": [
      "5\n"
     ]
    }
   ],
   "source": [
    "print(x)"
   ]
  },
  {
   "cell_type": "code",
   "execution_count": 3,
   "id": "445790bb",
   "metadata": {},
   "outputs": [
    {
     "name": "stdout",
     "output_type": "stream",
     "text": [
      "2\n"
     ]
    }
   ],
   "source": [
    "num()"
   ]
  },
  {
   "cell_type": "code",
   "execution_count": 7,
   "id": "61f13e93",
   "metadata": {},
   "outputs": [
    {
     "name": "stdout",
     "output_type": "stream",
     "text": [
      "Hello Local\n"
     ]
    }
   ],
   "source": [
    "string = \"Global\"\n",
    "\n",
    "def enclosing():\n",
    "    \n",
    "    string = \"enclosing local variable\"\n",
    "    \n",
    "    def local():\n",
    "        \n",
    "        string  = \"Local\"\n",
    "         \n",
    "        print(\"Hello \" + string)\n",
    "    \n",
    "    local()\n",
    "enclosing()\n",
    "    "
   ]
  },
  {
   "cell_type": "code",
   "execution_count": 8,
   "id": "9885b9e1",
   "metadata": {},
   "outputs": [
    {
     "name": "stdout",
     "output_type": "stream",
     "text": [
      "Hello enclosing local variable\n"
     ]
    }
   ],
   "source": [
    "string = \"Global\"\n",
    "\n",
    "def enclosing():\n",
    "    \n",
    "    string = \"enclosing local variable\"\n",
    "    \n",
    "    def local():\n",
    "        \n",
    "        #string  = \"Local\"\n",
    "         \n",
    "        print(\"Hello \" + string)\n",
    "    \n",
    "    local()\n",
    "enclosing()\n",
    "    "
   ]
  },
  {
   "cell_type": "code",
   "execution_count": 9,
   "id": "229450c5",
   "metadata": {},
   "outputs": [
    {
     "name": "stdout",
     "output_type": "stream",
     "text": [
      "Hello Global\n"
     ]
    }
   ],
   "source": [
    "string = \"Global\"\n",
    "\n",
    "def enclosing():\n",
    "    \n",
    "    #string = \"enclosing local variable\"\n",
    "    \n",
    "    def local():\n",
    "        \n",
    "        #string  = \"Local\"\n",
    "         \n",
    "        print(\"Hello \" + string)\n",
    "    \n",
    "    local()\n",
    "enclosing()\n",
    "    "
   ]
  },
  {
   "cell_type": "code",
   "execution_count": 10,
   "id": "fbb5e4fe",
   "metadata": {},
   "outputs": [],
   "source": [
    "x = 5\n",
    "\n",
    "def func():\n",
    "    global x\n",
    "    \n",
    "    x = 2\n",
    "    print(x)\n",
    "    \n",
    "    x= 50\n",
    "    print(f'The newly changed value is {x}')"
   ]
  },
  {
   "cell_type": "code",
   "execution_count": 11,
   "id": "58813089",
   "metadata": {},
   "outputs": [
    {
     "name": "stdout",
     "output_type": "stream",
     "text": [
      "5\n"
     ]
    }
   ],
   "source": [
    "print(x)"
   ]
  },
  {
   "cell_type": "code",
   "execution_count": 12,
   "id": "e9cb36c5",
   "metadata": {},
   "outputs": [
    {
     "name": "stdout",
     "output_type": "stream",
     "text": [
      "2\n",
      "The newly changed value is 50\n"
     ]
    }
   ],
   "source": [
    "x = func()"
   ]
  },
  {
   "cell_type": "code",
   "execution_count": 13,
   "id": "828424dc",
   "metadata": {},
   "outputs": [],
   "source": [
    "x = 5\n",
    "\n",
    "def func(x):\n",
    "    x = 2\n",
    "    print(x)\n",
    "    \n",
    "    x= 50\n",
    "    print(f'The newly changed value is {x}')\n",
    "    \n",
    "    return x"
   ]
  },
  {
   "cell_type": "code",
   "execution_count": 14,
   "id": "e6480b9b",
   "metadata": {},
   "outputs": [
    {
     "name": "stdout",
     "output_type": "stream",
     "text": [
      "5\n"
     ]
    }
   ],
   "source": [
    "print(x)"
   ]
  },
  {
   "cell_type": "code",
   "execution_count": 15,
   "id": "fb4785c2",
   "metadata": {},
   "outputs": [
    {
     "name": "stdout",
     "output_type": "stream",
     "text": [
      "2\n",
      "The newly changed value is 50\n"
     ]
    }
   ],
   "source": [
    "x = func(x)"
   ]
  },
  {
   "cell_type": "code",
   "execution_count": 16,
   "id": "68520d62",
   "metadata": {},
   "outputs": [
    {
     "data": {
      "text/plain": [
       "50"
      ]
     },
     "execution_count": 16,
     "metadata": {},
     "output_type": "execute_result"
    }
   ],
   "source": [
    "x"
   ]
  },
  {
   "cell_type": "markdown",
   "id": "83109bdd",
   "metadata": {},
   "source": [
    "Here the LEGB rule take place. First the local varibale will be checked if not available then Enclosing function variable will be checked if not available then global variable will be checked and if all these are not available then built-in comes in picture which will display some kind of range or syntax error."
   ]
  },
  {
   "cell_type": "code",
   "execution_count": null,
   "id": "59ed4c40",
   "metadata": {},
   "outputs": [],
   "source": []
  }
 ],
 "metadata": {
  "kernelspec": {
   "display_name": "Python 3 (ipykernel)",
   "language": "python",
   "name": "python3"
  },
  "language_info": {
   "codemirror_mode": {
    "name": "ipython",
    "version": 3
   },
   "file_extension": ".py",
   "mimetype": "text/x-python",
   "name": "python",
   "nbconvert_exporter": "python",
   "pygments_lexer": "ipython3",
   "version": "3.10.9"
  }
 },
 "nbformat": 4,
 "nbformat_minor": 5
}
