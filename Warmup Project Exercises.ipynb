{
 "cells": [
  {
   "cell_type": "markdown",
   "id": "07009c97",
   "metadata": {},
   "source": [
    "# Displaying Information"
   ]
  },
  {
   "cell_type": "code",
   "execution_count": 1,
   "id": "63444f77",
   "metadata": {},
   "outputs": [
    {
     "name": "stdout",
     "output_type": "stream",
     "text": [
      "[1, 2, 3]\n"
     ]
    }
   ],
   "source": [
    "print([1,2,3])"
   ]
  },
  {
   "cell_type": "code",
   "execution_count": 2,
   "id": "3090f98c",
   "metadata": {},
   "outputs": [
    {
     "name": "stdout",
     "output_type": "stream",
     "text": [
      "[1, 2, 3]\n",
      "[4, 5, 6]\n",
      "[7, 8, 9]\n"
     ]
    }
   ],
   "source": [
    "print([1,2,3])\n",
    "print([4,5,6])\n",
    "print([7,8,9])"
   ]
  },
  {
   "cell_type": "code",
   "execution_count": 3,
   "id": "f09a5f96",
   "metadata": {},
   "outputs": [],
   "source": [
    "row1 = [1,2,3]\n",
    "row2 = [4,5,6]\n",
    "row3 = [7,8,9]"
   ]
  },
  {
   "cell_type": "code",
   "execution_count": 4,
   "id": "4fed7892",
   "metadata": {},
   "outputs": [],
   "source": [
    "def display(row1,row2,row3):\n",
    "    print(row1)\n",
    "    print(row2)\n",
    "    print(row3)"
   ]
  },
  {
   "cell_type": "code",
   "execution_count": 5,
   "id": "c8710924",
   "metadata": {},
   "outputs": [
    {
     "name": "stdout",
     "output_type": "stream",
     "text": [
      "[1, 2, 3]\n",
      "[4, 5, 6]\n",
      "[7, 8, 9]\n"
     ]
    }
   ],
   "source": [
    "display(row1,row2,row3)"
   ]
  },
  {
   "cell_type": "code",
   "execution_count": 6,
   "id": "e45b516c",
   "metadata": {},
   "outputs": [],
   "source": [
    "r1 = [' ',' ',' ']\n",
    "r2 = [' ',' ',' ']\n",
    "r3 = [' ',' ',' ']"
   ]
  },
  {
   "cell_type": "code",
   "execution_count": 7,
   "id": "77243a29",
   "metadata": {},
   "outputs": [
    {
     "name": "stdout",
     "output_type": "stream",
     "text": [
      "[' ', ' ', ' ']\n",
      "[' ', ' ', ' ']\n",
      "[' ', ' ', ' ']\n"
     ]
    }
   ],
   "source": [
    "display(r1,r2,r3)"
   ]
  },
  {
   "cell_type": "code",
   "execution_count": 8,
   "id": "82299f8e",
   "metadata": {},
   "outputs": [
    {
     "name": "stdout",
     "output_type": "stream",
     "text": [
      "[' ', ' ', ' ']\n",
      "[' ', 'X', ' ']\n",
      "[' ', ' ', ' ']\n"
     ]
    }
   ],
   "source": [
    "r2[1] = 'X'\n",
    "display(r1,r2,r3)"
   ]
  },
  {
   "cell_type": "markdown",
   "id": "096b6a84",
   "metadata": {},
   "source": [
    "# Accepting User Input"
   ]
  },
  {
   "cell_type": "code",
   "execution_count": 9,
   "id": "f8501202",
   "metadata": {},
   "outputs": [
    {
     "name": "stdout",
     "output_type": "stream",
     "text": [
      "Enter a number: 5\n"
     ]
    }
   ],
   "source": [
    "choice = input(\"Enter a number: \")"
   ]
  },
  {
   "cell_type": "code",
   "execution_count": 10,
   "id": "f372b68b",
   "metadata": {},
   "outputs": [
    {
     "data": {
      "text/plain": [
       "str"
      ]
     },
     "execution_count": 10,
     "metadata": {},
     "output_type": "execute_result"
    }
   ],
   "source": [
    "type(choice)"
   ]
  },
  {
   "cell_type": "code",
   "execution_count": 11,
   "id": "e8817421",
   "metadata": {},
   "outputs": [
    {
     "data": {
      "text/plain": [
       "'5'"
      ]
     },
     "execution_count": 11,
     "metadata": {},
     "output_type": "execute_result"
    }
   ],
   "source": [
    "choice"
   ]
  },
  {
   "cell_type": "code",
   "execution_count": 12,
   "id": "6d8e5c22",
   "metadata": {},
   "outputs": [
    {
     "data": {
      "text/plain": [
       "5"
      ]
     },
     "execution_count": 12,
     "metadata": {},
     "output_type": "execute_result"
    }
   ],
   "source": [
    "int(choice)"
   ]
  },
  {
   "cell_type": "code",
   "execution_count": 13,
   "id": "2fdf3489",
   "metadata": {},
   "outputs": [
    {
     "name": "stdout",
     "output_type": "stream",
     "text": [
      "Enter a number: 5\n"
     ]
    }
   ],
   "source": [
    "choice = int(input(\"Enter a number: \"))"
   ]
  },
  {
   "cell_type": "code",
   "execution_count": 14,
   "id": "3f638efc",
   "metadata": {},
   "outputs": [
    {
     "data": {
      "text/plain": [
       "int"
      ]
     },
     "execution_count": 14,
     "metadata": {},
     "output_type": "execute_result"
    }
   ],
   "source": [
    "type(choice)"
   ]
  },
  {
   "cell_type": "markdown",
   "id": "1b31865a",
   "metadata": {},
   "source": [
    "# Validating User Input"
   ]
  },
  {
   "cell_type": "code",
   "execution_count": 15,
   "id": "9364a582",
   "metadata": {},
   "outputs": [],
   "source": [
    "def take_input():\n",
    "    \n",
    "    choice = input(\"Enter a number between 0-9: \")\n",
    "    \n",
    "    return int(choice)"
   ]
  },
  {
   "cell_type": "code",
   "execution_count": 16,
   "id": "a7a3f75d",
   "metadata": {},
   "outputs": [
    {
     "data": {
      "text/plain": [
       "<function __main__.take_input()>"
      ]
     },
     "execution_count": 16,
     "metadata": {},
     "output_type": "execute_result"
    }
   ],
   "source": [
    "take_input"
   ]
  },
  {
   "cell_type": "code",
   "execution_count": 17,
   "id": "a6ee393b",
   "metadata": {},
   "outputs": [
    {
     "name": "stdout",
     "output_type": "stream",
     "text": [
      "Enter a number between 0-9: 5\n"
     ]
    },
    {
     "data": {
      "text/plain": [
       "5"
      ]
     },
     "execution_count": 17,
     "metadata": {},
     "output_type": "execute_result"
    }
   ],
   "source": [
    "take_input()"
   ]
  },
  {
   "cell_type": "code",
   "execution_count": 18,
   "id": "8c431cd7",
   "metadata": {},
   "outputs": [
    {
     "name": "stdout",
     "output_type": "stream",
     "text": [
      "Enter a number between 0-9: 100\n"
     ]
    },
    {
     "data": {
      "text/plain": [
       "100"
      ]
     },
     "execution_count": 18,
     "metadata": {},
     "output_type": "execute_result"
    }
   ],
   "source": [
    "take_input()"
   ]
  },
  {
   "cell_type": "code",
   "execution_count": 19,
   "id": "588a92b9",
   "metadata": {},
   "outputs": [],
   "source": [
    "def take_input1():\n",
    "    choice = \"OOPS\"\n",
    "    \n",
    "    while choice.isdigit() == False:\n",
    "        \n",
    "        choice = input(\"Enter a number between 0-9: \")\n",
    "        if choice.isdigit() == False:\n",
    "            print('Sorry! It is not a digit')\n",
    "    \n",
    "    \n",
    "    \n",
    "    return int(choice)"
   ]
  },
  {
   "cell_type": "code",
   "execution_count": 20,
   "id": "1e10faab",
   "metadata": {},
   "outputs": [
    {
     "name": "stdout",
     "output_type": "stream",
     "text": [
      "Enter a number between 0-9: three\n",
      "Sorry! It is not a digit\n",
      "Enter a number between 0-9: 5\n"
     ]
    },
    {
     "data": {
      "text/plain": [
       "5"
      ]
     },
     "execution_count": 20,
     "metadata": {},
     "output_type": "execute_result"
    }
   ],
   "source": [
    "take_input1()"
   ]
  },
  {
   "cell_type": "code",
   "execution_count": 23,
   "id": "67dcad26",
   "metadata": {},
   "outputs": [],
   "source": [
    "def take_input2():\n",
    "    # Default value for choice\n",
    "    choice = \"OOPS\"\n",
    "    # acceptable range values\n",
    "    acceptable_range = range(0,10)\n",
    "    # initially with_ in range is false\n",
    "    with_in_range = False\n",
    "    # While Loop\n",
    "    while choice.isdigit() == False or  with_in_range == False:\n",
    "        # input function\n",
    "        choice = input(\"Enter a number between 0-9: \")\n",
    "        # if statement for checking whether the input is digit or not\n",
    "        if choice.isdigit() == False:\n",
    "            \n",
    "            print('Sorry! It is not a digit')\n",
    "        \n",
    "        # if statement for checking whether the input is digit or not\n",
    "        if choice.isdigit() == True:\n",
    "            # if statement for checking whether the input is in acceptable range or not\n",
    "            if int(choice) in acceptable_range:\n",
    "                \n",
    "                with_in_range = True\n",
    "            \n",
    "            else:\n",
    "                print(\"The given input is not in the acceptable range\")\n",
    "                with_in_range = False\n",
    "    \n",
    "    \n",
    "    # Returning inout in form of integer\n",
    "    return int(choice)"
   ]
  },
  {
   "cell_type": "code",
   "execution_count": 24,
   "id": "2dda91b2",
   "metadata": {},
   "outputs": [
    {
     "name": "stdout",
     "output_type": "stream",
     "text": [
      "Enter a number between 0-9: three\n",
      "Sorry! It is not a digit\n",
      "Enter a number between 0-9: 100\n",
      "The given input is not in the acceptable range\n",
      "Enter a number between 0-9: 5\n"
     ]
    },
    {
     "data": {
      "text/plain": [
       "5"
      ]
     },
     "execution_count": 24,
     "metadata": {},
     "output_type": "execute_result"
    }
   ],
   "source": [
    "take_input2()"
   ]
  },
  {
   "cell_type": "code",
   "execution_count": null,
   "id": "08d890cf",
   "metadata": {},
   "outputs": [],
   "source": []
  }
 ],
 "metadata": {
  "kernelspec": {
   "display_name": "Python 3 (ipykernel)",
   "language": "python",
   "name": "python3"
  },
  "language_info": {
   "codemirror_mode": {
    "name": "ipython",
    "version": 3
   },
   "file_extension": ".py",
   "mimetype": "text/x-python",
   "name": "python",
   "nbconvert_exporter": "python",
   "pygments_lexer": "ipython3",
   "version": "3.10.9"
  }
 },
 "nbformat": 4,
 "nbformat_minor": 5
}
