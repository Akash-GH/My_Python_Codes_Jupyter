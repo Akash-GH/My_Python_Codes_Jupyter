{
 "cells": [
  {
   "cell_type": "code",
   "execution_count": 1,
   "id": "275ea277",
   "metadata": {},
   "outputs": [
    {
     "data": {
      "text/plain": [
       "'My Name is Akash'"
      ]
     },
     "execution_count": 1,
     "metadata": {},
     "output_type": "execute_result"
    }
   ],
   "source": [
    "'My Name is Akash'"
   ]
  },
  {
   "cell_type": "code",
   "execution_count": 2,
   "id": "2692c18f",
   "metadata": {},
   "outputs": [
    {
     "data": {
      "text/plain": [
       "16"
      ]
     },
     "execution_count": 2,
     "metadata": {},
     "output_type": "execute_result"
    }
   ],
   "source": [
    "len('My Name is Akash')"
   ]
  },
  {
   "cell_type": "code",
   "execution_count": 3,
   "id": "458809ce",
   "metadata": {},
   "outputs": [
    {
     "data": {
      "text/plain": [
       "\"I'm a student\""
      ]
     },
     "execution_count": 3,
     "metadata": {},
     "output_type": "execute_result"
    }
   ],
   "source": [
    "\"I'm a student\""
   ]
  },
  {
   "cell_type": "code",
   "execution_count": 4,
   "id": "efec2f1a",
   "metadata": {},
   "outputs": [
    {
     "data": {
      "text/plain": [
       "\"I'm 21 years old\""
      ]
     },
     "execution_count": 4,
     "metadata": {},
     "output_type": "execute_result"
    }
   ],
   "source": [
    "\"My Name is Akash\"\n",
    "\"I'm 21 years old\""
   ]
  },
  {
   "cell_type": "markdown",
   "id": "f3af6f3f",
   "metadata": {},
   "source": [
    "here you can see only the second string output take place but I wanted both the string to be show. To solve this problem we will use print() function whioch is a built in function  in python and used to print the strings. as we see below:"
   ]
  },
  {
   "cell_type": "code",
   "execution_count": 5,
   "id": "3bad23f8",
   "metadata": {},
   "outputs": [
    {
     "name": "stdout",
     "output_type": "stream",
     "text": [
      "My Name is Akash\n",
      "I'm 21 years old\n"
     ]
    }
   ],
   "source": [
    "print(\"My Name is Akash\")\n",
    "print(\"I'm 21 years old\")"
   ]
  },
  {
   "cell_type": "code",
   "execution_count": 6,
   "id": "e1bd28a0",
   "metadata": {},
   "outputs": [
    {
     "data": {
      "text/plain": [
       "16"
      ]
     },
     "execution_count": 6,
     "metadata": {},
     "output_type": "execute_result"
    }
   ],
   "source": [
    "len(\"My Name is Akash\")"
   ]
  },
  {
   "cell_type": "code",
   "execution_count": 7,
   "id": "e4a45432",
   "metadata": {},
   "outputs": [
    {
     "data": {
      "text/plain": [
       "16"
      ]
     },
     "execution_count": 7,
     "metadata": {},
     "output_type": "execute_result"
    }
   ],
   "source": [
    "len(\"I'm 21 years old\")"
   ]
  },
  {
   "cell_type": "code",
   "execution_count": 10,
   "id": "7135ba83",
   "metadata": {},
   "outputs": [
    {
     "name": "stdout",
     "output_type": "stream",
     "text": [
      "My Name is Akash \n",
      "I'm 21 years old\n"
     ]
    }
   ],
   "source": [
    "print(\"My Name is Akash \\nI'm 21 years old\")"
   ]
  },
  {
   "cell_type": "code",
   "execution_count": 11,
   "id": "6049804d",
   "metadata": {},
   "outputs": [
    {
     "name": "stdout",
     "output_type": "stream",
     "text": [
      "My Name is Akash \tI'm 21 years old\n"
     ]
    }
   ],
   "source": [
    "print(\"My Name is Akash \\tI'm 21 years old\")"
   ]
  },
  {
   "cell_type": "markdown",
   "id": "ac325591",
   "metadata": {},
   "source": [
    "\\n for new line and \\t for tab which means 4 spaces"
   ]
  },
  {
   "cell_type": "markdown",
   "id": "a2c0accd",
   "metadata": {},
   "source": [
    "# Indexing "
   ]
  },
  {
   "cell_type": "code",
   "execution_count": 12,
   "id": "356901aa",
   "metadata": {},
   "outputs": [],
   "source": [
    "mystring = \"Hello World\""
   ]
  },
  {
   "cell_type": "code",
   "execution_count": 13,
   "id": "f9c1743e",
   "metadata": {},
   "outputs": [
    {
     "data": {
      "text/plain": [
       "'Hello World'"
      ]
     },
     "execution_count": 13,
     "metadata": {},
     "output_type": "execute_result"
    }
   ],
   "source": [
    "mystring"
   ]
  },
  {
   "cell_type": "code",
   "execution_count": 14,
   "id": "001fee3e",
   "metadata": {},
   "outputs": [
    {
     "data": {
      "text/plain": [
       "'H'"
      ]
     },
     "execution_count": 14,
     "metadata": {},
     "output_type": "execute_result"
    }
   ],
   "source": [
    "mystring[0]"
   ]
  },
  {
   "cell_type": "code",
   "execution_count": 16,
   "id": "bc244d5a",
   "metadata": {},
   "outputs": [
    {
     "data": {
      "text/plain": [
       "'d'"
      ]
     },
     "execution_count": 16,
     "metadata": {},
     "output_type": "execute_result"
    }
   ],
   "source": [
    "mystring[10]"
   ]
  },
  {
   "cell_type": "code",
   "execution_count": 17,
   "id": "41b74234",
   "metadata": {},
   "outputs": [
    {
     "data": {
      "text/plain": [
       "'d'"
      ]
     },
     "execution_count": 17,
     "metadata": {},
     "output_type": "execute_result"
    }
   ],
   "source": [
    "mystring[-1]"
   ]
  },
  {
   "cell_type": "markdown",
   "id": "2be449b4",
   "metadata": {},
   "source": [
    "here variable name  mystring is assigned with string: \"Hello World\" each character is given an index number H-0, e-1, l-2, l-3, o-4, 5, W-6, o-7, r-8, l-9, d-10.\n",
    "By using this index numbers indexing can be done.\n",
    "Reverse indexing can be used to get the last character when the string is so long that one cannot count."
   ]
  },
  {
   "cell_type": "markdown",
   "id": "7d1a8571",
   "metadata": {},
   "source": [
    "# Slicing"
   ]
  },
  {
   "cell_type": "code",
   "execution_count": 2,
   "id": "d1ec38dc",
   "metadata": {},
   "outputs": [],
   "source": [
    "alphabet = \"abcdefghijklmnopqrstuvwxyz\""
   ]
  },
  {
   "cell_type": "code",
   "execution_count": 19,
   "id": "0c0c5892",
   "metadata": {},
   "outputs": [
    {
     "data": {
      "text/plain": [
       "26"
      ]
     },
     "execution_count": 19,
     "metadata": {},
     "output_type": "execute_result"
    }
   ],
   "source": [
    "len(alphabet)"
   ]
  },
  {
   "cell_type": "code",
   "execution_count": 20,
   "id": "195f9ccf",
   "metadata": {},
   "outputs": [
    {
     "data": {
      "text/plain": [
       "'cdefghijklmnopqrstuvwxyz'"
      ]
     },
     "execution_count": 20,
     "metadata": {},
     "output_type": "execute_result"
    }
   ],
   "source": [
    "alphabet[2:]"
   ]
  },
  {
   "cell_type": "markdown",
   "id": "2dd578ac",
   "metadata": {},
   "source": [
    "Here from 2nd index character till the end will get on output"
   ]
  },
  {
   "cell_type": "code",
   "execution_count": 21,
   "id": "c7f93da8",
   "metadata": {},
   "outputs": [
    {
     "data": {
      "text/plain": [
       "'abcdefg'"
      ]
     },
     "execution_count": 21,
     "metadata": {},
     "output_type": "execute_result"
    }
   ],
   "source": [
    "alphabet[:7]"
   ]
  },
  {
   "cell_type": "markdown",
   "id": "8cce2179",
   "metadata": {},
   "source": [
    "Here from starting index upto 7th index will be shown in output."
   ]
  },
  {
   "cell_type": "code",
   "execution_count": 22,
   "id": "566a21eb",
   "metadata": {},
   "outputs": [
    {
     "data": {
      "text/plain": [
       "'acegikmoqsuwy'"
      ]
     },
     "execution_count": 22,
     "metadata": {},
     "output_type": "execute_result"
    }
   ],
   "source": [
    "alphabet[::2]"
   ]
  },
  {
   "cell_type": "markdown",
   "id": "38b40977",
   "metadata": {},
   "source": [
    "Here step size of 2 will make the characters jump from one character to another leaving odd indexes. "
   ]
  },
  {
   "cell_type": "code",
   "execution_count": 23,
   "id": "d29e1437",
   "metadata": {},
   "outputs": [
    {
     "data": {
      "text/plain": [
       "'bdfhjlnprtvx'"
      ]
     },
     "execution_count": 23,
     "metadata": {},
     "output_type": "execute_result"
    }
   ],
   "source": [
    "# Here Reverse indexing is used which is useful in case of long strings inorder tof ind the last character\n",
    "alphabet[1:-1:2]"
   ]
  },
  {
   "cell_type": "markdown",
   "id": "67e52d41",
   "metadata": {},
   "source": [
    "Here stringname[start:stop:step] starting index, index upto which character and how long to jump. By using start,stop and step from one index to a particular index and how long a jump it will make all can be decided."
   ]
  },
  {
   "cell_type": "markdown",
   "id": "2b4f8c6d",
   "metadata": {},
   "source": [
    "# String properties and methods"
   ]
  },
  {
   "cell_type": "code",
   "execution_count": 25,
   "id": "ce981f99",
   "metadata": {},
   "outputs": [],
   "source": [
    "#String Concentation \n",
    "Name = \"Akash\"\n",
    "x= Name[1:]"
   ]
  },
  {
   "cell_type": "code",
   "execution_count": 26,
   "id": "f64cadf5",
   "metadata": {},
   "outputs": [
    {
     "data": {
      "text/plain": [
       "'Prakash'"
      ]
     },
     "execution_count": 26,
     "metadata": {},
     "output_type": "execute_result"
    }
   ],
   "source": [
    "\"Pra\" + x"
   ]
  },
  {
   "cell_type": "code",
   "execution_count": 28,
   "id": "d59367e6",
   "metadata": {},
   "outputs": [
    {
     "data": {
      "text/plain": [
       "'AKASH'"
      ]
     },
     "execution_count": 28,
     "metadata": {},
     "output_type": "execute_result"
    }
   ],
   "source": [
    "# used to capitalize\n",
    "Name.upper()"
   ]
  },
  {
   "cell_type": "code",
   "execution_count": 29,
   "id": "18422ebe",
   "metadata": {},
   "outputs": [
    {
     "data": {
      "text/plain": [
       "'akash'"
      ]
     },
     "execution_count": 29,
     "metadata": {},
     "output_type": "execute_result"
    }
   ],
   "source": [
    "# used to convert into smallcase\n",
    "Name.lower()"
   ]
  },
  {
   "cell_type": "code",
   "execution_count": 30,
   "id": "9b022cea",
   "metadata": {},
   "outputs": [],
   "source": [
    "# used to split \n",
    "myname = \"Akash Mishra\""
   ]
  },
  {
   "cell_type": "code",
   "execution_count": 31,
   "id": "7899cd11",
   "metadata": {},
   "outputs": [
    {
     "data": {
      "text/plain": [
       "['Akash', 'Mishra']"
      ]
     },
     "execution_count": 31,
     "metadata": {},
     "output_type": "execute_result"
    }
   ],
   "source": [
    "myname.split()"
   ]
  },
  {
   "cell_type": "code",
   "execution_count": 32,
   "id": "b3f4fa8d",
   "metadata": {},
   "outputs": [
    {
     "data": {
      "text/plain": [
       "['Ak', 'sh Mishr', '']"
      ]
     },
     "execution_count": 32,
     "metadata": {},
     "output_type": "execute_result"
    }
   ],
   "source": [
    "# spliting on the basis of letter \"a\"\n",
    "myname.split(\"a\")"
   ]
  },
  {
   "cell_type": "code",
   "execution_count": 33,
   "id": "ecc89bfb",
   "metadata": {},
   "outputs": [
    {
     "data": {
      "text/plain": [
       "'My name is Akash Mishra'"
      ]
     },
     "execution_count": 33,
     "metadata": {},
     "output_type": "execute_result"
    }
   ],
   "source": [
    "# string concatenation\n",
    "\"My name is \" + myname"
   ]
  },
  {
   "cell_type": "code",
   "execution_count": 36,
   "id": "cc5281d7",
   "metadata": {},
   "outputs": [],
   "source": [
    "beesound = 'z' * 100"
   ]
  },
  {
   "cell_type": "code",
   "execution_count": 37,
   "id": "9d7dfd1d",
   "metadata": {},
   "outputs": [
    {
     "data": {
      "text/plain": [
       "'zzzzzzzzzzzzzzzzzzzzzzzzzzzzzzzzzzzzzzzzzzzzzzzzzzzzzzzzzzzzzzzzzzzzzzzzzzzzzzzzzzzzzzzzzzzzzzzzzzzz'"
      ]
     },
     "execution_count": 37,
     "metadata": {},
     "output_type": "execute_result"
    }
   ],
   "source": [
    "beesound"
   ]
  },
  {
   "cell_type": "markdown",
   "id": "546e83fc",
   "metadata": {},
   "source": [
    "# Print formatting with Strings"
   ]
  },
  {
   "cell_type": "code",
   "execution_count": 38,
   "id": "9c224b5f",
   "metadata": {},
   "outputs": [
    {
     "name": "stdout",
     "output_type": "stream",
     "text": [
      "Today is Thursday\n"
     ]
    }
   ],
   "source": [
    "# .format() method\n",
    "print(\"Today is {}\".format(\"Thursday\"))"
   ]
  },
  {
   "cell_type": "code",
   "execution_count": 40,
   "id": "e449bf27",
   "metadata": {},
   "outputs": [
    {
     "name": "stdout",
     "output_type": "stream",
     "text": [
      "The weekdays are Monday, Tuesday, Wednesday, Thursday, and Friday\n"
     ]
    }
   ],
   "source": [
    "print(\"The weekdays are {}, {}, {}, {}, and {}\".format(\"Monday\",\"Tuesday\",\"Wednesday\",\"Thursday\",\"Friday\"))"
   ]
  },
  {
   "cell_type": "code",
   "execution_count": 41,
   "id": "4b06a108",
   "metadata": {},
   "outputs": [
    {
     "name": "stdout",
     "output_type": "stream",
     "text": [
      "The weekdays are Monday, Tuesday, Wednesday, Thursday, and Friday\n"
     ]
    }
   ],
   "source": [
    "print(\"The weekdays are {0}, {1}, {2}, {3}, and {4}\".format(\"Monday\",\"Tuesday\",\"Wednesday\",\"Thursday\",\"Friday\"))"
   ]
  },
  {
   "cell_type": "code",
   "execution_count": 42,
   "id": "a407d675",
   "metadata": {},
   "outputs": [
    {
     "name": "stdout",
     "output_type": "stream",
     "text": [
      "The weekdays are Monday, Tuesday, Wednesday, Thursday, and Friday\n"
     ]
    }
   ],
   "source": [
    "print(\"The weekdays are {M}, {T}, {W}, {TH}, and {F}\".format(M = \"Monday\",T =\"Tuesday\",W = \"Wednesday\",TH =\"Thursday\",F = \"Friday\"))"
   ]
  },
  {
   "cell_type": "code",
   "execution_count": 44,
   "id": "2154b49d",
   "metadata": {},
   "outputs": [],
   "source": [
    "# Floating point number formatting\n",
    "result = 127/8"
   ]
  },
  {
   "cell_type": "code",
   "execution_count": 45,
   "id": "ffc796a2",
   "metadata": {},
   "outputs": [
    {
     "data": {
      "text/plain": [
       "15.875"
      ]
     },
     "execution_count": 45,
     "metadata": {},
     "output_type": "execute_result"
    }
   ],
   "source": [
    "result"
   ]
  },
  {
   "cell_type": "code",
   "execution_count": 46,
   "id": "86bc77bf",
   "metadata": {},
   "outputs": [],
   "source": [
    "a = 343/6"
   ]
  },
  {
   "cell_type": "code",
   "execution_count": 47,
   "id": "4ae4b8e0",
   "metadata": {},
   "outputs": [
    {
     "data": {
      "text/plain": [
       "57.166666666666664"
      ]
     },
     "execution_count": 47,
     "metadata": {},
     "output_type": "execute_result"
    }
   ],
   "source": [
    "a"
   ]
  },
  {
   "cell_type": "code",
   "execution_count": 48,
   "id": "c8a656fc",
   "metadata": {},
   "outputs": [
    {
     "name": "stdout",
     "output_type": "stream",
     "text": [
      "The result is 57.166666666666664\n"
     ]
    }
   ],
   "source": [
    "print(\"The result is {}\".format(a))"
   ]
  },
  {
   "cell_type": "code",
   "execution_count": 49,
   "id": "256f1a86",
   "metadata": {},
   "outputs": [],
   "source": [
    "result = a"
   ]
  },
  {
   "cell_type": "code",
   "execution_count": 50,
   "id": "42373b07",
   "metadata": {},
   "outputs": [
    {
     "data": {
      "text/plain": [
       "57.166666666666664"
      ]
     },
     "execution_count": 50,
     "metadata": {},
     "output_type": "execute_result"
    }
   ],
   "source": [
    "result"
   ]
  },
  {
   "cell_type": "code",
   "execution_count": 51,
   "id": "65faa303",
   "metadata": {},
   "outputs": [
    {
     "name": "stdout",
     "output_type": "stream",
     "text": [
      "The result is 57.1667\n"
     ]
    }
   ],
   "source": [
    "print(\"The result is {r:1.4f}\".format(r = result))"
   ]
  },
  {
   "cell_type": "code",
   "execution_count": 52,
   "id": "3eede2d3",
   "metadata": {},
   "outputs": [],
   "source": [
    "# f-strings\n",
    "College = \"PCE\""
   ]
  },
  {
   "cell_type": "code",
   "execution_count": 53,
   "id": "9a240dc4",
   "metadata": {},
   "outputs": [
    {
     "name": "stdout",
     "output_type": "stream",
     "text": [
      "I study in PCE\n"
     ]
    }
   ],
   "source": [
    "print(\"I study in {}\".format(College))"
   ]
  },
  {
   "cell_type": "code",
   "execution_count": 54,
   "id": "a8eaa2c7",
   "metadata": {},
   "outputs": [
    {
     "name": "stdout",
     "output_type": "stream",
     "text": [
      "I study in PCE\n"
     ]
    }
   ],
   "source": [
    "print(f\"I study in {College}\")"
   ]
  },
  {
   "cell_type": "code",
   "execution_count": 55,
   "id": "43900aae",
   "metadata": {},
   "outputs": [],
   "source": [
    "Degree = \"BTech\"\n",
    "Course = \"EXTC Engineering\""
   ]
  },
  {
   "cell_type": "code",
   "execution_count": 56,
   "id": "6e471586",
   "metadata": {},
   "outputs": [
    {
     "name": "stdout",
     "output_type": "stream",
     "text": [
      "I am pursuing BTech in EXTC Engineering\n"
     ]
    }
   ],
   "source": [
    "print(f\"I am pursuing {Degree} in {Course}\")"
   ]
  },
  {
   "cell_type": "markdown",
   "id": "270b34b5",
   "metadata": {},
   "source": [
    "Here .format() method, floating point numbers formatting {value:width.precisonf} and f-strings are used for print formatting with strings"
   ]
  },
  {
   "cell_type": "code",
   "execution_count": 3,
   "id": "0be7aea4",
   "metadata": {},
   "outputs": [
    {
     "data": {
      "text/plain": [
       "'zyxwvutsrqponmlkjihgfedcba'"
      ]
     },
     "execution_count": 3,
     "metadata": {},
     "output_type": "execute_result"
    }
   ],
   "source": [
    "#Reversing the string\n",
    "alphabet[::-1]"
   ]
  },
  {
   "cell_type": "code",
   "execution_count": null,
   "id": "ea2ccc40",
   "metadata": {},
   "outputs": [],
   "source": []
  }
 ],
 "metadata": {
  "kernelspec": {
   "display_name": "Python 3 (ipykernel)",
   "language": "python",
   "name": "python3"
  },
  "language_info": {
   "codemirror_mode": {
    "name": "ipython",
    "version": 3
   },
   "file_extension": ".py",
   "mimetype": "text/x-python",
   "name": "python",
   "nbconvert_exporter": "python",
   "pygments_lexer": "ipython3",
   "version": "3.10.9"
  }
 },
 "nbformat": 4,
 "nbformat_minor": 5
}
