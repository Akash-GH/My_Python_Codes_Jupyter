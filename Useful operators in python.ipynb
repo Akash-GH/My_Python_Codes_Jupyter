{
 "cells": [
  {
   "cell_type": "code",
   "execution_count": 1,
   "id": "c5c13c0f",
   "metadata": {},
   "outputs": [],
   "source": [
    "mylist = [0,1,2,3,4,5,6,7,8,9,10]"
   ]
  },
  {
   "cell_type": "code",
   "execution_count": 2,
   "id": "62346bb6",
   "metadata": {},
   "outputs": [
    {
     "data": {
      "text/plain": [
       "[0, 1, 2, 3, 4, 5, 6, 7, 8, 9, 10]"
      ]
     },
     "execution_count": 2,
     "metadata": {},
     "output_type": "execute_result"
    }
   ],
   "source": [
    "mylist"
   ]
  },
  {
   "cell_type": "code",
   "execution_count": 7,
   "id": "53f9704d",
   "metadata": {},
   "outputs": [],
   "source": [
    "# Range: it is used to make range of numbers. range(start,stop,step size)\n",
    "mylist = list(range(0,11))"
   ]
  },
  {
   "cell_type": "code",
   "execution_count": 8,
   "id": "d46cf89d",
   "metadata": {},
   "outputs": [
    {
     "data": {
      "text/plain": [
       "[0, 1, 2, 3, 4, 5, 6, 7, 8, 9, 10]"
      ]
     },
     "execution_count": 8,
     "metadata": {},
     "output_type": "execute_result"
    }
   ],
   "source": [
    "mylist"
   ]
  },
  {
   "cell_type": "code",
   "execution_count": 9,
   "id": "62fb0914",
   "metadata": {},
   "outputs": [
    {
     "name": "stdout",
     "output_type": "stream",
     "text": [
      "1\n",
      "2\n",
      "3\n",
      "4\n",
      "5\n",
      "6\n",
      "7\n",
      "8\n",
      "9\n"
     ]
    }
   ],
   "source": [
    "for num in range(1,10):\n",
    "    print(num)"
   ]
  },
  {
   "cell_type": "code",
   "execution_count": 10,
   "id": "ec8f4731",
   "metadata": {},
   "outputs": [
    {
     "name": "stdout",
     "output_type": "stream",
     "text": [
      "1\n",
      "3\n",
      "5\n",
      "7\n",
      "9\n"
     ]
    }
   ],
   "source": [
    "for num in range(1,10,2):\n",
    "    print(num)"
   ]
  },
  {
   "cell_type": "code",
   "execution_count": 11,
   "id": "0ce767e9",
   "metadata": {},
   "outputs": [
    {
     "name": "stdout",
     "output_type": "stream",
     "text": [
      "0\n",
      "2\n",
      "4\n",
      "6\n",
      "8\n"
     ]
    }
   ],
   "source": [
    "for num in range(0,10,2):\n",
    "    print(num)"
   ]
  },
  {
   "cell_type": "code",
   "execution_count": 14,
   "id": "c50afd9c",
   "metadata": {},
   "outputs": [
    {
     "name": "stdout",
     "output_type": "stream",
     "text": [
      "Index number at P is 0\n",
      "Index number at y is 1\n",
      "Index number at t is 2\n",
      "Index number at h is 3\n",
      "Index number at o is 4\n",
      "Index number at n is 5\n"
     ]
    }
   ],
   "source": [
    "index_count = 0\n",
    "\n",
    "for letter in \"Python\":\n",
    "    print(f'Index number at {letter} is {index_count}')\n",
    "    index_count += 1"
   ]
  },
  {
   "cell_type": "code",
   "execution_count": 15,
   "id": "bbd0145f",
   "metadata": {},
   "outputs": [
    {
     "name": "stdout",
     "output_type": "stream",
     "text": [
      "P\n",
      "y\n",
      "t\n",
      "h\n",
      "o\n",
      "n\n"
     ]
    }
   ],
   "source": [
    "index_count = 0\n",
    "word = \"Python\"\n",
    "for letter in word:\n",
    "    print(word[index_count])\n",
    "    index_count += 1"
   ]
  },
  {
   "cell_type": "code",
   "execution_count": 17,
   "id": "2b1dffb8",
   "metadata": {},
   "outputs": [
    {
     "name": "stdout",
     "output_type": "stream",
     "text": [
      "(0, 'P')\n",
      "(1, 'y')\n",
      "(2, 't')\n",
      "(3, 'h')\n",
      "(4, 'o')\n",
      "(5, 'n')\n"
     ]
    }
   ],
   "source": [
    "# Enumerate is used for index count\n",
    "word = \"Python\"\n",
    "for letter in enumerate(word):\n",
    "    print(letter)"
   ]
  },
  {
   "cell_type": "code",
   "execution_count": 19,
   "id": "502d12b5",
   "metadata": {},
   "outputs": [
    {
     "name": "stdout",
     "output_type": "stream",
     "text": [
      "0\n",
      "P\n",
      "\n",
      "\n",
      "1\n",
      "y\n",
      "\n",
      "\n",
      "2\n",
      "t\n",
      "\n",
      "\n",
      "3\n",
      "h\n",
      "\n",
      "\n",
      "4\n",
      "o\n",
      "\n",
      "\n",
      "5\n",
      "n\n",
      "\n",
      "\n"
     ]
    }
   ],
   "source": [
    "word = \"Python\"\n",
    "for index_number,letter in enumerate(word):\n",
    "    print(index_number)\n",
    "    print(letter)\n",
    "    print('\\n')"
   ]
  },
  {
   "cell_type": "code",
   "execution_count": 20,
   "id": "c4878218",
   "metadata": {},
   "outputs": [],
   "source": [
    "list1 = [1,2,3]\n",
    "list2 = [\"Akash\",\"Amar\",\"Ankit\"]\n",
    "list3 = [88.00,95.50,99.70]"
   ]
  },
  {
   "cell_type": "code",
   "execution_count": 21,
   "id": "dff7fd86",
   "metadata": {},
   "outputs": [],
   "source": [
    "# Zip\n",
    "result = zip(list1,list2,list3)"
   ]
  },
  {
   "cell_type": "code",
   "execution_count": 22,
   "id": "a81a1346",
   "metadata": {},
   "outputs": [
    {
     "data": {
      "text/plain": [
       "<zip at 0x1e702d44e40>"
      ]
     },
     "execution_count": 22,
     "metadata": {},
     "output_type": "execute_result"
    }
   ],
   "source": [
    "result"
   ]
  },
  {
   "cell_type": "code",
   "execution_count": 23,
   "id": "672f4ab3",
   "metadata": {},
   "outputs": [
    {
     "name": "stdout",
     "output_type": "stream",
     "text": [
      "(1, 'Akash', 88.0)\n",
      "(2, 'Amar', 95.5)\n",
      "(3, 'Ankit', 99.7)\n"
     ]
    }
   ],
   "source": [
    "for item in result:\n",
    "    print(item)"
   ]
  },
  {
   "cell_type": "code",
   "execution_count": 24,
   "id": "197603d6",
   "metadata": {},
   "outputs": [],
   "source": [
    "# Zip\n",
    "result = list(zip(list1,list2,list3))"
   ]
  },
  {
   "cell_type": "code",
   "execution_count": 25,
   "id": "68357f0f",
   "metadata": {},
   "outputs": [
    {
     "data": {
      "text/plain": [
       "[(1, 'Akash', 88.0), (2, 'Amar', 95.5), (3, 'Ankit', 99.7)]"
      ]
     },
     "execution_count": 25,
     "metadata": {},
     "output_type": "execute_result"
    }
   ],
   "source": [
    "result"
   ]
  },
  {
   "cell_type": "code",
   "execution_count": 27,
   "id": "52424fe2",
   "metadata": {},
   "outputs": [
    {
     "data": {
      "text/plain": [
       "True"
      ]
     },
     "execution_count": 27,
     "metadata": {},
     "output_type": "execute_result"
    }
   ],
   "source": [
    "# in \n",
    "\"5\" in \"12345\""
   ]
  },
  {
   "cell_type": "code",
   "execution_count": 28,
   "id": "98917639",
   "metadata": {},
   "outputs": [
    {
     "data": {
      "text/plain": [
       "True"
      ]
     },
     "execution_count": 28,
     "metadata": {},
     "output_type": "execute_result"
    }
   ],
   "source": [
    "\"S\" in \"RAKESH\""
   ]
  },
  {
   "cell_type": "code",
   "execution_count": 29,
   "id": "4b4074ac",
   "metadata": {},
   "outputs": [
    {
     "data": {
      "text/plain": [
       "False"
      ]
     },
     "execution_count": 29,
     "metadata": {},
     "output_type": "execute_result"
    }
   ],
   "source": [
    "1 in [2,3,4]"
   ]
  },
  {
   "cell_type": "code",
   "execution_count": 30,
   "id": "6900cc91",
   "metadata": {},
   "outputs": [
    {
     "data": {
      "text/plain": [
       "True"
      ]
     },
     "execution_count": 30,
     "metadata": {},
     "output_type": "execute_result"
    }
   ],
   "source": [
    "\"father\" in {'father':\"Narayan\"}"
   ]
  },
  {
   "cell_type": "code",
   "execution_count": 31,
   "id": "eeb3ac45",
   "metadata": {},
   "outputs": [
    {
     "data": {
      "text/plain": [
       "True"
      ]
     },
     "execution_count": 31,
     "metadata": {},
     "output_type": "execute_result"
    }
   ],
   "source": [
    "d = {\"mango\": 150}\n",
    "\n",
    "150 in d.values()"
   ]
  },
  {
   "cell_type": "code",
   "execution_count": 32,
   "id": "85bf7141",
   "metadata": {},
   "outputs": [
    {
     "data": {
      "text/plain": [
       "False"
      ]
     },
     "execution_count": 32,
     "metadata": {},
     "output_type": "execute_result"
    }
   ],
   "source": [
    "d = {\"mango\": 150}\n",
    "\n",
    "150 in d.keys()"
   ]
  },
  {
   "cell_type": "code",
   "execution_count": 33,
   "id": "b7fa8c4c",
   "metadata": {},
   "outputs": [
    {
     "data": {
      "text/plain": [
       "True"
      ]
     },
     "execution_count": 33,
     "metadata": {},
     "output_type": "execute_result"
    }
   ],
   "source": [
    "d = {\"mango\": 150}\n",
    "\n",
    "\"mango\" in d.keys()"
   ]
  },
  {
   "cell_type": "code",
   "execution_count": 34,
   "id": "5c79b062",
   "metadata": {},
   "outputs": [],
   "source": [
    "marks = [1000,300,200,90,50,20]"
   ]
  },
  {
   "cell_type": "code",
   "execution_count": 35,
   "id": "fa5fe793",
   "metadata": {},
   "outputs": [
    {
     "data": {
      "text/plain": [
       "20"
      ]
     },
     "execution_count": 35,
     "metadata": {},
     "output_type": "execute_result"
    }
   ],
   "source": [
    "# Minimum\n",
    "min(marks)"
   ]
  },
  {
   "cell_type": "code",
   "execution_count": 36,
   "id": "e7131d9e",
   "metadata": {},
   "outputs": [
    {
     "data": {
      "text/plain": [
       "1000"
      ]
     },
     "execution_count": 36,
     "metadata": {},
     "output_type": "execute_result"
    }
   ],
   "source": [
    "# Maximum\n",
    "max(marks)"
   ]
  },
  {
   "cell_type": "code",
   "execution_count": 37,
   "id": "09a2ca98",
   "metadata": {},
   "outputs": [],
   "source": [
    "# importing shuffle function from random library\n",
    "from random import shuffle"
   ]
  },
  {
   "cell_type": "code",
   "execution_count": 38,
   "id": "37206fc1",
   "metadata": {},
   "outputs": [],
   "source": [
    "# Shuffle\n",
    "shuffle(marks)"
   ]
  },
  {
   "cell_type": "code",
   "execution_count": 46,
   "id": "90daf015",
   "metadata": {},
   "outputs": [],
   "source": [
    "shuf = shuffle(marks)"
   ]
  },
  {
   "cell_type": "code",
   "execution_count": 48,
   "id": "42d80ffc",
   "metadata": {},
   "outputs": [
    {
     "data": {
      "text/plain": [
       "NoneType"
      ]
     },
     "execution_count": 48,
     "metadata": {},
     "output_type": "execute_result"
    }
   ],
   "source": [
    "type(shuf)"
   ]
  },
  {
   "cell_type": "code",
   "execution_count": 39,
   "id": "1b2515f1",
   "metadata": {},
   "outputs": [
    {
     "data": {
      "text/plain": [
       "[200, 300, 90, 20, 1000, 50]"
      ]
     },
     "execution_count": 39,
     "metadata": {},
     "output_type": "execute_result"
    }
   ],
   "source": [
    "marks"
   ]
  },
  {
   "cell_type": "code",
   "execution_count": 40,
   "id": "b4355360",
   "metadata": {},
   "outputs": [],
   "source": [
    "# importing random integer function from random library\n",
    "from random import randint"
   ]
  },
  {
   "cell_type": "code",
   "execution_count": 42,
   "id": "df00c05f",
   "metadata": {},
   "outputs": [
    {
     "data": {
      "text/plain": [
       "538"
      ]
     },
     "execution_count": 42,
     "metadata": {},
     "output_type": "execute_result"
    }
   ],
   "source": [
    "# random integer\n",
    "randint(1,998)"
   ]
  },
  {
   "cell_type": "code",
   "execution_count": 43,
   "id": "ea0f7dd1",
   "metadata": {},
   "outputs": [
    {
     "data": {
      "text/plain": [
       "431"
      ]
     },
     "execution_count": 43,
     "metadata": {},
     "output_type": "execute_result"
    }
   ],
   "source": [
    "randint(1,800)"
   ]
  },
  {
   "cell_type": "code",
   "execution_count": 44,
   "id": "151b8285",
   "metadata": {},
   "outputs": [
    {
     "data": {
      "text/plain": [
       "55"
      ]
     },
     "execution_count": 44,
     "metadata": {},
     "output_type": "execute_result"
    }
   ],
   "source": [
    "randint(1,100)"
   ]
  },
  {
   "cell_type": "code",
   "execution_count": 49,
   "id": "4f50f760",
   "metadata": {},
   "outputs": [],
   "source": [
    "num = randint(1,100)"
   ]
  },
  {
   "cell_type": "code",
   "execution_count": 51,
   "id": "053e9cbb",
   "metadata": {},
   "outputs": [
    {
     "data": {
      "text/plain": [
       "73"
      ]
     },
     "execution_count": 51,
     "metadata": {},
     "output_type": "execute_result"
    }
   ],
   "source": [
    "num"
   ]
  },
  {
   "cell_type": "code",
   "execution_count": 52,
   "id": "9fa57d67",
   "metadata": {},
   "outputs": [
    {
     "name": "stdout",
     "output_type": "stream",
     "text": [
      "Enter the Number: 88\n"
     ]
    }
   ],
   "source": [
    "# taking input from the user\n",
    "Num = input(\"Enter the Number: \")"
   ]
  },
  {
   "cell_type": "code",
   "execution_count": 53,
   "id": "bdafcd26",
   "metadata": {},
   "outputs": [
    {
     "data": {
      "text/plain": [
       "73"
      ]
     },
     "execution_count": 53,
     "metadata": {},
     "output_type": "execute_result"
    }
   ],
   "source": [
    "num"
   ]
  },
  {
   "cell_type": "code",
   "execution_count": 54,
   "id": "3df8f6a3",
   "metadata": {},
   "outputs": [
    {
     "data": {
      "text/plain": [
       "'88'"
      ]
     },
     "execution_count": 54,
     "metadata": {},
     "output_type": "execute_result"
    }
   ],
   "source": [
    "Num"
   ]
  },
  {
   "cell_type": "code",
   "execution_count": 57,
   "id": "be8c8b95",
   "metadata": {},
   "outputs": [
    {
     "data": {
      "text/plain": [
       "str"
      ]
     },
     "execution_count": 57,
     "metadata": {},
     "output_type": "execute_result"
    }
   ],
   "source": [
    "type(Num)"
   ]
  },
  {
   "cell_type": "code",
   "execution_count": 55,
   "id": "b3a9dce0",
   "metadata": {},
   "outputs": [
    {
     "data": {
      "text/plain": [
       "88.0"
      ]
     },
     "execution_count": 55,
     "metadata": {},
     "output_type": "execute_result"
    }
   ],
   "source": [
    "float(Num)"
   ]
  },
  {
   "cell_type": "code",
   "execution_count": 56,
   "id": "6ee2ab17",
   "metadata": {},
   "outputs": [
    {
     "data": {
      "text/plain": [
       "88"
      ]
     },
     "execution_count": 56,
     "metadata": {},
     "output_type": "execute_result"
    }
   ],
   "source": [
    "int(Num)"
   ]
  },
  {
   "cell_type": "code",
   "execution_count": 59,
   "id": "96ecec73",
   "metadata": {},
   "outputs": [
    {
     "name": "stdout",
     "output_type": "stream",
     "text": [
      "Enter the number here: 97\n"
     ]
    }
   ],
   "source": [
    "# Taking input from the user in integer form\n",
    "Number = int(input(\"Enter the number here: \"))"
   ]
  },
  {
   "cell_type": "code",
   "execution_count": 60,
   "id": "fb13044d",
   "metadata": {},
   "outputs": [
    {
     "data": {
      "text/plain": [
       "97"
      ]
     },
     "execution_count": 60,
     "metadata": {},
     "output_type": "execute_result"
    }
   ],
   "source": [
    "Number"
   ]
  },
  {
   "cell_type": "code",
   "execution_count": 61,
   "id": "c14e3c14",
   "metadata": {},
   "outputs": [
    {
     "data": {
      "text/plain": [
       "int"
      ]
     },
     "execution_count": 61,
     "metadata": {},
     "output_type": "execute_result"
    }
   ],
   "source": [
    "type(Number)"
   ]
  },
  {
   "cell_type": "code",
   "execution_count": 63,
   "id": "2c114553",
   "metadata": {},
   "outputs": [
    {
     "name": "stdout",
     "output_type": "stream",
     "text": [
      "Enter the number here: 97\n"
     ]
    }
   ],
   "source": [
    "# Taking input from the user in floating point number form\n",
    "F_Number = float(input(\"Enter the number here: \"))"
   ]
  },
  {
   "cell_type": "code",
   "execution_count": 64,
   "id": "e62b0a1f",
   "metadata": {},
   "outputs": [
    {
     "data": {
      "text/plain": [
       "97.0"
      ]
     },
     "execution_count": 64,
     "metadata": {},
     "output_type": "execute_result"
    }
   ],
   "source": [
    "F_Number"
   ]
  },
  {
   "cell_type": "code",
   "execution_count": 65,
   "id": "d3042881",
   "metadata": {},
   "outputs": [
    {
     "data": {
      "text/plain": [
       "float"
      ]
     },
     "execution_count": 65,
     "metadata": {},
     "output_type": "execute_result"
    }
   ],
   "source": [
    "type(F_Number)"
   ]
  },
  {
   "cell_type": "code",
   "execution_count": 67,
   "id": "4ff51b69",
   "metadata": {},
   "outputs": [
    {
     "name": "stdout",
     "output_type": "stream",
     "text": [
      "What is your name?: Akash\n"
     ]
    }
   ],
   "source": [
    "Name = input(\"What is your name?: \")"
   ]
  },
  {
   "cell_type": "code",
   "execution_count": null,
   "id": "9415b0f1",
   "metadata": {},
   "outputs": [],
   "source": []
  }
 ],
 "metadata": {
  "kernelspec": {
   "display_name": "Python 3 (ipykernel)",
   "language": "python",
   "name": "python3"
  },
  "language_info": {
   "codemirror_mode": {
    "name": "ipython",
    "version": 3
   },
   "file_extension": ".py",
   "mimetype": "text/x-python",
   "name": "python",
   "nbconvert_exporter": "python",
   "pygments_lexer": "ipython3",
   "version": "3.10.9"
  }
 },
 "nbformat": 4,
 "nbformat_minor": 5
}
