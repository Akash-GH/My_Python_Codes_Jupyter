{
 "cells": [
  {
   "cell_type": "code",
   "execution_count": 1,
   "id": "52656d1c",
   "metadata": {},
   "outputs": [],
   "source": [
    "def hello(name = \"Akash\"):\n",
    "    \n",
    "    def greet():\n",
    "        return f\"Hello {name}\"\n",
    "    \n",
    "    def seeya():\n",
    "        return \"Goodbye!\"\n",
    "    \n",
    "    if name == \"Akash\":\n",
    "        return greet()\n",
    "    else:\n",
    "        return seeya()"
   ]
  },
  {
   "cell_type": "code",
   "execution_count": 2,
   "id": "733118a9",
   "metadata": {},
   "outputs": [
    {
     "data": {
      "text/plain": [
       "'Goodbye!'"
      ]
     },
     "execution_count": 2,
     "metadata": {},
     "output_type": "execute_result"
    }
   ],
   "source": [
    "hello(\"Lucky\")"
   ]
  },
  {
   "cell_type": "code",
   "execution_count": 3,
   "id": "acdf2fc1",
   "metadata": {},
   "outputs": [
    {
     "data": {
      "text/plain": [
       "'Hello Akash'"
      ]
     },
     "execution_count": 3,
     "metadata": {},
     "output_type": "execute_result"
    }
   ],
   "source": [
    "hello(\"Akash\")"
   ]
  },
  {
   "cell_type": "code",
   "execution_count": 4,
   "id": "9ca8c471",
   "metadata": {},
   "outputs": [],
   "source": [
    "def new_decorator(main_function):\n",
    "    \n",
    "    def wrap_func():\n",
    "            \n",
    "        print(\"Some code will be printed here which is above of main function\")\n",
    "\n",
    "        main_function()\n",
    "\n",
    "        print(\"Some code will be printed here which is below of main function\")\n",
    "        \n",
    "    return wrap_func"
   ]
  },
  {
   "cell_type": "code",
   "execution_count": 5,
   "id": "054c5b70",
   "metadata": {},
   "outputs": [],
   "source": [
    "def say():\n",
    "     print(\"Namaste!\")"
   ]
  },
  {
   "cell_type": "code",
   "execution_count": 6,
   "id": "4d5020fe",
   "metadata": {},
   "outputs": [],
   "source": [
    "decorated_function = (new_decorator(say))"
   ]
  },
  {
   "cell_type": "code",
   "execution_count": 7,
   "id": "ddf7c2cc",
   "metadata": {},
   "outputs": [
    {
     "name": "stdout",
     "output_type": "stream",
     "text": [
      "Some code will be printed here which is above of main function\n",
      "Namaste!\n",
      "Some code will be printed here which is below of main function\n"
     ]
    }
   ],
   "source": [
    "decorated_function()"
   ]
  },
  {
   "cell_type": "code",
   "execution_count": 10,
   "id": "d76de566",
   "metadata": {},
   "outputs": [],
   "source": [
    "@new_decorator\n",
    "def say():\n",
    "     print(\"Namaste!\")"
   ]
  },
  {
   "cell_type": "code",
   "execution_count": 11,
   "id": "1c0aae26",
   "metadata": {},
   "outputs": [
    {
     "name": "stdout",
     "output_type": "stream",
     "text": [
      "Some code will be printed here which is above of main function\n",
      "Namaste!\n",
      "Some code will be printed here which is below of main function\n"
     ]
    }
   ],
   "source": [
    "say()"
   ]
  },
  {
   "cell_type": "code",
   "execution_count": 12,
   "id": "3fc38977",
   "metadata": {},
   "outputs": [],
   "source": [
    "#@new_decorator\n",
    "def say():\n",
    "     print(\"Namaste!\")"
   ]
  },
  {
   "cell_type": "code",
   "execution_count": 13,
   "id": "7242b8aa",
   "metadata": {},
   "outputs": [
    {
     "name": "stdout",
     "output_type": "stream",
     "text": [
      "Namaste!\n"
     ]
    }
   ],
   "source": [
    "say()"
   ]
  },
  {
   "cell_type": "code",
   "execution_count": null,
   "id": "78688312",
   "metadata": {},
   "outputs": [],
   "source": []
  }
 ],
 "metadata": {
  "kernelspec": {
   "display_name": "Python 3 (ipykernel)",
   "language": "python",
   "name": "python3"
  },
  "language_info": {
   "codemirror_mode": {
    "name": "ipython",
    "version": 3
   },
   "file_extension": ".py",
   "mimetype": "text/x-python",
   "name": "python",
   "nbconvert_exporter": "python",
   "pygments_lexer": "ipython3",
   "version": "3.10.9"
  }
 },
 "nbformat": 4,
 "nbformat_minor": 5
}
