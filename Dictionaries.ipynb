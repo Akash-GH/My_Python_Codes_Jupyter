{
 "cells": [
  {
   "cell_type": "code",
   "execution_count": 1,
   "id": "e5449a98",
   "metadata": {},
   "outputs": [],
   "source": [
    "# dictionaries are created using syntax {'key1':value1,'key2';value2} here keys should always in form of strings whereas values can be in any form. \n",
    "family_dict = {'Father': \"Narayan\",'Mother': \"Sujata\",'Sister': \"Aditi\"}"
   ]
  },
  {
   "cell_type": "code",
   "execution_count": 2,
   "id": "3d6e5872",
   "metadata": {},
   "outputs": [
    {
     "data": {
      "text/plain": [
       "{'Father': 'Narayan', 'Mother': 'Sujata', 'Sister': 'Aditi'}"
      ]
     },
     "execution_count": 2,
     "metadata": {},
     "output_type": "execute_result"
    }
   ],
   "source": [
    "family_dict"
   ]
  },
  {
   "cell_type": "code",
   "execution_count": 3,
   "id": "95f6424e",
   "metadata": {},
   "outputs": [
    {
     "data": {
      "text/plain": [
       "'Narayan'"
      ]
     },
     "execution_count": 3,
     "metadata": {},
     "output_type": "execute_result"
    }
   ],
   "source": [
    "family_dict['Father']"
   ]
  },
  {
   "cell_type": "code",
   "execution_count": 4,
   "id": "509b100a",
   "metadata": {},
   "outputs": [],
   "source": [
    "# keys with values can be added in dictionary\n",
    "family_dict['Me'] = \"Akash\""
   ]
  },
  {
   "cell_type": "code",
   "execution_count": 5,
   "id": "7e6517c9",
   "metadata": {},
   "outputs": [
    {
     "data": {
      "text/plain": [
       "{'Father': 'Narayan', 'Mother': 'Sujata', 'Sister': 'Aditi', 'Me': 'Akash'}"
      ]
     },
     "execution_count": 5,
     "metadata": {},
     "output_type": "execute_result"
    }
   ],
   "source": [
    "family_dict"
   ]
  },
  {
   "cell_type": "code",
   "execution_count": 6,
   "id": "8803ae5e",
   "metadata": {},
   "outputs": [],
   "source": [
    "# nested dictionaries\n",
    "Rahul_marks = {\"Maths\":{\"Algebra\":38,\"Geometry\":34},\"Science\":{\"Science 1\":37,\"Science 2\":38},\"Social Science\":{\"History & Polictical Science\":35,\"Geography\":36}}"
   ]
  },
  {
   "cell_type": "code",
   "execution_count": 7,
   "id": "14be30c5",
   "metadata": {},
   "outputs": [
    {
     "data": {
      "text/plain": [
       "{'Algebra': 38, 'Geometry': 34}"
      ]
     },
     "execution_count": 7,
     "metadata": {},
     "output_type": "execute_result"
    }
   ],
   "source": [
    "Rahul_marks['Maths']"
   ]
  },
  {
   "cell_type": "code",
   "execution_count": 8,
   "id": "879a15eb",
   "metadata": {},
   "outputs": [
    {
     "data": {
      "text/plain": [
       "34"
      ]
     },
     "execution_count": 8,
     "metadata": {},
     "output_type": "execute_result"
    }
   ],
   "source": [
    "Rahul_marks['Maths']['Geometry']"
   ]
  },
  {
   "cell_type": "code",
   "execution_count": 9,
   "id": "6bbf2df0",
   "metadata": {},
   "outputs": [
    {
     "data": {
      "text/plain": [
       "38"
      ]
     },
     "execution_count": 9,
     "metadata": {},
     "output_type": "execute_result"
    }
   ],
   "source": [
    "Rahul_marks['Maths']['Algebra']"
   ]
  },
  {
   "cell_type": "code",
   "execution_count": 10,
   "id": "38e5aee2",
   "metadata": {},
   "outputs": [
    {
     "data": {
      "text/plain": [
       "{'Science 1': 37, 'Science 2': 38}"
      ]
     },
     "execution_count": 10,
     "metadata": {},
     "output_type": "execute_result"
    }
   ],
   "source": [
    "Rahul_marks['Science']"
   ]
  },
  {
   "cell_type": "code",
   "execution_count": 11,
   "id": "f1d22a8b",
   "metadata": {},
   "outputs": [
    {
     "data": {
      "text/plain": [
       "37"
      ]
     },
     "execution_count": 11,
     "metadata": {},
     "output_type": "execute_result"
    }
   ],
   "source": [
    "Rahul_marks['Science']['Science 1']"
   ]
  },
  {
   "cell_type": "code",
   "execution_count": 12,
   "id": "61e1f1c3",
   "metadata": {},
   "outputs": [
    {
     "data": {
      "text/plain": [
       "38"
      ]
     },
     "execution_count": 12,
     "metadata": {},
     "output_type": "execute_result"
    }
   ],
   "source": [
    "Rahul_marks['Science']['Science 2']"
   ]
  },
  {
   "cell_type": "code",
   "execution_count": 13,
   "id": "d3a821c3",
   "metadata": {},
   "outputs": [
    {
     "data": {
      "text/plain": [
       "{'History & Polictical Science': 35, 'Geography': 36}"
      ]
     },
     "execution_count": 13,
     "metadata": {},
     "output_type": "execute_result"
    }
   ],
   "source": [
    "Rahul_marks['Social Science']"
   ]
  },
  {
   "cell_type": "code",
   "execution_count": 14,
   "id": "6ca25eaa",
   "metadata": {},
   "outputs": [
    {
     "data": {
      "text/plain": [
       "35"
      ]
     },
     "execution_count": 14,
     "metadata": {},
     "output_type": "execute_result"
    }
   ],
   "source": [
    "Rahul_marks['Social Science']['History & Polictical Science']"
   ]
  },
  {
   "cell_type": "code",
   "execution_count": 15,
   "id": "44d2edbb",
   "metadata": {},
   "outputs": [
    {
     "data": {
      "text/plain": [
       "36"
      ]
     },
     "execution_count": 15,
     "metadata": {},
     "output_type": "execute_result"
    }
   ],
   "source": [
    "Rahul_marks['Social Science']['Geography']"
   ]
  },
  {
   "cell_type": "code",
   "execution_count": 16,
   "id": "b0e468d9",
   "metadata": {},
   "outputs": [
    {
     "data": {
      "text/plain": [
       "dict_keys(['Father', 'Mother', 'Sister', 'Me'])"
      ]
     },
     "execution_count": 16,
     "metadata": {},
     "output_type": "execute_result"
    }
   ],
   "source": [
    "# retrieving only keys\n",
    "family_dict.keys()"
   ]
  },
  {
   "cell_type": "code",
   "execution_count": 18,
   "id": "d93caa6a",
   "metadata": {},
   "outputs": [
    {
     "data": {
      "text/plain": [
       "dict_values(['Narayan', 'Sujata', 'Aditi', 'Akash'])"
      ]
     },
     "execution_count": 18,
     "metadata": {},
     "output_type": "execute_result"
    }
   ],
   "source": [
    "# retrieving only values \n",
    "family_dict.values()"
   ]
  },
  {
   "cell_type": "code",
   "execution_count": 19,
   "id": "f73f833d",
   "metadata": {},
   "outputs": [
    {
     "data": {
      "text/plain": [
       "dict_items([('Father', 'Narayan'), ('Mother', 'Sujata'), ('Sister', 'Aditi'), ('Me', 'Akash')])"
      ]
     },
     "execution_count": 19,
     "metadata": {},
     "output_type": "execute_result"
    }
   ],
   "source": [
    "# retrieving keys and values both in apair or simply can be said as pairings\n",
    "family_dict.items()"
   ]
  },
  {
   "cell_type": "code",
   "execution_count": 21,
   "id": "0a362e75",
   "metadata": {},
   "outputs": [],
   "source": [
    "#dictionaries can also consist a list\n",
    "my_dict  = {'even_num': [2,4,6,8],'odd_num': [1,3,5,7] }"
   ]
  },
  {
   "cell_type": "code",
   "execution_count": 22,
   "id": "ef222f2d",
   "metadata": {},
   "outputs": [
    {
     "data": {
      "text/plain": [
       "{'even_num': [2, 4, 6, 8], 'odd_num': [1, 3, 5, 7]}"
      ]
     },
     "execution_count": 22,
     "metadata": {},
     "output_type": "execute_result"
    }
   ],
   "source": [
    "my_dict"
   ]
  },
  {
   "cell_type": "code",
   "execution_count": 23,
   "id": "c3a06f60",
   "metadata": {},
   "outputs": [
    {
     "data": {
      "text/plain": [
       "8"
      ]
     },
     "execution_count": 23,
     "metadata": {},
     "output_type": "execute_result"
    }
   ],
   "source": [
    "my_dict['even_num'][3]"
   ]
  },
  {
   "cell_type": "code",
   "execution_count": 24,
   "id": "9e868e62",
   "metadata": {},
   "outputs": [
    {
     "data": {
      "text/plain": [
       "5"
      ]
     },
     "execution_count": 24,
     "metadata": {},
     "output_type": "execute_result"
    }
   ],
   "source": [
    "my_dict['odd_num'][2]"
   ]
  },
  {
   "cell_type": "code",
   "execution_count": 25,
   "id": "e8ac7451",
   "metadata": {},
   "outputs": [
    {
     "data": {
      "text/plain": [
       "2"
      ]
     },
     "execution_count": 25,
     "metadata": {},
     "output_type": "execute_result"
    }
   ],
   "source": [
    "len(my_dict)"
   ]
  },
  {
   "cell_type": "code",
   "execution_count": 26,
   "id": "5ae3697e",
   "metadata": {},
   "outputs": [
    {
     "data": {
      "text/plain": [
       "4"
      ]
     },
     "execution_count": 26,
     "metadata": {},
     "output_type": "execute_result"
    }
   ],
   "source": [
    "len(family_dict)"
   ]
  },
  {
   "cell_type": "code",
   "execution_count": 27,
   "id": "f1bc7e60",
   "metadata": {},
   "outputs": [
    {
     "data": {
      "text/plain": [
       "3"
      ]
     },
     "execution_count": 27,
     "metadata": {},
     "output_type": "execute_result"
    }
   ],
   "source": [
    "len(Rahul_marks)"
   ]
  },
  {
   "cell_type": "code",
   "execution_count": null,
   "id": "52258375",
   "metadata": {},
   "outputs": [],
   "source": []
  }
 ],
 "metadata": {
  "kernelspec": {
   "display_name": "Python 3 (ipykernel)",
   "language": "python",
   "name": "python3"
  },
  "language_info": {
   "codemirror_mode": {
    "name": "ipython",
    "version": 3
   },
   "file_extension": ".py",
   "mimetype": "text/x-python",
   "name": "python",
   "nbconvert_exporter": "python",
   "pygments_lexer": "ipython3",
   "version": "3.10.9"
  }
 },
 "nbformat": 4,
 "nbformat_minor": 5
}
