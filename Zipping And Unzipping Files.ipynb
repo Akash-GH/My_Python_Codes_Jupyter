{
 "cells": [
  {
   "cell_type": "code",
   "execution_count": 1,
   "id": "bd3f1a0d",
   "metadata": {},
   "outputs": [],
   "source": [
    "f = open('fileone.txt','w+')\n",
    "f.write(\"This is File No. One\")\n",
    "f.close()"
   ]
  },
  {
   "cell_type": "code",
   "execution_count": 2,
   "id": "702039c3",
   "metadata": {},
   "outputs": [],
   "source": [
    "f = open('filetwo.txt','w+')\n",
    "f.write(\"This is File No. Two\")\n",
    "f.close()"
   ]
  },
  {
   "cell_type": "code",
   "execution_count": 3,
   "id": "fd9ad584",
   "metadata": {},
   "outputs": [],
   "source": [
    "import zipfile"
   ]
  },
  {
   "cell_type": "code",
   "execution_count": 4,
   "id": "b0993426",
   "metadata": {},
   "outputs": [],
   "source": [
    "compressed_file = zipfile.ZipFile(\"compressed_file.zip\",'w')"
   ]
  },
  {
   "cell_type": "code",
   "execution_count": 5,
   "id": "b9f93de8",
   "metadata": {},
   "outputs": [],
   "source": [
    "compressed_file.write('fileone.txt',compress_type=zipfile.ZIP_DEFLATED)"
   ]
  },
  {
   "cell_type": "code",
   "execution_count": 6,
   "id": "ab5fd8ea",
   "metadata": {},
   "outputs": [],
   "source": [
    "compressed_file.write('filetwo.txt',compress_type=zipfile.ZIP_DEFLATED)"
   ]
  },
  {
   "cell_type": "code",
   "execution_count": 7,
   "id": "c31f998a",
   "metadata": {},
   "outputs": [],
   "source": [
    "compressed_file.close()"
   ]
  },
  {
   "cell_type": "code",
   "execution_count": 8,
   "id": "9ad02427",
   "metadata": {},
   "outputs": [],
   "source": [
    "zipped_content = zipfile.ZipFile(\"compressed_file.zip\",'r')"
   ]
  },
  {
   "cell_type": "code",
   "execution_count": 9,
   "id": "01b11f53",
   "metadata": {},
   "outputs": [],
   "source": [
    "zipped_content.extractall(\"Extracted_content\")"
   ]
  },
  {
   "cell_type": "code",
   "execution_count": 10,
   "id": "68f2be23",
   "metadata": {},
   "outputs": [
    {
     "data": {
      "text/plain": [
       "'C:\\\\Users\\\\akash mishra\\\\Desktop\\\\My Python\\\\MyNotebooks'"
      ]
     },
     "execution_count": 10,
     "metadata": {},
     "output_type": "execute_result"
    }
   ],
   "source": [
    "pwd"
   ]
  },
  {
   "cell_type": "code",
   "execution_count": 11,
   "id": "ed8571b2",
   "metadata": {},
   "outputs": [],
   "source": [
    "import shutil"
   ]
  },
  {
   "cell_type": "code",
   "execution_count": 12,
   "id": "8cce341b",
   "metadata": {},
   "outputs": [],
   "source": [
    "dir_to_zip = 'C:\\\\Users\\\\akash mishra\\\\Desktop\\\\My Python\\\\MyNotebooks\\\\Extracted_content'"
   ]
  },
  {
   "cell_type": "code",
   "execution_count": 13,
   "id": "944786f7",
   "metadata": {},
   "outputs": [],
   "source": [
    "output_filename = \"example\""
   ]
  },
  {
   "cell_type": "code",
   "execution_count": 14,
   "id": "4e476288",
   "metadata": {},
   "outputs": [
    {
     "data": {
      "text/plain": [
       "'C:\\\\Users\\\\akash mishra\\\\Desktop\\\\My Python\\\\MyNotebooks\\\\example.zip'"
      ]
     },
     "execution_count": 14,
     "metadata": {},
     "output_type": "execute_result"
    }
   ],
   "source": [
    "shutil.make_archive(output_filename,'zip',dir_to_zip)"
   ]
  },
  {
   "cell_type": "code",
   "execution_count": 15,
   "id": "1fde5c0a",
   "metadata": {},
   "outputs": [],
   "source": [
    "shutil.unpack_archive('example.zip','final_unzip','zip')"
   ]
  },
  {
   "cell_type": "code",
   "execution_count": null,
   "id": "ecaf2928",
   "metadata": {},
   "outputs": [],
   "source": []
  }
 ],
 "metadata": {
  "kernelspec": {
   "display_name": "Python 3 (ipykernel)",
   "language": "python",
   "name": "python3"
  },
  "language_info": {
   "codemirror_mode": {
    "name": "ipython",
    "version": 3
   },
   "file_extension": ".py",
   "mimetype": "text/x-python",
   "name": "python",
   "nbconvert_exporter": "python",
   "pygments_lexer": "ipython3",
   "version": "3.10.9"
  }
 },
 "nbformat": 4,
 "nbformat_minor": 5
}
