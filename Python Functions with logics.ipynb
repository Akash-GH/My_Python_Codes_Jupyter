{
 "cells": [
  {
   "cell_type": "code",
   "execution_count": 5,
   "id": "a74e6b53",
   "metadata": {},
   "outputs": [],
   "source": [
    "# Function used to check whether the number is odd or not\n",
    "def odd_check(number):\n",
    "    return number % 2 != 0"
   ]
  },
  {
   "cell_type": "code",
   "execution_count": 6,
   "id": "dd217746",
   "metadata": {},
   "outputs": [
    {
     "data": {
      "text/plain": [
       "False"
      ]
     },
     "execution_count": 6,
     "metadata": {},
     "output_type": "execute_result"
    }
   ],
   "source": [
    "odd_check(30)"
   ]
  },
  {
   "cell_type": "code",
   "execution_count": 7,
   "id": "1de62e28",
   "metadata": {},
   "outputs": [
    {
     "data": {
      "text/plain": [
       "True"
      ]
     },
     "execution_count": 7,
     "metadata": {},
     "output_type": "execute_result"
    }
   ],
   "source": [
    "odd_check(33)"
   ]
  },
  {
   "cell_type": "code",
   "execution_count": 8,
   "id": "2bf7640b",
   "metadata": {},
   "outputs": [],
   "source": [
    "def len_odd_check(number):\n",
    "    result = number % 2 != 0\n",
    "    return result"
   ]
  },
  {
   "cell_type": "code",
   "execution_count": 9,
   "id": "6209a5c3",
   "metadata": {
    "scrolled": true
   },
   "outputs": [
    {
     "data": {
      "text/plain": [
       "False"
      ]
     },
     "execution_count": 9,
     "metadata": {},
     "output_type": "execute_result"
    }
   ],
   "source": [
    "len_odd_check(6)"
   ]
  },
  {
   "cell_type": "code",
   "execution_count": 10,
   "id": "cf8cd857",
   "metadata": {},
   "outputs": [
    {
     "data": {
      "text/plain": [
       "True"
      ]
     },
     "execution_count": 10,
     "metadata": {},
     "output_type": "execute_result"
    }
   ],
   "source": [
    "len_odd_check(7)"
   ]
  },
  {
   "cell_type": "code",
   "execution_count": 14,
   "id": "1f6583e0",
   "metadata": {},
   "outputs": [],
   "source": [
    "# Return true if number is odd and pass if it is not\n",
    "def odd_check_list(num_list):\n",
    "    \n",
    "    for num in num_list:\n",
    "        if num % 2 != 0:\n",
    "            return True\n",
    "        else:\n",
    "            pass"
   ]
  },
  {
   "cell_type": "code",
   "execution_count": 15,
   "id": "b7cfb9a7",
   "metadata": {},
   "outputs": [
    {
     "data": {
      "text/plain": [
       "True"
      ]
     },
     "execution_count": 15,
     "metadata": {},
     "output_type": "execute_result"
    }
   ],
   "source": [
    "odd_check_list([1,2,4])"
   ]
  },
  {
   "cell_type": "code",
   "execution_count": 16,
   "id": "2013be5f",
   "metadata": {},
   "outputs": [],
   "source": [
    "odd_check_list([2,4,6])"
   ]
  },
  {
   "cell_type": "code",
   "execution_count": 17,
   "id": "75a78801",
   "metadata": {},
   "outputs": [],
   "source": [
    "# Return true if number is odd and return false if it is not\n",
    "def odd_check_list(num_list):\n",
    "    \n",
    "    for num in num_list:\n",
    "        if num % 2 != 0:\n",
    "            return True\n",
    "        else:\n",
    "            pass\n",
    "    \n",
    "    return False"
   ]
  },
  {
   "cell_type": "code",
   "execution_count": 18,
   "id": "5395047c",
   "metadata": {},
   "outputs": [
    {
     "data": {
      "text/plain": [
       "False"
      ]
     },
     "execution_count": 18,
     "metadata": {},
     "output_type": "execute_result"
    }
   ],
   "source": [
    "odd_check_list([2,4,6])"
   ]
  },
  {
   "cell_type": "code",
   "execution_count": 20,
   "id": "a0ceb4c2",
   "metadata": {},
   "outputs": [],
   "source": [
    "# Get the list of odd number from the given list\n",
    "def odd_check_list(num_list):\n",
    "    \n",
    "    odd_numbers = []\n",
    "    \n",
    "    for num in num_list:\n",
    "        if num % 2 != 0:\n",
    "            odd_numbers.append(num)\n",
    "            \n",
    "        else:\n",
    "            pass\n",
    "    \n",
    "    return odd_numbers"
   ]
  },
  {
   "cell_type": "code",
   "execution_count": 21,
   "id": "9c7d86c1",
   "metadata": {},
   "outputs": [
    {
     "data": {
      "text/plain": [
       "[5, 7, 1]"
      ]
     },
     "execution_count": 21,
     "metadata": {},
     "output_type": "execute_result"
    }
   ],
   "source": [
    "odd_check_list([2,4,5,6,7,1,8])"
   ]
  },
  {
   "cell_type": "code",
   "execution_count": 22,
   "id": "1c9cfaa5",
   "metadata": {},
   "outputs": [
    {
     "data": {
      "text/plain": [
       "[]"
      ]
     },
     "execution_count": 22,
     "metadata": {},
     "output_type": "execute_result"
    }
   ],
   "source": [
    "odd_check_list([2,4,6,8,10])"
   ]
  },
  {
   "cell_type": "code",
   "execution_count": null,
   "id": "75ddff0e",
   "metadata": {},
   "outputs": [],
   "source": []
  }
 ],
 "metadata": {
  "kernelspec": {
   "display_name": "Python 3 (ipykernel)",
   "language": "python",
   "name": "python3"
  },
  "language_info": {
   "codemirror_mode": {
    "name": "ipython",
    "version": 3
   },
   "file_extension": ".py",
   "mimetype": "text/x-python",
   "name": "python",
   "nbconvert_exporter": "python",
   "pygments_lexer": "ipython3",
   "version": "3.10.9"
  }
 },
 "nbformat": 4,
 "nbformat_minor": 5
}
