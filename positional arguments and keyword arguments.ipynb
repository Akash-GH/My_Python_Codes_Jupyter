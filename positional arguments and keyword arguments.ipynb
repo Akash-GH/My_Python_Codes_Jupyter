{
 "cells": [
  {
   "cell_type": "code",
   "execution_count": 3,
   "id": "cfc73419",
   "metadata": {},
   "outputs": [],
   "source": [
    "def myfunc(a,b):\n",
    "    return sum((a,b)) * 0.2"
   ]
  },
  {
   "cell_type": "code",
   "execution_count": 4,
   "id": "9ecfb989",
   "metadata": {},
   "outputs": [
    {
     "data": {
      "text/plain": [
       "6.0"
      ]
     },
     "execution_count": 4,
     "metadata": {},
     "output_type": "execute_result"
    }
   ],
   "source": [
    "myfunc(10,20)"
   ]
  },
  {
   "cell_type": "code",
   "execution_count": 6,
   "id": "7e68b6d5",
   "metadata": {},
   "outputs": [],
   "source": [
    "def myfunc(a,b,c=0,d=0,e=0):\n",
    "    return sum((a,b,c,d,e)) * 0.2"
   ]
  },
  {
   "cell_type": "code",
   "execution_count": 7,
   "id": "04d66411",
   "metadata": {},
   "outputs": [
    {
     "data": {
      "text/plain": [
       "430.0"
      ]
     },
     "execution_count": 7,
     "metadata": {},
     "output_type": "execute_result"
    }
   ],
   "source": [
    "myfunc(50,100,500,800,700)"
   ]
  },
  {
   "cell_type": "code",
   "execution_count": 8,
   "id": "b5dff3cd",
   "metadata": {},
   "outputs": [],
   "source": [
    "def myfunc(*args):\n",
    "    return sum(args) * 0.2"
   ]
  },
  {
   "cell_type": "code",
   "execution_count": 9,
   "id": "f72dc5a8",
   "metadata": {},
   "outputs": [
    {
     "data": {
      "text/plain": [
       "430.0"
      ]
     },
     "execution_count": 9,
     "metadata": {},
     "output_type": "execute_result"
    }
   ],
   "source": [
    "myfunc(50,100,500,800,700)"
   ]
  },
  {
   "cell_type": "code",
   "execution_count": 10,
   "id": "1609fdc8",
   "metadata": {},
   "outputs": [
    {
     "data": {
      "text/plain": [
       "1310.0"
      ]
     },
     "execution_count": 10,
     "metadata": {},
     "output_type": "execute_result"
    }
   ],
   "source": [
    "myfunc(50,100,500,800,700,900,1000,2500)"
   ]
  },
  {
   "cell_type": "code",
   "execution_count": 11,
   "id": "5fcbaf6c",
   "metadata": {},
   "outputs": [],
   "source": [
    "def print_args(*args):\n",
    "    print(args)"
   ]
  },
  {
   "cell_type": "code",
   "execution_count": 12,
   "id": "a54e23b8",
   "metadata": {},
   "outputs": [
    {
     "name": "stdout",
     "output_type": "stream",
     "text": [
      "(10, 25, 95, 74, 16, 58)\n"
     ]
    }
   ],
   "source": [
    "print_args(10,25,95,74,16,58)"
   ]
  },
  {
   "cell_type": "code",
   "execution_count": 13,
   "id": "1cf607fa",
   "metadata": {},
   "outputs": [],
   "source": [
    "def item_for(*args):\n",
    "    for item in args:\n",
    "        print(item)"
   ]
  },
  {
   "cell_type": "code",
   "execution_count": 14,
   "id": "8b37c872",
   "metadata": {},
   "outputs": [
    {
     "name": "stdout",
     "output_type": "stream",
     "text": [
      "10\n",
      "25\n",
      "95\n",
      "74\n",
      "16\n",
      "58\n"
     ]
    }
   ],
   "source": [
    "item_for(10,25,95,74,16,58)"
   ]
  },
  {
   "cell_type": "code",
   "execution_count": 28,
   "id": "f729631c",
   "metadata": {},
   "outputs": [],
   "source": [
    "def my_keywords(**kwargs):\n",
    "    print(kwargs)\n",
    "    \n",
    "    if 'softdrink' in kwargs:\n",
    "        print('Hey! {} is my favourite soft drink'.format(kwargs['softdrink']))\n",
    "        \n",
    "    else:\n",
    "        print(\"I don't like this\")"
   ]
  },
  {
   "cell_type": "code",
   "execution_count": 29,
   "id": "7a1d2f35",
   "metadata": {},
   "outputs": [
    {
     "name": "stdout",
     "output_type": "stream",
     "text": [
      "{'fruit': 'mango', 'softdrink': 'nimbooza'}\n",
      "Hey! nimbooza is my favourite soft drink\n"
     ]
    }
   ],
   "source": [
    "my_keywords(fruit = \"mango\", softdrink = \"nimbooza\")"
   ]
  },
  {
   "cell_type": "code",
   "execution_count": 38,
   "id": "5bc54129",
   "metadata": {},
   "outputs": [],
   "source": [
    "def pa_kwa(*args,**kwargs):\n",
    "    print(args)\n",
    "    print(kwargs)\n",
    "    print(\"My favourite game is of {} MB is named {}\".format(args[0],kwargs['game']))"
   ]
  },
  {
   "cell_type": "code",
   "execution_count": 39,
   "id": "7d7e6e97",
   "metadata": {},
   "outputs": [
    {
     "name": "stdout",
     "output_type": "stream",
     "text": [
      "(200, 100, 150)\n",
      "{'sports': 'SOCCER', 'game': 'MCOC', 'player': 'CR,LM'}\n",
      "My favourite game is of 200 MB is named MCOC\n"
     ]
    }
   ],
   "source": [
    "pa_kwa(200,100,150,sports = 'SOCCER',game = \"MCOC\",player = \"CR,LM\")"
   ]
  },
  {
   "cell_type": "code",
   "execution_count": null,
   "id": "87aec32d",
   "metadata": {},
   "outputs": [],
   "source": []
  },
  {
   "cell_type": "code",
   "execution_count": null,
   "id": "35e5f859",
   "metadata": {},
   "outputs": [],
   "source": []
  }
 ],
 "metadata": {
  "kernelspec": {
   "display_name": "Python 3 (ipykernel)",
   "language": "python",
   "name": "python3"
  },
  "language_info": {
   "codemirror_mode": {
    "name": "ipython",
    "version": 3
   },
   "file_extension": ".py",
   "mimetype": "text/x-python",
   "name": "python",
   "nbconvert_exporter": "python",
   "pygments_lexer": "ipython3",
   "version": "3.10.9"
  }
 },
 "nbformat": 4,
 "nbformat_minor": 5
}
