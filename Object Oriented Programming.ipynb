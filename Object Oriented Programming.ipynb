{
 "cells": [
  {
   "cell_type": "code",
   "execution_count": 9,
   "id": "3745a0f4",
   "metadata": {},
   "outputs": [],
   "source": [
    "class Cat():\n",
    "    \n",
    "    # Class Object Attribute\n",
    "    \n",
    "    scientific_name = \"Felis catus\"\n",
    "    \n",
    "    # Attributes\n",
    "    def __init__(self,breed,name):\n",
    "        \n",
    "        self.breed = breed\n",
    "        \n",
    "        self.name = name\n",
    "        \n",
    "    # Method\n",
    "    def sound(self,number = 8):\n",
    "        print(\"Meow! My name is {} and I am {} years old\".format(self.name,number))"
   ]
  },
  {
   "cell_type": "code",
   "execution_count": 10,
   "id": "159ea475",
   "metadata": {},
   "outputs": [],
   "source": [
    "my_cat = Cat(breed = \"Persian\",name = \"Tom\")"
   ]
  },
  {
   "cell_type": "code",
   "execution_count": 11,
   "id": "40ddd99f",
   "metadata": {},
   "outputs": [
    {
     "data": {
      "text/plain": [
       "'Persian'"
      ]
     },
     "execution_count": 11,
     "metadata": {},
     "output_type": "execute_result"
    }
   ],
   "source": [
    "my_cat.breed"
   ]
  },
  {
   "cell_type": "code",
   "execution_count": 12,
   "id": "1fdf9db7",
   "metadata": {},
   "outputs": [
    {
     "data": {
      "text/plain": [
       "'Tom'"
      ]
     },
     "execution_count": 12,
     "metadata": {},
     "output_type": "execute_result"
    }
   ],
   "source": [
    "my_cat.name"
   ]
  },
  {
   "cell_type": "code",
   "execution_count": 13,
   "id": "13ec8c2a",
   "metadata": {},
   "outputs": [
    {
     "data": {
      "text/plain": [
       "'Felis catus'"
      ]
     },
     "execution_count": 13,
     "metadata": {},
     "output_type": "execute_result"
    }
   ],
   "source": [
    "my_cat.scientific_name"
   ]
  },
  {
   "cell_type": "code",
   "execution_count": 14,
   "id": "df51f57c",
   "metadata": {},
   "outputs": [
    {
     "name": "stdout",
     "output_type": "stream",
     "text": [
      "Meow! My name is Tom and I am 8 years old\n"
     ]
    }
   ],
   "source": [
    "my_cat.sound()"
   ]
  },
  {
   "cell_type": "code",
   "execution_count": 15,
   "id": "af9a311e",
   "metadata": {},
   "outputs": [
    {
     "name": "stdout",
     "output_type": "stream",
     "text": [
      "Meow! My name is Tom and I am 11 years old\n"
     ]
    }
   ],
   "source": [
    "my_cat.sound(11)"
   ]
  },
  {
   "cell_type": "code",
   "execution_count": 16,
   "id": "f9a9a367",
   "metadata": {},
   "outputs": [],
   "source": [
    "My_Cat = Cat(\"Sphynx\",\"Angela\")"
   ]
  },
  {
   "cell_type": "code",
   "execution_count": 17,
   "id": "2d5b5ef9",
   "metadata": {},
   "outputs": [
    {
     "data": {
      "text/plain": [
       "'Angela'"
      ]
     },
     "execution_count": 17,
     "metadata": {},
     "output_type": "execute_result"
    }
   ],
   "source": [
    "My_Cat.name"
   ]
  },
  {
   "cell_type": "code",
   "execution_count": 18,
   "id": "b50b103a",
   "metadata": {},
   "outputs": [
    {
     "data": {
      "text/plain": [
       "'Sphynx'"
      ]
     },
     "execution_count": 18,
     "metadata": {},
     "output_type": "execute_result"
    }
   ],
   "source": [
    "My_Cat.breed"
   ]
  },
  {
   "cell_type": "code",
   "execution_count": 19,
   "id": "f50a9f70",
   "metadata": {},
   "outputs": [
    {
     "data": {
      "text/plain": [
       "'Felis catus'"
      ]
     },
     "execution_count": 19,
     "metadata": {},
     "output_type": "execute_result"
    }
   ],
   "source": [
    "My_Cat.scientific_name"
   ]
  },
  {
   "cell_type": "code",
   "execution_count": 20,
   "id": "faa46922",
   "metadata": {},
   "outputs": [
    {
     "name": "stdout",
     "output_type": "stream",
     "text": [
      "Meow! My name is Angela and I am 9 years old\n"
     ]
    }
   ],
   "source": [
    "My_Cat.sound(9)"
   ]
  },
  {
   "cell_type": "code",
   "execution_count": 21,
   "id": "1b5dc61d",
   "metadata": {},
   "outputs": [],
   "source": [
    "class Sphere():\n",
    "    # CLass Object Attribute\n",
    "    pi = 3.14\n",
    "    # Attributes\n",
    "    def __init__(self,radius = 5):\n",
    "        \n",
    "        self.radius = radius\n",
    "        self.diameter = self.radius * 2\n",
    "        self.area = 4 * Sphere.pi * (self.radius**2)\n",
    "    # Method   \n",
    "    def volume(self):\n",
    "        \n",
    "        return (4/3) * Sphere.pi * (self.radius**3)\n",
    "    "
   ]
  },
  {
   "cell_type": "code",
   "execution_count": 22,
   "id": "0f74ab62",
   "metadata": {},
   "outputs": [],
   "source": [
    "my_sphere = Sphere() "
   ]
  },
  {
   "cell_type": "code",
   "execution_count": 23,
   "id": "ee81a295",
   "metadata": {},
   "outputs": [
    {
     "data": {
      "text/plain": [
       "5"
      ]
     },
     "execution_count": 23,
     "metadata": {},
     "output_type": "execute_result"
    }
   ],
   "source": [
    "my_sphere.radius"
   ]
  },
  {
   "cell_type": "code",
   "execution_count": 24,
   "id": "aaef2b89",
   "metadata": {},
   "outputs": [
    {
     "data": {
      "text/plain": [
       "314.0"
      ]
     },
     "execution_count": 24,
     "metadata": {},
     "output_type": "execute_result"
    }
   ],
   "source": [
    "my_sphere.area"
   ]
  },
  {
   "cell_type": "code",
   "execution_count": 25,
   "id": "4f32d4d5",
   "metadata": {},
   "outputs": [
    {
     "data": {
      "text/plain": [
       "10"
      ]
     },
     "execution_count": 25,
     "metadata": {},
     "output_type": "execute_result"
    }
   ],
   "source": [
    "my_sphere.diameter"
   ]
  },
  {
   "cell_type": "code",
   "execution_count": 26,
   "id": "64f1a4b4",
   "metadata": {},
   "outputs": [
    {
     "data": {
      "text/plain": [
       "3.14"
      ]
     },
     "execution_count": 26,
     "metadata": {},
     "output_type": "execute_result"
    }
   ],
   "source": [
    "my_sphere.pi"
   ]
  },
  {
   "cell_type": "code",
   "execution_count": 27,
   "id": "7ee8a21c",
   "metadata": {},
   "outputs": [
    {
     "data": {
      "text/plain": [
       "<bound method Sphere.volume of <__main__.Sphere object at 0x0000019C8B73EE00>>"
      ]
     },
     "execution_count": 27,
     "metadata": {},
     "output_type": "execute_result"
    }
   ],
   "source": [
    "my_sphere.volume"
   ]
  },
  {
   "cell_type": "code",
   "execution_count": 28,
   "id": "acd87c84",
   "metadata": {},
   "outputs": [
    {
     "data": {
      "text/plain": [
       "523.3333333333334"
      ]
     },
     "execution_count": 28,
     "metadata": {},
     "output_type": "execute_result"
    }
   ],
   "source": [
    "my_sphere.volume()"
   ]
  },
  {
   "cell_type": "code",
   "execution_count": 29,
   "id": "e81e6698",
   "metadata": {},
   "outputs": [],
   "source": [
    "new_sphere = Sphere(10) "
   ]
  },
  {
   "cell_type": "code",
   "execution_count": 30,
   "id": "c028733d",
   "metadata": {},
   "outputs": [
    {
     "data": {
      "text/plain": [
       "10"
      ]
     },
     "execution_count": 30,
     "metadata": {},
     "output_type": "execute_result"
    }
   ],
   "source": [
    "new_sphere.radius"
   ]
  },
  {
   "cell_type": "code",
   "execution_count": 31,
   "id": "de3beeb0",
   "metadata": {},
   "outputs": [
    {
     "data": {
      "text/plain": [
       "20"
      ]
     },
     "execution_count": 31,
     "metadata": {},
     "output_type": "execute_result"
    }
   ],
   "source": [
    "new_sphere.diameter"
   ]
  },
  {
   "cell_type": "code",
   "execution_count": 32,
   "id": "2f75ca88",
   "metadata": {},
   "outputs": [
    {
     "data": {
      "text/plain": [
       "1256.0"
      ]
     },
     "execution_count": 32,
     "metadata": {},
     "output_type": "execute_result"
    }
   ],
   "source": [
    "new_sphere.area"
   ]
  },
  {
   "cell_type": "code",
   "execution_count": 33,
   "id": "48482f3b",
   "metadata": {},
   "outputs": [
    {
     "data": {
      "text/plain": [
       "3.14"
      ]
     },
     "execution_count": 33,
     "metadata": {},
     "output_type": "execute_result"
    }
   ],
   "source": [
    "new_sphere.pi"
   ]
  },
  {
   "cell_type": "code",
   "execution_count": 34,
   "id": "803cfdc1",
   "metadata": {},
   "outputs": [
    {
     "data": {
      "text/plain": [
       "4186.666666666667"
      ]
     },
     "execution_count": 34,
     "metadata": {},
     "output_type": "execute_result"
    }
   ],
   "source": [
    "new_sphere.volume()"
   ]
  },
  {
   "cell_type": "code",
   "execution_count": 35,
   "id": "97f01c6a",
   "metadata": {},
   "outputs": [],
   "source": [
    "class Animal():\n",
    "    \n",
    "    def __init__(self):\n",
    "        print(\"Animal is created\")\n",
    "        \n",
    "    def who_am_I(self):\n",
    "        print(\"I am an animal\")\n",
    "        \n",
    "    def eat(self):\n",
    "        print(\"I am eating\")"
   ]
  },
  {
   "cell_type": "code",
   "execution_count": 47,
   "id": "dac813b7",
   "metadata": {},
   "outputs": [],
   "source": [
    "class Tiger(Animal):\n",
    "    \n",
    "    def __init__(self):\n",
    "        Animal.__init__(self)\n",
    "        print(\"Tiger created\")\n",
    "        \n",
    "    def who_am_I(self):\n",
    "        print(\"I am a Tiger\")\n",
    "    \n",
    "    def eat(self):\n",
    "        print(\"I eat Wild Boar \")\n",
    "        \n",
    "    def roar(self):\n",
    "        print(\"ARRRR!\")"
   ]
  },
  {
   "cell_type": "code",
   "execution_count": 48,
   "id": "e75e789c",
   "metadata": {},
   "outputs": [
    {
     "name": "stdout",
     "output_type": "stream",
     "text": [
      "Animal is created\n",
      "Tiger created\n"
     ]
    }
   ],
   "source": [
    "my_tiger = Tiger()"
   ]
  },
  {
   "cell_type": "code",
   "execution_count": 49,
   "id": "f7859886",
   "metadata": {},
   "outputs": [
    {
     "name": "stdout",
     "output_type": "stream",
     "text": [
      "I eat Wild Boar \n"
     ]
    }
   ],
   "source": [
    "my_tiger.eat()"
   ]
  },
  {
   "cell_type": "code",
   "execution_count": 50,
   "id": "5277b8b9",
   "metadata": {},
   "outputs": [
    {
     "name": "stdout",
     "output_type": "stream",
     "text": [
      "I am a Tiger\n"
     ]
    }
   ],
   "source": [
    "my_tiger.who_am_I()"
   ]
  },
  {
   "cell_type": "code",
   "execution_count": 51,
   "id": "06dea0cc",
   "metadata": {},
   "outputs": [
    {
     "name": "stdout",
     "output_type": "stream",
     "text": [
      "ARRRR!\n"
     ]
    }
   ],
   "source": [
    "my_tiger.roar()"
   ]
  },
  {
   "cell_type": "code",
   "execution_count": 52,
   "id": "7e689f3f",
   "metadata": {},
   "outputs": [],
   "source": [
    "class Cow():\n",
    "    \n",
    "    def __init__(self,name):\n",
    "        self.name = name\n",
    "        \n",
    "    def speak(self):\n",
    "        return self.name + \" says Moooo!\""
   ]
  },
  {
   "cell_type": "code",
   "execution_count": 53,
   "id": "6a16f7fa",
   "metadata": {},
   "outputs": [],
   "source": [
    "class Rat():\n",
    "    \n",
    "    def __init__(self,name):\n",
    "        self.name = name\n",
    "    \n",
    "    def speak(self):\n",
    "        return self.name + \" says Chuchu!\""
   ]
  },
  {
   "cell_type": "code",
   "execution_count": 54,
   "id": "536631b0",
   "metadata": {},
   "outputs": [],
   "source": [
    "Goriya = Cow(\"Goriya\")\n",
    "Jerry = Rat(\"Jerry\")"
   ]
  },
  {
   "cell_type": "code",
   "execution_count": 55,
   "id": "728cc53d",
   "metadata": {},
   "outputs": [
    {
     "name": "stdout",
     "output_type": "stream",
     "text": [
      "Goriya says Moooo!\n"
     ]
    }
   ],
   "source": [
    "print(Goriya.speak())"
   ]
  },
  {
   "cell_type": "code",
   "execution_count": 56,
   "id": "617ce145",
   "metadata": {},
   "outputs": [
    {
     "name": "stdout",
     "output_type": "stream",
     "text": [
      "Jerry says Chuchu!\n"
     ]
    }
   ],
   "source": [
    "print(Jerry.speak())"
   ]
  },
  {
   "cell_type": "code",
   "execution_count": 57,
   "id": "fe263153",
   "metadata": {},
   "outputs": [
    {
     "name": "stdout",
     "output_type": "stream",
     "text": [
      "<class '__main__.Cow'>\n",
      "<class 'str'>\n",
      "Goriya says Moooo!\n",
      "<class '__main__.Rat'>\n",
      "<class 'str'>\n",
      "Jerry says Chuchu!\n"
     ]
    }
   ],
   "source": [
    "for pet in [Goriya,Jerry]:\n",
    "    \n",
    "    print(type(pet))\n",
    "    print(type(pet.speak()))\n",
    "    print(pet.speak())"
   ]
  },
  {
   "cell_type": "code",
   "execution_count": 58,
   "id": "234a68a0",
   "metadata": {},
   "outputs": [],
   "source": [
    "def pet_speak(pet):\n",
    "    print(pet.speak())"
   ]
  },
  {
   "cell_type": "code",
   "execution_count": 59,
   "id": "a7da6e9d",
   "metadata": {},
   "outputs": [
    {
     "name": "stdout",
     "output_type": "stream",
     "text": [
      "Goriya says Moooo!\n"
     ]
    }
   ],
   "source": [
    "pet_speak(Goriya)"
   ]
  },
  {
   "cell_type": "code",
   "execution_count": 60,
   "id": "c9ee10fa",
   "metadata": {},
   "outputs": [
    {
     "name": "stdout",
     "output_type": "stream",
     "text": [
      "Jerry says Chuchu!\n"
     ]
    }
   ],
   "source": [
    "pet_speak(Jerry)"
   ]
  },
  {
   "cell_type": "code",
   "execution_count": 80,
   "id": "a13612a1",
   "metadata": {},
   "outputs": [],
   "source": [
    "class AnimalOne():\n",
    "    \n",
    "    def __init__(self,name):\n",
    "        self.name = name\n",
    "    \n",
    "    def speak(self):\n",
    "        raise NotImplementedError(\"Subclass must implement this abstract method\")"
   ]
  },
  {
   "cell_type": "code",
   "execution_count": 81,
   "id": "b82cabcd",
   "metadata": {},
   "outputs": [],
   "source": [
    "myanimal = AnimalOne('fred')"
   ]
  },
  {
   "cell_type": "code",
   "execution_count": 82,
   "id": "3bed2551",
   "metadata": {},
   "outputs": [
    {
     "ename": "NotImplementedError",
     "evalue": "Subclass must implement this abstract method",
     "output_type": "error",
     "traceback": [
      "\u001b[1;31m---------------------------------------------------------------------------\u001b[0m",
      "\u001b[1;31mNotImplementedError\u001b[0m                       Traceback (most recent call last)",
      "Cell \u001b[1;32mIn[82], line 1\u001b[0m\n\u001b[1;32m----> 1\u001b[0m \u001b[43mmyanimal\u001b[49m\u001b[38;5;241;43m.\u001b[39;49m\u001b[43mspeak\u001b[49m\u001b[43m(\u001b[49m\u001b[43m)\u001b[49m\n",
      "Cell \u001b[1;32mIn[80], line 7\u001b[0m, in \u001b[0;36mAnimalOne.speak\u001b[1;34m(self)\u001b[0m\n\u001b[0;32m      6\u001b[0m \u001b[38;5;28;01mdef\u001b[39;00m \u001b[38;5;21mspeak\u001b[39m(\u001b[38;5;28mself\u001b[39m):\n\u001b[1;32m----> 7\u001b[0m     \u001b[38;5;28;01mraise\u001b[39;00m \u001b[38;5;167;01mNotImplementedError\u001b[39;00m(\u001b[38;5;124m\"\u001b[39m\u001b[38;5;124mSubclass must implement this abstract method\u001b[39m\u001b[38;5;124m\"\u001b[39m)\n",
      "\u001b[1;31mNotImplementedError\u001b[0m: Subclass must implement this abstract method"
     ]
    }
   ],
   "source": [
    "myanimal.speak()"
   ]
  },
  {
   "cell_type": "code",
   "execution_count": 86,
   "id": "8ad95767",
   "metadata": {},
   "outputs": [],
   "source": [
    "# Subclasses are created\n",
    "class CowOne(AnimalOne):\n",
    "    \n",
    "    def speak(self):\n",
    "        return self.name + \" says Mooo!\""
   ]
  },
  {
   "cell_type": "code",
   "execution_count": 87,
   "id": "c71b232b",
   "metadata": {},
   "outputs": [],
   "source": [
    "class RatOne(AnimalOne):\n",
    "    \n",
    "    def speak(self):\n",
    "        return self.name + \" says Chuchuchu!\""
   ]
  },
  {
   "cell_type": "code",
   "execution_count": 88,
   "id": "f25fda61",
   "metadata": {},
   "outputs": [],
   "source": [
    "Mooze = CowOne(\"Mooze\")"
   ]
  },
  {
   "cell_type": "code",
   "execution_count": 89,
   "id": "73cdff0b",
   "metadata": {},
   "outputs": [],
   "source": [
    "Cham = RatOne(\"Cham\")"
   ]
  },
  {
   "cell_type": "code",
   "execution_count": 90,
   "id": "29d8ec97",
   "metadata": {},
   "outputs": [
    {
     "name": "stdout",
     "output_type": "stream",
     "text": [
      "Mooze says Mooo!\n"
     ]
    }
   ],
   "source": [
    "print(Mooze.speak())"
   ]
  },
  {
   "cell_type": "code",
   "execution_count": 91,
   "id": "ed0d8165",
   "metadata": {},
   "outputs": [
    {
     "name": "stdout",
     "output_type": "stream",
     "text": [
      "Cham says Chuchuchu!\n"
     ]
    }
   ],
   "source": [
    "print(Cham.speak())"
   ]
  },
  {
   "cell_type": "code",
   "execution_count": 16,
   "id": "93f9db7b",
   "metadata": {},
   "outputs": [],
   "source": [
    "class Book():\n",
    "    \n",
    "    def __init__(self,title,author,pages):\n",
    "        self.title = title\n",
    "        self.author = author\n",
    "        self.pages = pages\n",
    "        \n",
    "    def __str__(self):\n",
    "        return f\"{self.title} is a self help book by {self.author}\"\n",
    "    \n",
    "    def __len__(self):\n",
    "        return self.pages\n",
    "    \n",
    "    def __del__(self):\n",
    "        print(\"The book has been deleted\")\n",
    "    "
   ]
  },
  {
   "cell_type": "code",
   "execution_count": 17,
   "id": "a7112795",
   "metadata": {},
   "outputs": [],
   "source": [
    "mybook = Book(\"Think and Grow Rich\",\"Napoleon Hill\",238)"
   ]
  },
  {
   "cell_type": "code",
   "execution_count": 18,
   "id": "387ee1b1",
   "metadata": {},
   "outputs": [
    {
     "data": {
      "text/plain": [
       "'Think and Grow Rich'"
      ]
     },
     "execution_count": 18,
     "metadata": {},
     "output_type": "execute_result"
    }
   ],
   "source": [
    "mybook.title"
   ]
  },
  {
   "cell_type": "code",
   "execution_count": 19,
   "id": "2f34b7ac",
   "metadata": {},
   "outputs": [
    {
     "data": {
      "text/plain": [
       "'Napoleon Hill'"
      ]
     },
     "execution_count": 19,
     "metadata": {},
     "output_type": "execute_result"
    }
   ],
   "source": [
    "mybook.author"
   ]
  },
  {
   "cell_type": "code",
   "execution_count": 20,
   "id": "31a9b490",
   "metadata": {},
   "outputs": [
    {
     "data": {
      "text/plain": [
       "238"
      ]
     },
     "execution_count": 20,
     "metadata": {},
     "output_type": "execute_result"
    }
   ],
   "source": [
    "mybook.pages"
   ]
  },
  {
   "cell_type": "code",
   "execution_count": 21,
   "id": "de4f3a07",
   "metadata": {},
   "outputs": [
    {
     "name": "stdout",
     "output_type": "stream",
     "text": [
      "Think and Grow Rich is a self help book by Napoleon Hill\n"
     ]
    }
   ],
   "source": [
    "print(mybook)"
   ]
  },
  {
   "cell_type": "code",
   "execution_count": 22,
   "id": "990ffe04",
   "metadata": {},
   "outputs": [
    {
     "data": {
      "text/plain": [
       "238"
      ]
     },
     "execution_count": 22,
     "metadata": {},
     "output_type": "execute_result"
    }
   ],
   "source": [
    "len(mybook)"
   ]
  },
  {
   "cell_type": "code",
   "execution_count": 23,
   "id": "00a17b05",
   "metadata": {},
   "outputs": [
    {
     "name": "stdout",
     "output_type": "stream",
     "text": [
      "The book has been deleted\n"
     ]
    }
   ],
   "source": [
    "del(mybook)"
   ]
  },
  {
   "cell_type": "code",
   "execution_count": 24,
   "id": "e0f46bd2",
   "metadata": {},
   "outputs": [],
   "source": [
    "class Line:\n",
    "    \n",
    "    def __init__(self,coor1,coor2):\n",
    "        self.coor1 = coor1\n",
    "        self.coor2 = coor2\n",
    "    \n",
    "    def distance(self):\n",
    "        (x1,y1) = self.coor1\n",
    "        (x2,y2) = self.coor2\n",
    "        \n",
    "        return (((x2-x1)**2) + ((y2-y1)**2))**0.5\n",
    "    \n",
    "    def slope(self):\n",
    "        (x1,y1) = self.coor1\n",
    "        (x2,y2) = self.coor2\n",
    "        \n",
    "        return (y2-y1)/(x2-x1)"
   ]
  },
  {
   "cell_type": "code",
   "execution_count": 25,
   "id": "e8ecffd1",
   "metadata": {},
   "outputs": [],
   "source": [
    "coordinate1 = (3,2)\n",
    "coordinate2 = (8,10)\n",
    "\n",
    "li = Line(coordinate1,coordinate2)"
   ]
  },
  {
   "cell_type": "code",
   "execution_count": 26,
   "id": "93fa982b",
   "metadata": {},
   "outputs": [
    {
     "data": {
      "text/plain": [
       "9.433981132056603"
      ]
     },
     "execution_count": 26,
     "metadata": {},
     "output_type": "execute_result"
    }
   ],
   "source": [
    "li.distance()"
   ]
  },
  {
   "cell_type": "code",
   "execution_count": 27,
   "id": "2275b1f5",
   "metadata": {},
   "outputs": [
    {
     "data": {
      "text/plain": [
       "1.6"
      ]
     },
     "execution_count": 27,
     "metadata": {},
     "output_type": "execute_result"
    }
   ],
   "source": [
    "li.slope()"
   ]
  },
  {
   "cell_type": "code",
   "execution_count": 28,
   "id": "dc55fee4",
   "metadata": {},
   "outputs": [],
   "source": [
    "class Cylinder():\n",
    "    \n",
    "    pi = 3.14\n",
    "    \n",
    "    def __init__(self,height=1,radius=1):\n",
    "        self.height = height\n",
    "        self.radius = radius\n",
    "        \n",
    "    def volume(self):\n",
    "        return Cylinder.pi * (self.radius ** 2) * self.height\n",
    "    \n",
    "    def surface_area(self):\n",
    "        return  (2 * Cylinder.pi * self.radius * self.height) +  (2 * Cylinder.pi * (self.radius ** 2))"
   ]
  },
  {
   "cell_type": "code",
   "execution_count": 29,
   "id": "53669e6e",
   "metadata": {},
   "outputs": [],
   "source": [
    "c = Cylinder(2,3)"
   ]
  },
  {
   "cell_type": "code",
   "execution_count": 30,
   "id": "99b9439d",
   "metadata": {},
   "outputs": [
    {
     "data": {
      "text/plain": [
       "56.52"
      ]
     },
     "execution_count": 30,
     "metadata": {},
     "output_type": "execute_result"
    }
   ],
   "source": [
    "c.volume()"
   ]
  },
  {
   "cell_type": "code",
   "execution_count": 31,
   "id": "a3d4e8b6",
   "metadata": {},
   "outputs": [
    {
     "data": {
      "text/plain": [
       "94.2"
      ]
     },
     "execution_count": 31,
     "metadata": {},
     "output_type": "execute_result"
    }
   ],
   "source": [
    "c.surface_area()"
   ]
  },
  {
   "cell_type": "code",
   "execution_count": 32,
   "id": "866d92dd",
   "metadata": {},
   "outputs": [],
   "source": [
    "class Account():\n",
    "    \n",
    "    def __init__(self,owner,balance):\n",
    "        self.owner = owner\n",
    "        self.balance = balance\n",
    "        \n",
    "    def deposit(self,dep_amount):\n",
    "        self.balance = self.balance + dep_amount\n",
    "        print(\"Deposit Accepted\")\n",
    "        \n",
    "    def withdraw(self,withd_amount):\n",
    "        if self.balance >= withd_amount:\n",
    "            self.balance = self.balance - withd_amount\n",
    "            print(\"Withdrawal Accepted\")\n",
    "        else:\n",
    "            print(\"Fund Unavailable!\")\n",
    "            \n",
    "    def __str__(self):\n",
    "        return (f\"Account owner: {self.owner} \\nAccount balance: {self.balance}\")"
   ]
  },
  {
   "cell_type": "code",
   "execution_count": 33,
   "id": "867c12ab",
   "metadata": {},
   "outputs": [],
   "source": [
    "myacc = Account(\"Akash\",1000)"
   ]
  },
  {
   "cell_type": "code",
   "execution_count": 34,
   "id": "9e86599d",
   "metadata": {},
   "outputs": [
    {
     "data": {
      "text/plain": [
       "1000"
      ]
     },
     "execution_count": 34,
     "metadata": {},
     "output_type": "execute_result"
    }
   ],
   "source": [
    "myacc.balance"
   ]
  },
  {
   "cell_type": "code",
   "execution_count": 35,
   "id": "66f454a6",
   "metadata": {},
   "outputs": [
    {
     "data": {
      "text/plain": [
       "'Akash'"
      ]
     },
     "execution_count": 35,
     "metadata": {},
     "output_type": "execute_result"
    }
   ],
   "source": [
    "myacc.owner"
   ]
  },
  {
   "cell_type": "code",
   "execution_count": 36,
   "id": "6c6985a2",
   "metadata": {},
   "outputs": [
    {
     "name": "stdout",
     "output_type": "stream",
     "text": [
      "Account owner: Akash \n",
      "Account balance: 1000\n"
     ]
    }
   ],
   "source": [
    "print(myacc)"
   ]
  },
  {
   "cell_type": "code",
   "execution_count": 37,
   "id": "ae794773",
   "metadata": {},
   "outputs": [
    {
     "name": "stdout",
     "output_type": "stream",
     "text": [
      "Deposit Accepted\n"
     ]
    }
   ],
   "source": [
    "myacc.deposit(500)"
   ]
  },
  {
   "cell_type": "code",
   "execution_count": 38,
   "id": "8bd9e807",
   "metadata": {},
   "outputs": [
    {
     "name": "stdout",
     "output_type": "stream",
     "text": [
      "Account owner: Akash \n",
      "Account balance: 1500\n"
     ]
    }
   ],
   "source": [
    "print(myacc)"
   ]
  },
  {
   "cell_type": "code",
   "execution_count": 39,
   "id": "3908fba4",
   "metadata": {},
   "outputs": [
    {
     "name": "stdout",
     "output_type": "stream",
     "text": [
      "Withdrawal Accepted\n"
     ]
    }
   ],
   "source": [
    "myacc.withdraw(1000)"
   ]
  },
  {
   "cell_type": "code",
   "execution_count": 40,
   "id": "6f957e59",
   "metadata": {},
   "outputs": [
    {
     "name": "stdout",
     "output_type": "stream",
     "text": [
      "Account owner: Akash \n",
      "Account balance: 500\n"
     ]
    }
   ],
   "source": [
    "print(myacc)"
   ]
  },
  {
   "cell_type": "code",
   "execution_count": 41,
   "id": "cfd16a54",
   "metadata": {},
   "outputs": [
    {
     "name": "stdout",
     "output_type": "stream",
     "text": [
      "Fund Unavailable!\n"
     ]
    }
   ],
   "source": [
    "myacc.withdraw(600)"
   ]
  },
  {
   "cell_type": "code",
   "execution_count": null,
   "id": "34ba7228",
   "metadata": {},
   "outputs": [],
   "source": []
  }
 ],
 "metadata": {
  "kernelspec": {
   "display_name": "Python 3 (ipykernel)",
   "language": "python",
   "name": "python3"
  },
  "language_info": {
   "codemirror_mode": {
    "name": "ipython",
    "version": 3
   },
   "file_extension": ".py",
   "mimetype": "text/x-python",
   "name": "python",
   "nbconvert_exporter": "python",
   "pygments_lexer": "ipython3",
   "version": "3.10.9"
  }
 },
 "nbformat": 4,
 "nbformat_minor": 5
}
