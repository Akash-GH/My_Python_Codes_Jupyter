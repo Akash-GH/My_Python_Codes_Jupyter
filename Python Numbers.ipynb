{
 "cells": [
  {
   "cell_type": "code",
   "execution_count": 1,
   "id": "735d1bfa",
   "metadata": {},
   "outputs": [
    {
     "data": {
      "text/plain": [
       "3"
      ]
     },
     "execution_count": 1,
     "metadata": {},
     "output_type": "execute_result"
    }
   ],
   "source": [
    "1+2"
   ]
  },
  {
   "cell_type": "code",
   "execution_count": 2,
   "id": "5cad467e",
   "metadata": {},
   "outputs": [
    {
     "data": {
      "text/plain": [
       "2"
      ]
     },
     "execution_count": 2,
     "metadata": {},
     "output_type": "execute_result"
    }
   ],
   "source": [
    "8-6"
   ]
  },
  {
   "cell_type": "code",
   "execution_count": 3,
   "id": "1c8f528f",
   "metadata": {},
   "outputs": [
    {
     "data": {
      "text/plain": [
       "12"
      ]
     },
     "execution_count": 3,
     "metadata": {},
     "output_type": "execute_result"
    }
   ],
   "source": [
    "3*4"
   ]
  },
  {
   "cell_type": "code",
   "execution_count": 4,
   "id": "ecc96fdc",
   "metadata": {},
   "outputs": [
    {
     "data": {
      "text/plain": [
       "3.0"
      ]
     },
     "execution_count": 4,
     "metadata": {},
     "output_type": "execute_result"
    }
   ],
   "source": [
    "12/4"
   ]
  },
  {
   "cell_type": "markdown",
   "id": "ec86676e",
   "metadata": {},
   "source": [
    "ABOVE DONE OPERATIONS ARE BASIC ADDITION, SUBTRACTION, MULTIPLICATION AND DIVISION BY USING +,-,* AND / OPERATORS.\n",
    "DOING THIS PYTHON CAN USED AS A CALCULATOR."
   ]
  },
  {
   "cell_type": "markdown",
   "id": "0caf5b5e",
   "metadata": {},
   "source": [
    "MODULO OR MOD OPERATOR"
   ]
  },
  {
   "cell_type": "code",
   "execution_count": 5,
   "id": "dc62be82",
   "metadata": {},
   "outputs": [
    {
     "data": {
      "text/plain": [
       "2"
      ]
     },
     "execution_count": 5,
     "metadata": {},
     "output_type": "execute_result"
    }
   ],
   "source": [
    "34 % 4"
   ]
  },
  {
   "cell_type": "code",
   "execution_count": 6,
   "id": "f85c0410",
   "metadata": {},
   "outputs": [
    {
     "data": {
      "text/plain": [
       "8.5"
      ]
     },
     "execution_count": 6,
     "metadata": {},
     "output_type": "execute_result"
    }
   ],
   "source": [
    "34/4"
   ]
  },
  {
   "cell_type": "markdown",
   "id": "8ab7f175",
   "metadata": {},
   "source": [
    "WE CAN SAY THAT MOD I.E. % OPERATOR IS USED FOR GETTING THE REMAINDER OF A DIVISION."
   ]
  },
  {
   "cell_type": "code",
   "execution_count": 7,
   "id": "4e4400f4",
   "metadata": {},
   "outputs": [
    {
     "data": {
      "text/plain": [
       "65"
      ]
     },
     "execution_count": 7,
     "metadata": {},
     "output_type": "execute_result"
    }
   ],
   "source": [
    "10 + 9 * 5 + 10"
   ]
  },
  {
   "cell_type": "markdown",
   "id": "4f357c34",
   "metadata": {},
   "source": [
    "ADDITION AND MULTIPLICATION IN ONE EQUATION. HERE ACCORDING TO BODMAS FIRST MULTIPLICATION WILL TAKE PLACE THEN ADDITION WILL TAKE PLACE."
   ]
  },
  {
   "cell_type": "code",
   "execution_count": 9,
   "id": "145cd2e6",
   "metadata": {},
   "outputs": [
    {
     "data": {
      "text/plain": [
       "285"
      ]
     },
     "execution_count": 9,
     "metadata": {},
     "output_type": "execute_result"
    }
   ],
   "source": [
    "(10 + 9) * (5 + 10)"
   ]
  },
  {
   "cell_type": "markdown",
   "id": "3c830cb4",
   "metadata": {},
   "source": [
    "ADDITION AND MULTIPLICATION IN ONE EQUATION BUT WITH BRACKETS. HERE ACCORDING TO BODMAS, FIRST OPERATIONS IN BRACKETS WHICH IS ADDITION WILL TAKE PLACE THEN MULTIPLICATION WILL TAKE PLACE."
   ]
  },
  {
   "cell_type": "code",
   "execution_count": 10,
   "id": "4f298a74",
   "metadata": {},
   "outputs": [
    {
     "data": {
      "text/plain": [
       "0.5"
      ]
     },
     "execution_count": 10,
     "metadata": {},
     "output_type": "execute_result"
    }
   ],
   "source": [
    "1/2"
   ]
  },
  {
   "cell_type": "code",
   "execution_count": null,
   "id": "f73c117d",
   "metadata": {},
   "outputs": [],
   "source": []
  }
 ],
 "metadata": {
  "kernelspec": {
   "display_name": "Python 3 (ipykernel)",
   "language": "python",
   "name": "python3"
  },
  "language_info": {
   "codemirror_mode": {
    "name": "ipython",
    "version": 3
   },
   "file_extension": ".py",
   "mimetype": "text/x-python",
   "name": "python",
   "nbconvert_exporter": "python",
   "pygments_lexer": "ipython3",
   "version": "3.10.9"
  }
 },
 "nbformat": 4,
 "nbformat_minor": 5
}
