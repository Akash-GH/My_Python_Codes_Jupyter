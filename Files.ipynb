{
 "cells": [
  {
   "cell_type": "code",
   "execution_count": 6,
   "id": "57c37887",
   "metadata": {},
   "outputs": [
    {
     "name": "stdout",
     "output_type": "stream",
     "text": [
      "Writing firstfile.txt\n"
     ]
    }
   ],
   "source": [
    "# function to write a text file\n",
    "%%writefile firstfile.txt\n",
    "\"THIS IS MY FIRST FILE\""
   ]
  },
  {
   "cell_type": "code",
   "execution_count": 7,
   "id": "b1306e34",
   "metadata": {},
   "outputs": [],
   "source": [
    "# normal way to open a file\n",
    "contents = open('firstfile.txt')"
   ]
  },
  {
   "cell_type": "code",
   "execution_count": 8,
   "id": "ed428cb2",
   "metadata": {},
   "outputs": [
    {
     "data": {
      "text/plain": [
       "<_io.TextIOWrapper name='firstfile.txt' mode='r' encoding='cp1252'>"
      ]
     },
     "execution_count": 8,
     "metadata": {},
     "output_type": "execute_result"
    }
   ],
   "source": [
    "contents"
   ]
  },
  {
   "cell_type": "code",
   "execution_count": 10,
   "id": "de681974",
   "metadata": {},
   "outputs": [
    {
     "name": "stdout",
     "output_type": "stream",
     "text": [
      "\"THIS IS MY FIRST FILE\"\n",
      "\n"
     ]
    }
   ],
   "source": [
    "# opening using with method\n",
    "with open('firstfile.txt') as f:\n",
    "    print(f.read())"
   ]
  },
  {
   "cell_type": "code",
   "execution_count": 12,
   "id": "fe6f85a4",
   "metadata": {},
   "outputs": [
    {
     "data": {
      "text/plain": [
       "'\"THIS IS MY FIRST FILE\"\\n'"
      ]
     },
     "execution_count": 12,
     "metadata": {},
     "output_type": "execute_result"
    }
   ],
   "source": [
    "contents.read()"
   ]
  },
  {
   "cell_type": "code",
   "execution_count": 13,
   "id": "b5c8e112",
   "metadata": {},
   "outputs": [
    {
     "data": {
      "text/plain": [
       "''"
      ]
     },
     "execution_count": 13,
     "metadata": {},
     "output_type": "execute_result"
    }
   ],
   "source": [
    "# once a file is read it cannot be read again if try to then it will show an empty string\n",
    "contents.read()"
   ]
  },
  {
   "cell_type": "code",
   "execution_count": 14,
   "id": "34deb53b",
   "metadata": {},
   "outputs": [
    {
     "data": {
      "text/plain": [
       "0"
      ]
     },
     "execution_count": 14,
     "metadata": {},
     "output_type": "execute_result"
    }
   ],
   "source": [
    "# seek is used to reset the process\n",
    "contents.seek(0)"
   ]
  },
  {
   "cell_type": "code",
   "execution_count": 15,
   "id": "be943fc5",
   "metadata": {},
   "outputs": [
    {
     "data": {
      "text/plain": [
       "'\"THIS IS MY FIRST FILE\"\\n'"
      ]
     },
     "execution_count": 15,
     "metadata": {},
     "output_type": "execute_result"
    }
   ],
   "source": [
    "# after using seek we can read it again\n",
    "contents.read()"
   ]
  },
  {
   "cell_type": "code",
   "execution_count": 16,
   "id": "e16cb61f",
   "metadata": {},
   "outputs": [
    {
     "data": {
      "text/plain": [
       "'C:\\\\Users\\\\akash mishra\\\\Desktop\\\\My Python'"
      ]
     },
     "execution_count": 16,
     "metadata": {},
     "output_type": "execute_result"
    }
   ],
   "source": [
    "# pwd is used to check the location of the notebbok on which process is going on\n",
    "pwd"
   ]
  },
  {
   "cell_type": "code",
   "execution_count": 17,
   "id": "233c676d",
   "metadata": {},
   "outputs": [],
   "source": [
    "# closing the file\n",
    "contents.close()"
   ]
  },
  {
   "cell_type": "code",
   "execution_count": 25,
   "id": "10fc3d64",
   "metadata": {},
   "outputs": [
    {
     "name": "stdout",
     "output_type": "stream",
     "text": [
      "Overwriting secondfile.txt\n"
     ]
    }
   ],
   "source": [
    "%%writefile secondfile.txt\n",
    "My name is Akash \n",
    "I am a boy\n",
    "I am 21 years old"
   ]
  },
  {
   "cell_type": "code",
   "execution_count": 26,
   "id": "895bded0",
   "metadata": {},
   "outputs": [
    {
     "name": "stdout",
     "output_type": "stream",
     "text": [
      "My name is Akash \n",
      "I am a boy\n",
      "I am 21 years old\n",
      "\n"
     ]
    }
   ],
   "source": [
    "# Reading\n",
    "with open('secondfile.txt') as f:\n",
    "    print(f.read())"
   ]
  },
  {
   "cell_type": "code",
   "execution_count": 27,
   "id": "7937bc8b",
   "metadata": {},
   "outputs": [
    {
     "name": "stdout",
     "output_type": "stream",
     "text": [
      "My name is Akash \n",
      "I am a boy\n",
      "I am 21 years old\n",
      "\n"
     ]
    }
   ],
   "source": [
    "# Reading\n",
    "with open('secondfile.txt', mode='r') as f:\n",
    "    print(f.read())"
   ]
  },
  {
   "cell_type": "code",
   "execution_count": 28,
   "id": "9dfb52ff",
   "metadata": {},
   "outputs": [],
   "source": [
    "# adding/appending\n",
    "with open('secondfile.txt', mode='a') as f:\n",
    "    f.write('I live in Kalamboli')"
   ]
  },
  {
   "cell_type": "code",
   "execution_count": 29,
   "id": "46133a63",
   "metadata": {},
   "outputs": [
    {
     "name": "stdout",
     "output_type": "stream",
     "text": [
      "My name is Akash \n",
      "I am a boy\n",
      "I am 21 years old\n",
      "I live in Kalamboli\n"
     ]
    }
   ],
   "source": [
    "with open('secondfile.txt', mode='r') as f:\n",
    "    print(f.read())"
   ]
  },
  {
   "cell_type": "code",
   "execution_count": 32,
   "id": "90a92adb",
   "metadata": {},
   "outputs": [],
   "source": [
    "# Writing\n",
    "with open('thirdfile.txt', mode = 'w') as f:\n",
    "    f.write('This is my third file')"
   ]
  },
  {
   "cell_type": "code",
   "execution_count": 33,
   "id": "6b6649d7",
   "metadata": {},
   "outputs": [
    {
     "name": "stdout",
     "output_type": "stream",
     "text": [
      "This is my third file\n"
     ]
    }
   ],
   "source": [
    "with open('thirdfile.txt', mode = 'r') as f:\n",
    "    print(f.read())"
   ]
  },
  {
   "cell_type": "code",
   "execution_count": null,
   "id": "19eb44ec",
   "metadata": {},
   "outputs": [],
   "source": []
  }
 ],
 "metadata": {
  "kernelspec": {
   "display_name": "Python 3 (ipykernel)",
   "language": "python",
   "name": "python3"
  },
  "language_info": {
   "codemirror_mode": {
    "name": "ipython",
    "version": 3
   },
   "file_extension": ".py",
   "mimetype": "text/x-python",
   "name": "python",
   "nbconvert_exporter": "python",
   "pygments_lexer": "ipython3",
   "version": "3.10.9"
  }
 },
 "nbformat": 4,
 "nbformat_minor": 5
}
