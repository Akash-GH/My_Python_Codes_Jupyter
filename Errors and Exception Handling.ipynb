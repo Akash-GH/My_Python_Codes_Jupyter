{
 "cells": [
  {
   "cell_type": "code",
   "execution_count": 3,
   "id": "588cf44b",
   "metadata": {},
   "outputs": [],
   "source": [
    "def sub(n1,n2):\n",
    "    return n1-n2"
   ]
  },
  {
   "cell_type": "code",
   "execution_count": 4,
   "id": "ce99644a",
   "metadata": {},
   "outputs": [
    {
     "data": {
      "text/plain": [
       "40"
      ]
     },
     "execution_count": 4,
     "metadata": {},
     "output_type": "execute_result"
    }
   ],
   "source": [
    "sub(60,20)"
   ]
  },
  {
   "cell_type": "code",
   "execution_count": 5,
   "id": "f052ec6a",
   "metadata": {},
   "outputs": [],
   "source": [
    "number1 = 60"
   ]
  },
  {
   "cell_type": "code",
   "execution_count": 6,
   "id": "03228734",
   "metadata": {},
   "outputs": [
    {
     "name": "stdout",
     "output_type": "stream",
     "text": [
      "Enter number2: 20\n"
     ]
    }
   ],
   "source": [
    "number2 = input(\"Enter number2: \")"
   ]
  },
  {
   "cell_type": "code",
   "execution_count": 7,
   "id": "b8d191b7",
   "metadata": {},
   "outputs": [
    {
     "ename": "TypeError",
     "evalue": "unsupported operand type(s) for -: 'int' and 'str'",
     "output_type": "error",
     "traceback": [
      "\u001b[1;31m---------------------------------------------------------------------------\u001b[0m",
      "\u001b[1;31mTypeError\u001b[0m                                 Traceback (most recent call last)",
      "Cell \u001b[1;32mIn[7], line 1\u001b[0m\n\u001b[1;32m----> 1\u001b[0m \u001b[43msub\u001b[49m\u001b[43m(\u001b[49m\u001b[43mnumber1\u001b[49m\u001b[43m,\u001b[49m\u001b[43mnumber2\u001b[49m\u001b[43m)\u001b[49m\n",
      "Cell \u001b[1;32mIn[3], line 2\u001b[0m, in \u001b[0;36msub\u001b[1;34m(n1, n2)\u001b[0m\n\u001b[0;32m      1\u001b[0m \u001b[38;5;28;01mdef\u001b[39;00m \u001b[38;5;21msub\u001b[39m(n1,n2):\n\u001b[1;32m----> 2\u001b[0m     \u001b[38;5;28;01mreturn\u001b[39;00m \u001b[43mn1\u001b[49m\u001b[38;5;241;43m-\u001b[39;49m\u001b[43mn2\u001b[49m\n",
      "\u001b[1;31mTypeError\u001b[0m: unsupported operand type(s) for -: 'int' and 'str'"
     ]
    }
   ],
   "source": [
    "sub(number1,number2)"
   ]
  },
  {
   "cell_type": "code",
   "execution_count": 8,
   "id": "216bb9b4",
   "metadata": {},
   "outputs": [
    {
     "name": "stdout",
     "output_type": "stream",
     "text": [
      "Whoops! There is a Type Error\n"
     ]
    }
   ],
   "source": [
    "try:\n",
    "    sub(number1,number2)\n",
    "except TypeError:\n",
    "    print(\"Whoops! There is a Type Error\")"
   ]
  },
  {
   "cell_type": "code",
   "execution_count": 9,
   "id": "1382bf89",
   "metadata": {},
   "outputs": [
    {
     "name": "stdout",
     "output_type": "stream",
     "text": [
      "After subtracting both the numbers we get: 15\n",
      "I always run\n"
     ]
    }
   ],
   "source": [
    "try:\n",
    "    n1 = 30\n",
    "    n2 = 15\n",
    "    result = sub(n1,n2)\n",
    "except TypeError:\n",
    "    print(\"Whoops! There is a Type Error\")\n",
    "except:\n",
    "    print(\"All Exceptions\")\n",
    "else:\n",
    "    print(f\"After subtracting both the numbers we get: {result}\")\n",
    "finally:\n",
    "    print(\"I always run\")"
   ]
  },
  {
   "cell_type": "code",
   "execution_count": 10,
   "id": "45aa99df",
   "metadata": {},
   "outputs": [
    {
     "name": "stdout",
     "output_type": "stream",
     "text": [
      "Whoops! There is a Type Error\n",
      "I always run\n"
     ]
    }
   ],
   "source": [
    "try:\n",
    "    n1 = '30'\n",
    "    n2 = 15\n",
    "    result = sub(n1,n2)\n",
    "except TypeError:\n",
    "    print(\"Whoops! There is a Type Error\")\n",
    "except:\n",
    "    print(\"All Exceptions\")\n",
    "else:\n",
    "    print(f\"After subtracting both the numbers we get: {result}\")\n",
    "finally:\n",
    "    print(\"I always run\")"
   ]
  },
  {
   "cell_type": "code",
   "execution_count": 11,
   "id": "f0ba6f95",
   "metadata": {},
   "outputs": [
    {
     "name": "stdout",
     "output_type": "stream",
     "text": [
      "After subtracting both the numbers we get: -5\n",
      "I always run\n"
     ]
    }
   ],
   "source": [
    "try:\n",
    "    n1 = 10\n",
    "    n2 = 15\n",
    "    result = sub(n1,n2)\n",
    "except TypeError:\n",
    "    print(\"Whoops! There is a Type Error\")\n",
    "except:\n",
    "    print(\"All Exceptions\")\n",
    "else:\n",
    "    print(f\"After subtracting both the numbers we get: {result}\")\n",
    "finally:\n",
    "    print(\"I always run\")"
   ]
  },
  {
   "cell_type": "code",
   "execution_count": 13,
   "id": "abd2e320",
   "metadata": {},
   "outputs": [
    {
     "name": "stdout",
     "output_type": "stream",
     "text": [
      "All Exceptions\n",
      "I always run\n"
     ]
    }
   ],
   "source": [
    "try:\n",
    "    n1 = 30\n",
    "    n2 = 15\n",
    "    result = sub(n1,n3)\n",
    "except TypeError:\n",
    "    print(\"Whoops! There is a Type Error\")\n",
    "except:\n",
    "    print(\"All Exceptions\")\n",
    "else:\n",
    "    print(f\"After subtracting both the numbers we get: {result}\")\n",
    "finally:\n",
    "    print(\"I always run\")"
   ]
  },
  {
   "cell_type": "code",
   "execution_count": 18,
   "id": "5cbcaeea",
   "metadata": {},
   "outputs": [],
   "source": [
    "def ask_for_float():\n",
    "    \n",
    "    while True:\n",
    "        try:\n",
    "            floating_point_number = float(input(\"Please provide a floating point number: \"))\n",
    "        except:\n",
    "            print(\"Whoops! That is not a floating point number\")\n",
    "            continue\n",
    "        else:\n",
    "            print(\"Thanks for providing the number\")\n",
    "            break\n",
    "        finally:\n",
    "            print(\"I always run whether there be any error or not so don't mind me.\")"
   ]
  },
  {
   "cell_type": "code",
   "execution_count": 21,
   "id": "d04ce045",
   "metadata": {},
   "outputs": [
    {
     "name": "stdout",
     "output_type": "stream",
     "text": [
      "Please provide a floating point number: null\n",
      "Whoops! That is not a floating point number\n",
      "I always run whether there be any error or not so don't mind me.\n",
      "Please provide a floating point number: 95.99\n",
      "Thanks for providing the number\n",
      "I always run whether there be any error or not so don't mind me.\n"
     ]
    }
   ],
   "source": [
    "ask_for_float()"
   ]
  },
  {
   "cell_type": "code",
   "execution_count": 14,
   "id": "ba29d9ce",
   "metadata": {},
   "outputs": [
    {
     "name": "stdout",
     "output_type": "stream",
     "text": [
      "Whoops! There is a Type Error\n"
     ]
    }
   ],
   "source": [
    "try:\n",
    "    for i in ['a','b','c']:\n",
    "        print(i**2)\n",
    "except TypeError:\n",
    "    print(\"Whoops! There is a Type Error\")"
   ]
  },
  {
   "cell_type": "code",
   "execution_count": 15,
   "id": "88319595",
   "metadata": {},
   "outputs": [
    {
     "name": "stdout",
     "output_type": "stream",
     "text": [
      "Whoops! There is a Zero Division Error\n",
      "All Done\n"
     ]
    }
   ],
   "source": [
    "try:\n",
    "    x = 5\n",
    "    y = 0\n",
    "    z = x/y\n",
    "\n",
    "except ZeroDivisionError:\n",
    "    \n",
    "    print(\"Whoops! There is a Zero Division Error\")\n",
    "\n",
    "finally:\n",
    "    print(\"All Done\")"
   ]
  },
  {
   "cell_type": "code",
   "execution_count": 16,
   "id": "96a45e1d",
   "metadata": {},
   "outputs": [],
   "source": [
    "def ask():\n",
    "    \n",
    "    while True:\n",
    "        try:\n",
    "            integer = int(input(\"Input an Integer: \"))\n",
    "            result = integer ** 2\n",
    "        except:\n",
    "            print(\"An error occured! Please try again\")\n",
    "            continue\n",
    "        else:\n",
    "            print(f\"Thank you, your number squared: {result}\")\n",
    "            break"
   ]
  },
  {
   "cell_type": "code",
   "execution_count": 17,
   "id": "3c63006b",
   "metadata": {},
   "outputs": [
    {
     "name": "stdout",
     "output_type": "stream",
     "text": [
      "Input an Integer: null\n",
      "An error occured! Please try again\n",
      "Input an Integer: 2\n",
      "Thank you, your number squared: 4\n"
     ]
    }
   ],
   "source": [
    "ask()"
   ]
  },
  {
   "cell_type": "code",
   "execution_count": 22,
   "id": "3e7b6c43",
   "metadata": {},
   "outputs": [],
   "source": [
    "def ask():\n",
    "    \n",
    "    while True:\n",
    "        try:\n",
    "            integer = int(input(\"Input an Integer: \"))\n",
    "        except:\n",
    "            print(\"An error occured! Please try again\")\n",
    "            continue\n",
    "        else:\n",
    "            break\n",
    "            \n",
    "    print(f\"Thank you, your number squared: {integer**2}\")"
   ]
  },
  {
   "cell_type": "code",
   "execution_count": 23,
   "id": "bbea37c4",
   "metadata": {},
   "outputs": [
    {
     "name": "stdout",
     "output_type": "stream",
     "text": [
      "Input an Integer: null\n",
      "An error occured! Please try again\n",
      "Input an Integer: 2\n",
      "Thank you, your number squared: 4\n"
     ]
    }
   ],
   "source": [
    "ask()"
   ]
  },
  {
   "cell_type": "code",
   "execution_count": null,
   "id": "2e7e8c11",
   "metadata": {},
   "outputs": [],
   "source": []
  }
 ],
 "metadata": {
  "kernelspec": {
   "display_name": "Python 3 (ipykernel)",
   "language": "python",
   "name": "python3"
  },
  "language_info": {
   "codemirror_mode": {
    "name": "ipython",
    "version": 3
   },
   "file_extension": ".py",
   "mimetype": "text/x-python",
   "name": "python",
   "nbconvert_exporter": "python",
   "pygments_lexer": "ipython3",
   "version": "3.10.9"
  }
 },
 "nbformat": 4,
 "nbformat_minor": 5
}
