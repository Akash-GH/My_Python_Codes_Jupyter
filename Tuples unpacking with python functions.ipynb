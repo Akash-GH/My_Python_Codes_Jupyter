{
 "cells": [
  {
   "cell_type": "code",
   "execution_count": 1,
   "id": "fb274c75",
   "metadata": {},
   "outputs": [],
   "source": [
    "veg_prices = [(\"Bittergourd\",200),(\"Brinjal\",50),(\"Spinach\",100),(\"Bottlegourd\",250)]"
   ]
  },
  {
   "cell_type": "code",
   "execution_count": 2,
   "id": "ffa82584",
   "metadata": {},
   "outputs": [
    {
     "data": {
      "text/plain": [
       "[('Bittergourd', 200), ('Brinjal', 50), ('Spinach', 100), ('Bottlegourd', 250)]"
      ]
     },
     "execution_count": 2,
     "metadata": {},
     "output_type": "execute_result"
    }
   ],
   "source": [
    "veg_prices"
   ]
  },
  {
   "cell_type": "code",
   "execution_count": 3,
   "id": "f21225d7",
   "metadata": {},
   "outputs": [
    {
     "name": "stdout",
     "output_type": "stream",
     "text": [
      "('Bittergourd', 200)\n",
      "('Brinjal', 50)\n",
      "('Spinach', 100)\n",
      "('Bottlegourd', 250)\n"
     ]
    }
   ],
   "source": [
    "for items in veg_prices:\n",
    "    print(items)"
   ]
  },
  {
   "cell_type": "code",
   "execution_count": 4,
   "id": "ba27b48d",
   "metadata": {},
   "outputs": [],
   "source": [
    "power_level = [(\"Uryu\",250000),(\"Yhwach\",22250000),(\"Ichigo\",1250000),(\"Aizen\",8550000)]"
   ]
  },
  {
   "cell_type": "code",
   "execution_count": 21,
   "id": "2add1e61",
   "metadata": {},
   "outputs": [],
   "source": [
    "def power_check(power_level):\n",
    "    \n",
    "    current_power = 0\n",
    "    # plache holders variable\n",
    "    strongest_character = ''\n",
    "    \n",
    "    for name,level in power_level:\n",
    "        if level > current_power:\n",
    "            current_power = level\n",
    "            strongest_character = name\n",
    "        else:\n",
    "            pass\n",
    "    # return the values\n",
    "    return strongest_character,current_power"
   ]
  },
  {
   "cell_type": "code",
   "execution_count": 22,
   "id": "48ff38af",
   "metadata": {},
   "outputs": [],
   "source": [
    "result = power_check(power_level)"
   ]
  },
  {
   "cell_type": "code",
   "execution_count": 23,
   "id": "46da597d",
   "metadata": {},
   "outputs": [
    {
     "data": {
      "text/plain": [
       "('Yhwach', 22250000)"
      ]
     },
     "execution_count": 23,
     "metadata": {},
     "output_type": "execute_result"
    }
   ],
   "source": [
    "result"
   ]
  },
  {
   "cell_type": "code",
   "execution_count": 20,
   "id": "d350f81b",
   "metadata": {},
   "outputs": [
    {
     "name": "stdout",
     "output_type": "stream",
     "text": [
      "240.0\n",
      "60.0\n",
      "120.0\n",
      "300.0\n"
     ]
    }
   ],
   "source": [
    "for name,values in veg_prices:\n",
    "    print(values + (0.2 * values))"
   ]
  },
  {
   "cell_type": "code",
   "execution_count": null,
   "id": "58e62aea",
   "metadata": {},
   "outputs": [],
   "source": []
  }
 ],
 "metadata": {
  "kernelspec": {
   "display_name": "Python 3 (ipykernel)",
   "language": "python",
   "name": "python3"
  },
  "language_info": {
   "codemirror_mode": {
    "name": "ipython",
    "version": 3
   },
   "file_extension": ".py",
   "mimetype": "text/x-python",
   "name": "python",
   "nbconvert_exporter": "python",
   "pygments_lexer": "ipython3",
   "version": "3.10.9"
  }
 },
 "nbformat": 4,
 "nbformat_minor": 5
}
