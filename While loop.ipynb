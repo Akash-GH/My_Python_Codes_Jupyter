{
 "cells": [
  {
   "cell_type": "code",
   "execution_count": 1,
   "id": "4b711904",
   "metadata": {},
   "outputs": [
    {
     "name": "stdout",
     "output_type": "stream",
     "text": [
      "1\n",
      "2\n",
      "3\n",
      "4\n",
      "5\n"
     ]
    }
   ],
   "source": [
    "# while loop\n",
    "x = 0\n",
    "\n",
    "while x < 5:\n",
    "    x += 1\n",
    "    print(x)"
   ]
  },
  {
   "cell_type": "code",
   "execution_count": 24,
   "id": "08dbcce5",
   "metadata": {},
   "outputs": [
    {
     "name": "stdout",
     "output_type": "stream",
     "text": [
      "The current index value of x is 0\n",
      "The current index value of x is 1\n",
      "The current index value of x is 2\n",
      "The current index value of x is 3\n",
      "The current index value of x is 4\n"
     ]
    }
   ],
   "source": [
    "x = 0\n",
    "\n",
    "while x < 5:\n",
    "    print(f'The current index value of x is {x}')\n",
    "    x += 1"
   ]
  },
  {
   "cell_type": "code",
   "execution_count": 3,
   "id": "46ecd0cc",
   "metadata": {},
   "outputs": [
    {
     "name": "stdout",
     "output_type": "stream",
     "text": [
      "1\n",
      "2\n",
      "3\n",
      "4\n",
      "5\n",
      "Number is greater than 5\n"
     ]
    }
   ],
   "source": [
    "# while-else loop\n",
    "x = 0\n",
    "\n",
    "while x < 5:\n",
    "    x += 1\n",
    "    print(x)\n",
    "else:\n",
    "    print(\"Number is greater than 5\")"
   ]
  },
  {
   "cell_type": "code",
   "execution_count": 4,
   "id": "7710f1ec",
   "metadata": {},
   "outputs": [
    {
     "name": "stdout",
     "output_type": "stream",
     "text": [
      "Number is greater than 5\n"
     ]
    }
   ],
   "source": [
    "x = 6\n",
    "\n",
    "while x < 5:\n",
    "    x += 1\n",
    "    print(x)\n",
    "else:\n",
    "    print(\"Number is greater than 5\")"
   ]
  },
  {
   "cell_type": "code",
   "execution_count": 11,
   "id": "51130984",
   "metadata": {},
   "outputs": [
    {
     "name": "stdout",
     "output_type": "stream",
     "text": [
      "0\n",
      "1\n",
      "2\n",
      "3\n",
      "4\n"
     ]
    }
   ],
   "source": [
    "num = 0\n",
    "\n",
    "while num < 5:\n",
    "    print(num)\n",
    "    num = num + 1"
   ]
  },
  {
   "cell_type": "code",
   "execution_count": 17,
   "id": "af9b3746",
   "metadata": {},
   "outputs": [
    {
     "name": "stdout",
     "output_type": "stream",
     "text": [
      "0\n",
      "1\n",
      "2\n"
     ]
    }
   ],
   "source": [
    "# break\n",
    "num = 0\n",
    "\n",
    "while num < 5:\n",
    "    print(num)\n",
    "    num = num + 1\n",
    "    if num == 3:\n",
    "        break"
   ]
  },
  {
   "cell_type": "code",
   "execution_count": 18,
   "id": "dbb455f3",
   "metadata": {},
   "outputs": [
    {
     "name": "stdout",
     "output_type": "stream",
     "text": [
      "A\n",
      "k\n",
      "a\n",
      "s\n",
      "h\n"
     ]
    }
   ],
   "source": [
    "name = \"Akash\"\n",
    "\n",
    "for letter in name:\n",
    "    print(letter)"
   ]
  },
  {
   "cell_type": "code",
   "execution_count": 20,
   "id": "a93bc08f",
   "metadata": {},
   "outputs": [
    {
     "name": "stdout",
     "output_type": "stream",
     "text": [
      "A\n",
      "k\n",
      "a\n",
      "h\n"
     ]
    }
   ],
   "source": [
    "# continue\n",
    "name = \"Akash\"\n",
    "\n",
    "for letter in name:\n",
    "    if letter == \"s\":\n",
    "        continue\n",
    "    print(letter)"
   ]
  },
  {
   "cell_type": "code",
   "execution_count": 23,
   "id": "95962740",
   "metadata": {},
   "outputs": [
    {
     "name": "stdout",
     "output_type": "stream",
     "text": [
      "I pass\n"
     ]
    }
   ],
   "source": [
    "# pass\n",
    "x = 5\n",
    "\n",
    "if x == 5:\n",
    "    # Comment\n",
    "    pass\n",
    "print(\"I pass\")"
   ]
  },
  {
   "cell_type": "code",
   "execution_count": null,
   "id": "829ef764",
   "metadata": {},
   "outputs": [],
   "source": []
  }
 ],
 "metadata": {
  "kernelspec": {
   "display_name": "Python 3 (ipykernel)",
   "language": "python",
   "name": "python3"
  },
  "language_info": {
   "codemirror_mode": {
    "name": "ipython",
    "version": 3
   },
   "file_extension": ".py",
   "mimetype": "text/x-python",
   "name": "python",
   "nbconvert_exporter": "python",
   "pygments_lexer": "ipython3",
   "version": "3.10.9"
  }
 },
 "nbformat": 4,
 "nbformat_minor": 5
}
