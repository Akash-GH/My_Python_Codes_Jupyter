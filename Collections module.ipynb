{
 "cells": [
  {
   "cell_type": "code",
   "execution_count": 2,
   "id": "73db545d",
   "metadata": {},
   "outputs": [],
   "source": [
    "from collections import Counter"
   ]
  },
  {
   "cell_type": "code",
   "execution_count": 4,
   "id": "cf861efe",
   "metadata": {},
   "outputs": [],
   "source": [
    "mylist = [1,1,1,1,1,2,2,2,2,3,3,3,3,4,4,4,4,5,5,5]"
   ]
  },
  {
   "cell_type": "code",
   "execution_count": 5,
   "id": "4c7bbb63",
   "metadata": {},
   "outputs": [
    {
     "data": {
      "text/plain": [
       "Counter({1: 5, 2: 4, 3: 4, 4: 4, 5: 3})"
      ]
     },
     "execution_count": 5,
     "metadata": {},
     "output_type": "execute_result"
    }
   ],
   "source": [
    "Counter(mylist)"
   ]
  },
  {
   "cell_type": "code",
   "execution_count": 6,
   "id": "0ff74c0f",
   "metadata": {},
   "outputs": [],
   "source": [
    "list2 = ['a','a',10,10,10]"
   ]
  },
  {
   "cell_type": "code",
   "execution_count": 7,
   "id": "12f148be",
   "metadata": {},
   "outputs": [
    {
     "data": {
      "text/plain": [
       "Counter({'a': 2, 10: 3})"
      ]
     },
     "execution_count": 7,
     "metadata": {},
     "output_type": "execute_result"
    }
   ],
   "source": [
    "Counter(list2)"
   ]
  },
  {
   "cell_type": "code",
   "execution_count": 8,
   "id": "8f9d4243",
   "metadata": {},
   "outputs": [
    {
     "data": {
      "text/plain": [
       "Counter({'a': 4,\n",
       "         's': 4,\n",
       "         'd': 4,\n",
       "         'f': 7,\n",
       "         'q': 2,\n",
       "         'r': 5,\n",
       "         'e': 4,\n",
       "         't': 3,\n",
       "         'g': 4,\n",
       "         'w': 1,\n",
       "         'z': 1,\n",
       "         'h': 2,\n",
       "         'j': 1,\n",
       "         'n': 1})"
      ]
     },
     "execution_count": 8,
     "metadata": {},
     "output_type": "execute_result"
    }
   ],
   "source": [
    "Counter(\"asadasddfsfqreteagrfefqwrtferzfsghtgrjdgnhf\")"
   ]
  },
  {
   "cell_type": "code",
   "execution_count": 9,
   "id": "ca0f2ed6",
   "metadata": {},
   "outputs": [],
   "source": [
    "sentence = \"My name is Akash Mishra and I am 21 years old\""
   ]
  },
  {
   "cell_type": "code",
   "execution_count": 10,
   "id": "8c229243",
   "metadata": {},
   "outputs": [
    {
     "data": {
      "text/plain": [
       "Counter({'M': 2,\n",
       "         'y': 2,\n",
       "         ' ': 10,\n",
       "         'n': 2,\n",
       "         'a': 6,\n",
       "         'm': 2,\n",
       "         'e': 2,\n",
       "         'i': 2,\n",
       "         's': 4,\n",
       "         'A': 1,\n",
       "         'k': 1,\n",
       "         'h': 2,\n",
       "         'r': 2,\n",
       "         'd': 2,\n",
       "         'I': 1,\n",
       "         '2': 1,\n",
       "         '1': 1,\n",
       "         'o': 1,\n",
       "         'l': 1})"
      ]
     },
     "execution_count": 10,
     "metadata": {},
     "output_type": "execute_result"
    }
   ],
   "source": [
    "Counter(sentence)"
   ]
  },
  {
   "cell_type": "code",
   "execution_count": 11,
   "id": "d7e72e2f",
   "metadata": {},
   "outputs": [
    {
     "data": {
      "text/plain": [
       "Counter({'My': 1,\n",
       "         'name': 1,\n",
       "         'is': 1,\n",
       "         'Akash': 1,\n",
       "         'Mishra': 1,\n",
       "         'and': 1,\n",
       "         'I': 1,\n",
       "         'am': 1,\n",
       "         '21': 1,\n",
       "         'years': 1,\n",
       "         'old': 1})"
      ]
     },
     "execution_count": 11,
     "metadata": {},
     "output_type": "execute_result"
    }
   ],
   "source": [
    "Counter(sentence.split())"
   ]
  },
  {
   "cell_type": "code",
   "execution_count": 16,
   "id": "270a7a5e",
   "metadata": {},
   "outputs": [],
   "source": [
    "letters = \"kkkkkkkkkaaaaaaaassssssshhhhhhhhhhh\""
   ]
  },
  {
   "cell_type": "code",
   "execution_count": 17,
   "id": "176eb667",
   "metadata": {},
   "outputs": [],
   "source": [
    "c = Counter(letters)"
   ]
  },
  {
   "cell_type": "code",
   "execution_count": 18,
   "id": "d66a407e",
   "metadata": {},
   "outputs": [
    {
     "data": {
      "text/plain": [
       "Counter({'k': 9, 'a': 8, 's': 7, 'h': 11})"
      ]
     },
     "execution_count": 18,
     "metadata": {},
     "output_type": "execute_result"
    }
   ],
   "source": [
    "c"
   ]
  },
  {
   "cell_type": "code",
   "execution_count": 19,
   "id": "6e457975",
   "metadata": {},
   "outputs": [
    {
     "data": {
      "text/plain": [
       "[('h', 11), ('k', 9), ('a', 8), ('s', 7)]"
      ]
     },
     "execution_count": 19,
     "metadata": {},
     "output_type": "execute_result"
    }
   ],
   "source": [
    "c.most_common()"
   ]
  },
  {
   "cell_type": "code",
   "execution_count": 20,
   "id": "093712e6",
   "metadata": {},
   "outputs": [
    {
     "data": {
      "text/plain": [
       "['k', 'a', 's', 'h']"
      ]
     },
     "execution_count": 20,
     "metadata": {},
     "output_type": "execute_result"
    }
   ],
   "source": [
    "list(c)"
   ]
  },
  {
   "cell_type": "code",
   "execution_count": 21,
   "id": "f5b07075",
   "metadata": {},
   "outputs": [],
   "source": [
    "from collections import defaultdict"
   ]
  },
  {
   "cell_type": "code",
   "execution_count": 22,
   "id": "0a95aed5",
   "metadata": {},
   "outputs": [],
   "source": [
    "d = {'k':12}"
   ]
  },
  {
   "cell_type": "code",
   "execution_count": 23,
   "id": "f21f5a92",
   "metadata": {},
   "outputs": [
    {
     "data": {
      "text/plain": [
       "{'k': 12}"
      ]
     },
     "execution_count": 23,
     "metadata": {},
     "output_type": "execute_result"
    }
   ],
   "source": [
    "d"
   ]
  },
  {
   "cell_type": "code",
   "execution_count": 24,
   "id": "d3cd99ea",
   "metadata": {},
   "outputs": [
    {
     "data": {
      "text/plain": [
       "12"
      ]
     },
     "execution_count": 24,
     "metadata": {},
     "output_type": "execute_result"
    }
   ],
   "source": [
    "d['k']"
   ]
  },
  {
   "cell_type": "code",
   "execution_count": 25,
   "id": "2d1f9a03",
   "metadata": {},
   "outputs": [],
   "source": [
    "d = defaultdict(lambda: 10) "
   ]
  },
  {
   "cell_type": "code",
   "execution_count": 26,
   "id": "69f22204",
   "metadata": {},
   "outputs": [],
   "source": [
    "d[\"correct\"] = 100"
   ]
  },
  {
   "cell_type": "code",
   "execution_count": 27,
   "id": "83764490",
   "metadata": {},
   "outputs": [
    {
     "data": {
      "text/plain": [
       "defaultdict(<function __main__.<lambda>()>, {'correct': 100})"
      ]
     },
     "execution_count": 27,
     "metadata": {},
     "output_type": "execute_result"
    }
   ],
   "source": [
    "d"
   ]
  },
  {
   "cell_type": "code",
   "execution_count": 28,
   "id": "ed486e98",
   "metadata": {},
   "outputs": [
    {
     "data": {
      "text/plain": [
       "100"
      ]
     },
     "execution_count": 28,
     "metadata": {},
     "output_type": "execute_result"
    }
   ],
   "source": [
    "d['correct']"
   ]
  },
  {
   "cell_type": "code",
   "execution_count": 29,
   "id": "dca0f199",
   "metadata": {},
   "outputs": [
    {
     "data": {
      "text/plain": [
       "10"
      ]
     },
     "execution_count": 29,
     "metadata": {},
     "output_type": "execute_result"
    }
   ],
   "source": [
    "d[\"INCORRECT\"]"
   ]
  },
  {
   "cell_type": "code",
   "execution_count": 30,
   "id": "3589b65c",
   "metadata": {},
   "outputs": [
    {
     "data": {
      "text/plain": [
       "defaultdict(<function __main__.<lambda>()>, {'correct': 100, 'INCORRECT': 10})"
      ]
     },
     "execution_count": 30,
     "metadata": {},
     "output_type": "execute_result"
    }
   ],
   "source": [
    "d"
   ]
  },
  {
   "cell_type": "code",
   "execution_count": 32,
   "id": "4740e8f0",
   "metadata": {},
   "outputs": [],
   "source": [
    "from collections import namedtuple"
   ]
  },
  {
   "cell_type": "code",
   "execution_count": 33,
   "id": "ee379827",
   "metadata": {},
   "outputs": [],
   "source": [
    "Cat = namedtuple('Cat',['age','breed','name'])"
   ]
  },
  {
   "cell_type": "code",
   "execution_count": 34,
   "id": "61ab3459",
   "metadata": {},
   "outputs": [],
   "source": [
    "tom = Cat(age = 7, breed = \"Persian\",name = \"Tom\")"
   ]
  },
  {
   "cell_type": "code",
   "execution_count": 35,
   "id": "4760c65e",
   "metadata": {},
   "outputs": [
    {
     "data": {
      "text/plain": [
       "Cat(age=7, breed='Persian', name='Tom')"
      ]
     },
     "execution_count": 35,
     "metadata": {},
     "output_type": "execute_result"
    }
   ],
   "source": [
    "tom"
   ]
  },
  {
   "cell_type": "code",
   "execution_count": 36,
   "id": "a2a40718",
   "metadata": {},
   "outputs": [
    {
     "data": {
      "text/plain": [
       "7"
      ]
     },
     "execution_count": 36,
     "metadata": {},
     "output_type": "execute_result"
    }
   ],
   "source": [
    "tom.age"
   ]
  },
  {
   "cell_type": "code",
   "execution_count": 37,
   "id": "1ae003de",
   "metadata": {},
   "outputs": [
    {
     "data": {
      "text/plain": [
       "'Persian'"
      ]
     },
     "execution_count": 37,
     "metadata": {},
     "output_type": "execute_result"
    }
   ],
   "source": [
    "tom.breed"
   ]
  },
  {
   "cell_type": "code",
   "execution_count": 38,
   "id": "d66919b6",
   "metadata": {},
   "outputs": [
    {
     "data": {
      "text/plain": [
       "'Tom'"
      ]
     },
     "execution_count": 38,
     "metadata": {},
     "output_type": "execute_result"
    }
   ],
   "source": [
    "tom.name"
   ]
  },
  {
   "cell_type": "code",
   "execution_count": 39,
   "id": "ace7bea4",
   "metadata": {},
   "outputs": [
    {
     "data": {
      "text/plain": [
       "7"
      ]
     },
     "execution_count": 39,
     "metadata": {},
     "output_type": "execute_result"
    }
   ],
   "source": [
    "tom[0]"
   ]
  },
  {
   "cell_type": "code",
   "execution_count": 40,
   "id": "a7bd268c",
   "metadata": {},
   "outputs": [
    {
     "data": {
      "text/plain": [
       "'Persian'"
      ]
     },
     "execution_count": 40,
     "metadata": {},
     "output_type": "execute_result"
    }
   ],
   "source": [
    "tom[1]"
   ]
  },
  {
   "cell_type": "code",
   "execution_count": 41,
   "id": "372634af",
   "metadata": {},
   "outputs": [
    {
     "data": {
      "text/plain": [
       "'Tom'"
      ]
     },
     "execution_count": 41,
     "metadata": {},
     "output_type": "execute_result"
    }
   ],
   "source": [
    "tom[2]"
   ]
  },
  {
   "cell_type": "code",
   "execution_count": null,
   "id": "d44ecf7e",
   "metadata": {},
   "outputs": [],
   "source": []
  }
 ],
 "metadata": {
  "kernelspec": {
   "display_name": "Python 3 (ipykernel)",
   "language": "python",
   "name": "python3"
  },
  "language_info": {
   "codemirror_mode": {
    "name": "ipython",
    "version": 3
   },
   "file_extension": ".py",
   "mimetype": "text/x-python",
   "name": "python",
   "nbconvert_exporter": "python",
   "pygments_lexer": "ipython3",
   "version": "3.10.9"
  }
 },
 "nbformat": 4,
 "nbformat_minor": 5
}
