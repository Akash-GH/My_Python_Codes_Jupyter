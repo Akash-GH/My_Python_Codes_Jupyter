{
 "cells": [
  {
   "cell_type": "markdown",
   "id": "3003db86",
   "metadata": {},
   "source": [
    "# Tuples"
   ]
  },
  {
   "cell_type": "code",
   "execution_count": 1,
   "id": "35063037",
   "metadata": {},
   "outputs": [],
   "source": [
    "# tuples are created using round brackets and they are immutable\n",
    "num_tuple = (1,2,3)"
   ]
  },
  {
   "cell_type": "code",
   "execution_count": 2,
   "id": "71d0c072",
   "metadata": {},
   "outputs": [
    {
     "data": {
      "text/plain": [
       "(1, 2, 3)"
      ]
     },
     "execution_count": 2,
     "metadata": {},
     "output_type": "execute_result"
    }
   ],
   "source": [
    "num_tuple"
   ]
  },
  {
   "cell_type": "code",
   "execution_count": 4,
   "id": "c52df423",
   "metadata": {},
   "outputs": [],
   "source": [
    "num_list = [1,2,3]"
   ]
  },
  {
   "cell_type": "code",
   "execution_count": 5,
   "id": "8f5343a0",
   "metadata": {},
   "outputs": [
    {
     "data": {
      "text/plain": [
       "[1, 2, 3]"
      ]
     },
     "execution_count": 5,
     "metadata": {},
     "output_type": "execute_result"
    }
   ],
   "source": [
    "num_list"
   ]
  },
  {
   "cell_type": "code",
   "execution_count": 6,
   "id": "9826cf22",
   "metadata": {},
   "outputs": [
    {
     "data": {
      "text/plain": [
       "tuple"
      ]
     },
     "execution_count": 6,
     "metadata": {},
     "output_type": "execute_result"
    }
   ],
   "source": [
    "type(num_tuple)"
   ]
  },
  {
   "cell_type": "code",
   "execution_count": 7,
   "id": "f3d4bf5a",
   "metadata": {},
   "outputs": [
    {
     "data": {
      "text/plain": [
       "list"
      ]
     },
     "execution_count": 7,
     "metadata": {},
     "output_type": "execute_result"
    }
   ],
   "source": [
    "type(num_list)"
   ]
  },
  {
   "cell_type": "code",
   "execution_count": 9,
   "id": "705cbf49",
   "metadata": {},
   "outputs": [],
   "source": [
    "rep_num = (1,1,2,2,2,3,4,5,6,7,4,5,6,7,8,3,4,2,1,2)"
   ]
  },
  {
   "cell_type": "code",
   "execution_count": 10,
   "id": "5e06fe2f",
   "metadata": {},
   "outputs": [
    {
     "data": {
      "text/plain": [
       "5"
      ]
     },
     "execution_count": 10,
     "metadata": {},
     "output_type": "execute_result"
    }
   ],
   "source": [
    "# count is used to check how many times that value is repeated in tuple \n",
    "rep_num.count(2)"
   ]
  },
  {
   "cell_type": "code",
   "execution_count": 11,
   "id": "e7482485",
   "metadata": {},
   "outputs": [
    {
     "data": {
      "text/plain": [
       "6"
      ]
     },
     "execution_count": 11,
     "metadata": {},
     "output_type": "execute_result"
    }
   ],
   "source": [
    "# index denotes the number of index at which the number as first arrived in the tuple\n",
    "rep_num.index(4)"
   ]
  },
  {
   "cell_type": "markdown",
   "id": "88a318ae",
   "metadata": {},
   "source": [
    "# Sets"
   ]
  },
  {
   "cell_type": "code",
   "execution_count": 14,
   "id": "f9e1aac5",
   "metadata": {},
   "outputs": [],
   "source": [
    "# set is created\n",
    "even_num = set()"
   ]
  },
  {
   "cell_type": "code",
   "execution_count": 15,
   "id": "92f28022",
   "metadata": {},
   "outputs": [
    {
     "data": {
      "text/plain": [
       "set()"
      ]
     },
     "execution_count": 15,
     "metadata": {},
     "output_type": "execute_result"
    }
   ],
   "source": [
    "even_num"
   ]
  },
  {
   "cell_type": "code",
   "execution_count": 20,
   "id": "bee1a57f",
   "metadata": {},
   "outputs": [],
   "source": [
    "# elements are added one by one by using add\n",
    "even_num.add(2)"
   ]
  },
  {
   "cell_type": "code",
   "execution_count": 21,
   "id": "6337ebb9",
   "metadata": {},
   "outputs": [
    {
     "data": {
      "text/plain": [
       "{2}"
      ]
     },
     "execution_count": 21,
     "metadata": {},
     "output_type": "execute_result"
    }
   ],
   "source": [
    "even_num"
   ]
  },
  {
   "cell_type": "code",
   "execution_count": 22,
   "id": "be985642",
   "metadata": {},
   "outputs": [],
   "source": [
    "even_num.add(4)"
   ]
  },
  {
   "cell_type": "code",
   "execution_count": 23,
   "id": "b065ea94",
   "metadata": {},
   "outputs": [],
   "source": [
    "even_num.add(6)"
   ]
  },
  {
   "cell_type": "code",
   "execution_count": 24,
   "id": "191155f7",
   "metadata": {},
   "outputs": [],
   "source": [
    "even_num.add(8)"
   ]
  },
  {
   "cell_type": "code",
   "execution_count": 25,
   "id": "1263f288",
   "metadata": {},
   "outputs": [
    {
     "data": {
      "text/plain": [
       "{2, 4, 6, 8}"
      ]
     },
     "execution_count": 25,
     "metadata": {},
     "output_type": "execute_result"
    }
   ],
   "source": [
    "even_num"
   ]
  },
  {
   "cell_type": "code",
   "execution_count": 26,
   "id": "8c4757a8",
   "metadata": {},
   "outputs": [],
   "source": [
    "even_num.add(1)"
   ]
  },
  {
   "cell_type": "code",
   "execution_count": 27,
   "id": "98820ded",
   "metadata": {},
   "outputs": [
    {
     "data": {
      "text/plain": [
       "{1, 2, 4, 6, 8}"
      ]
     },
     "execution_count": 27,
     "metadata": {},
     "output_type": "execute_result"
    }
   ],
   "source": [
    "even_num"
   ]
  },
  {
   "cell_type": "code",
   "execution_count": 29,
   "id": "e163734a",
   "metadata": {},
   "outputs": [],
   "source": [
    "# elements can be removed using remove \n",
    "even_num.remove(1)"
   ]
  },
  {
   "cell_type": "code",
   "execution_count": 30,
   "id": "e16b9165",
   "metadata": {},
   "outputs": [
    {
     "data": {
      "text/plain": [
       "{2, 4, 6, 8}"
      ]
     },
     "execution_count": 30,
     "metadata": {},
     "output_type": "execute_result"
    }
   ],
   "source": [
    "even_num"
   ]
  },
  {
   "cell_type": "code",
   "execution_count": 31,
   "id": "bfe4cb8c",
   "metadata": {},
   "outputs": [],
   "source": [
    "even_num.add(8)"
   ]
  },
  {
   "cell_type": "code",
   "execution_count": 32,
   "id": "4e42b07d",
   "metadata": {},
   "outputs": [
    {
     "data": {
      "text/plain": [
       "{2, 4, 6, 8}"
      ]
     },
     "execution_count": 32,
     "metadata": {},
     "output_type": "execute_result"
    }
   ],
   "source": [
    "# even i tried to add another 8 but due to set's unique nature it can only have elements which are not repeated\n",
    "even_num"
   ]
  },
  {
   "cell_type": "markdown",
   "id": "1c10ab77",
   "metadata": {},
   "source": [
    "# Booleans"
   ]
  },
  {
   "cell_type": "code",
   "execution_count": 33,
   "id": "7ad295ff",
   "metadata": {},
   "outputs": [
    {
     "data": {
      "text/plain": [
       "True"
      ]
     },
     "execution_count": 33,
     "metadata": {},
     "output_type": "execute_result"
    }
   ],
   "source": [
    "# booleans give idea whether the written line of code or condition is true or false\n",
    "True"
   ]
  },
  {
   "cell_type": "code",
   "execution_count": 34,
   "id": "0dbe3f3b",
   "metadata": {},
   "outputs": [
    {
     "data": {
      "text/plain": [
       "False"
      ]
     },
     "execution_count": 34,
     "metadata": {},
     "output_type": "execute_result"
    }
   ],
   "source": [
    "False"
   ]
  },
  {
   "cell_type": "code",
   "execution_count": 35,
   "id": "ca902c90",
   "metadata": {},
   "outputs": [
    {
     "data": {
      "text/plain": [
       "bool"
      ]
     },
     "execution_count": 35,
     "metadata": {},
     "output_type": "execute_result"
    }
   ],
   "source": [
    "type(True)"
   ]
  },
  {
   "cell_type": "code",
   "execution_count": 36,
   "id": "9e428f34",
   "metadata": {},
   "outputs": [
    {
     "data": {
      "text/plain": [
       "bool"
      ]
     },
     "execution_count": 36,
     "metadata": {},
     "output_type": "execute_result"
    }
   ],
   "source": [
    "type(False)"
   ]
  },
  {
   "cell_type": "code",
   "execution_count": 37,
   "id": "e5757721",
   "metadata": {},
   "outputs": [],
   "source": [
    "a = 8\n",
    "b = 5"
   ]
  },
  {
   "cell_type": "code",
   "execution_count": 38,
   "id": "83125ccd",
   "metadata": {},
   "outputs": [
    {
     "data": {
      "text/plain": [
       "True"
      ]
     },
     "execution_count": 38,
     "metadata": {},
     "output_type": "execute_result"
    }
   ],
   "source": [
    "a > b"
   ]
  },
  {
   "cell_type": "code",
   "execution_count": 39,
   "id": "8b753fb6",
   "metadata": {},
   "outputs": [
    {
     "data": {
      "text/plain": [
       "False"
      ]
     },
     "execution_count": 39,
     "metadata": {},
     "output_type": "execute_result"
    }
   ],
   "source": [
    "a < b"
   ]
  },
  {
   "cell_type": "code",
   "execution_count": 40,
   "id": "9f311e53",
   "metadata": {},
   "outputs": [
    {
     "data": {
      "text/plain": [
       "False"
      ]
     },
     "execution_count": 40,
     "metadata": {},
     "output_type": "execute_result"
    }
   ],
   "source": [
    "a == b"
   ]
  },
  {
   "cell_type": "code",
   "execution_count": 41,
   "id": "a554b184",
   "metadata": {},
   "outputs": [
    {
     "data": {
      "text/plain": [
       "True"
      ]
     },
     "execution_count": 41,
     "metadata": {},
     "output_type": "execute_result"
    }
   ],
   "source": [
    "a % 2 == 0"
   ]
  },
  {
   "cell_type": "code",
   "execution_count": 42,
   "id": "21b05f48",
   "metadata": {},
   "outputs": [
    {
     "data": {
      "text/plain": [
       "False"
      ]
     },
     "execution_count": 42,
     "metadata": {},
     "output_type": "execute_result"
    }
   ],
   "source": [
    "b % 2 == 0"
   ]
  },
  {
   "cell_type": "markdown",
   "id": "fc312ce5",
   "metadata": {},
   "source": [
    "hence in this notebook we can see how the tuples, sets and booleans can be useful and what are their features."
   ]
  },
  {
   "cell_type": "code",
   "execution_count": null,
   "id": "d115e963",
   "metadata": {},
   "outputs": [],
   "source": []
  }
 ],
 "metadata": {
  "kernelspec": {
   "display_name": "Python 3 (ipykernel)",
   "language": "python",
   "name": "python3"
  },
  "language_info": {
   "codemirror_mode": {
    "name": "ipython",
    "version": 3
   },
   "file_extension": ".py",
   "mimetype": "text/x-python",
   "name": "python",
   "nbconvert_exporter": "python",
   "pygments_lexer": "ipython3",
   "version": "3.10.9"
  }
 },
 "nbformat": 4,
 "nbformat_minor": 5
}
