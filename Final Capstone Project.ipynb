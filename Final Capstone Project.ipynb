{
 "cells": [
  {
   "cell_type": "markdown",
   "id": "a5029fee",
   "metadata": {},
   "source": [
    "# A Simple Calculator"
   ]
  },
  {
   "cell_type": "code",
   "execution_count": 1,
   "id": "638b27cb",
   "metadata": {},
   "outputs": [],
   "source": [
    "def add(a,b):\n",
    "    return a + b"
   ]
  },
  {
   "cell_type": "code",
   "execution_count": 2,
   "id": "e5c77a43",
   "metadata": {},
   "outputs": [],
   "source": [
    "def sub(a,b):\n",
    "    return a - b"
   ]
  },
  {
   "cell_type": "code",
   "execution_count": 3,
   "id": "221da0f6",
   "metadata": {},
   "outputs": [],
   "source": [
    "def mul(a,b):\n",
    "    return a * b"
   ]
  },
  {
   "cell_type": "code",
   "execution_count": 4,
   "id": "d1162a5e",
   "metadata": {},
   "outputs": [],
   "source": [
    "def div(a,b):\n",
    "    return a / b"
   ]
  },
  {
   "cell_type": "code",
   "execution_count": 5,
   "id": "7a2a82fa",
   "metadata": {},
   "outputs": [],
   "source": [
    "def calculator(operator,a,b):\n",
    "    \n",
    "    '''\n",
    "    This function will act as a calculator and perform basic operations such as addition,subtraction,multiplication and\n",
    "    division. a operator b = c\n",
    "    \n",
    "    '''\n",
    "    if operator not in [\"+\",\"-\",\"*\",\"/\"]:\n",
    "        print(\"Please enter a valid operator to perform operation.\")\n",
    "    if operator == \"+\":\n",
    "        return f\"{a} {operator} {b} = {add(a,b)}\"\n",
    "    if operator == \"-\":\n",
    "        return f\"{a} {operator} {b} = {sub(a,b)}\"\n",
    "    if operator == \"*\":\n",
    "        return f\"{a} {operator} {b} = {mul(a,b)}\"\n",
    "    if operator == \"/\":\n",
    "        return f\"{a} {operator} {b} = {div(a,b)}\""
   ]
  },
  {
   "cell_type": "code",
   "execution_count": 6,
   "id": "593fba29",
   "metadata": {},
   "outputs": [],
   "source": [
    "def main():\n",
    "    \n",
    "    a = int(input(\"Enter the first number: \"))\n",
    "    \n",
    "    b = int(input(\"Enter the second number: \"))\n",
    "    \n",
    "    operator = input(\"Choose the operator (+,-,*,/): \")\n",
    "    \n",
    "    print(calculator(operator,a,b))\n",
    "    "
   ]
  },
  {
   "cell_type": "code",
   "execution_count": 7,
   "id": "0d50bd4f",
   "metadata": {},
   "outputs": [
    {
     "name": "stdout",
     "output_type": "stream",
     "text": [
      "Enter the first number: 10\n",
      "Enter the second number: 5\n",
      "Choose the operator (+,-,*,/): +\n",
      "10 + 5 = 15\n"
     ]
    }
   ],
   "source": [
    "if __name__ == \"__main__\":\n",
    "    main()"
   ]
  },
  {
   "cell_type": "code",
   "execution_count": 8,
   "id": "2b498f62",
   "metadata": {},
   "outputs": [
    {
     "name": "stdout",
     "output_type": "stream",
     "text": [
      "Enter the first number: 15\n",
      "Enter the second number: 10\n",
      "Choose the operator (+,-,*,/): -\n",
      "15 - 10 = 5\n"
     ]
    }
   ],
   "source": [
    "if __name__ == \"__main__\":\n",
    "    main()"
   ]
  },
  {
   "cell_type": "code",
   "execution_count": 10,
   "id": "c6652fc1",
   "metadata": {},
   "outputs": [
    {
     "name": "stdout",
     "output_type": "stream",
     "text": [
      "Enter the first number: 96\n",
      "Enter the second number: 6\n",
      "Choose the operator (+,-,*,/): *\n",
      "96 * 6 = 576\n"
     ]
    }
   ],
   "source": [
    "if __name__ == \"__main__\":\n",
    "    main()"
   ]
  },
  {
   "cell_type": "code",
   "execution_count": 11,
   "id": "6033c03b",
   "metadata": {},
   "outputs": [
    {
     "name": "stdout",
     "output_type": "stream",
     "text": [
      "Enter the first number: 680\n",
      "Enter the second number: 700\n",
      "Choose the operator (+,-,*,/): /\n",
      "680 / 700 = 0.9714285714285714\n"
     ]
    }
   ],
   "source": [
    "if __name__ == \"__main__\":\n",
    "    main()"
   ]
  },
  {
   "cell_type": "markdown",
   "id": "404faadf",
   "metadata": {},
   "source": [
    "# FizzBuzz"
   ]
  },
  {
   "cell_type": "code",
   "execution_count": 12,
   "id": "00b3abf7",
   "metadata": {},
   "outputs": [
    {
     "name": "stdout",
     "output_type": "stream",
     "text": [
      "1 is neither the multiple of 3 nor 5\n",
      "2 is neither the multiple of 3 nor 5\n",
      "Fizz\n",
      "4 is neither the multiple of 3 nor 5\n",
      "Buzz\n",
      "Fizz\n",
      "7 is neither the multiple of 3 nor 5\n",
      "8 is neither the multiple of 3 nor 5\n",
      "Fizz\n",
      "Buzz\n",
      "11 is neither the multiple of 3 nor 5\n",
      "Fizz\n",
      "13 is neither the multiple of 3 nor 5\n",
      "14 is neither the multiple of 3 nor 5\n",
      "FizzBuzz\n",
      "16 is neither the multiple of 3 nor 5\n",
      "17 is neither the multiple of 3 nor 5\n",
      "Fizz\n",
      "19 is neither the multiple of 3 nor 5\n",
      "Buzz\n",
      "Fizz\n",
      "22 is neither the multiple of 3 nor 5\n",
      "23 is neither the multiple of 3 nor 5\n",
      "Fizz\n",
      "Buzz\n",
      "26 is neither the multiple of 3 nor 5\n",
      "Fizz\n",
      "28 is neither the multiple of 3 nor 5\n",
      "29 is neither the multiple of 3 nor 5\n",
      "FizzBuzz\n",
      "31 is neither the multiple of 3 nor 5\n",
      "32 is neither the multiple of 3 nor 5\n",
      "Fizz\n",
      "34 is neither the multiple of 3 nor 5\n",
      "Buzz\n",
      "Fizz\n",
      "37 is neither the multiple of 3 nor 5\n",
      "38 is neither the multiple of 3 nor 5\n",
      "Fizz\n",
      "Buzz\n",
      "41 is neither the multiple of 3 nor 5\n",
      "Fizz\n",
      "43 is neither the multiple of 3 nor 5\n",
      "44 is neither the multiple of 3 nor 5\n",
      "FizzBuzz\n",
      "46 is neither the multiple of 3 nor 5\n",
      "47 is neither the multiple of 3 nor 5\n",
      "Fizz\n",
      "49 is neither the multiple of 3 nor 5\n",
      "Buzz\n",
      "Fizz\n",
      "52 is neither the multiple of 3 nor 5\n",
      "53 is neither the multiple of 3 nor 5\n",
      "Fizz\n",
      "Buzz\n",
      "56 is neither the multiple of 3 nor 5\n",
      "Fizz\n",
      "58 is neither the multiple of 3 nor 5\n",
      "59 is neither the multiple of 3 nor 5\n",
      "FizzBuzz\n",
      "61 is neither the multiple of 3 nor 5\n",
      "62 is neither the multiple of 3 nor 5\n",
      "Fizz\n",
      "64 is neither the multiple of 3 nor 5\n",
      "Buzz\n",
      "Fizz\n",
      "67 is neither the multiple of 3 nor 5\n",
      "68 is neither the multiple of 3 nor 5\n",
      "Fizz\n",
      "Buzz\n",
      "71 is neither the multiple of 3 nor 5\n",
      "Fizz\n",
      "73 is neither the multiple of 3 nor 5\n",
      "74 is neither the multiple of 3 nor 5\n",
      "FizzBuzz\n",
      "76 is neither the multiple of 3 nor 5\n",
      "77 is neither the multiple of 3 nor 5\n",
      "Fizz\n",
      "79 is neither the multiple of 3 nor 5\n",
      "Buzz\n",
      "Fizz\n",
      "82 is neither the multiple of 3 nor 5\n",
      "83 is neither the multiple of 3 nor 5\n",
      "Fizz\n",
      "Buzz\n",
      "86 is neither the multiple of 3 nor 5\n",
      "Fizz\n",
      "88 is neither the multiple of 3 nor 5\n",
      "89 is neither the multiple of 3 nor 5\n",
      "FizzBuzz\n",
      "91 is neither the multiple of 3 nor 5\n",
      "92 is neither the multiple of 3 nor 5\n",
      "Fizz\n",
      "94 is neither the multiple of 3 nor 5\n",
      "Buzz\n",
      "Fizz\n",
      "97 is neither the multiple of 3 nor 5\n",
      "98 is neither the multiple of 3 nor 5\n",
      "Fizz\n",
      "Buzz\n"
     ]
    }
   ],
   "source": [
    "if __name__ == \"__main__\":\n",
    "    \n",
    "    for num in range(1,101):\n",
    "        \n",
    "        if num % 3 == 0 and num % 5 == 0:\n",
    "            print(\"FizzBuzz\")\n",
    "        elif num % 3 == 0:\n",
    "            print(\"Fizz\")\n",
    "        elif num % 5 == 0:\n",
    "            print(\"Buzz\")\n",
    "        else:\n",
    "            print(f'{num} is neither the multiple of 3 nor 5')"
   ]
  },
  {
   "cell_type": "markdown",
   "id": "f1a535e1",
   "metadata": {},
   "source": [
    "# Input take from user"
   ]
  },
  {
   "cell_type": "code",
   "execution_count": 13,
   "id": "1247341c",
   "metadata": {},
   "outputs": [
    {
     "name": "stdout",
     "output_type": "stream",
     "text": [
      "Enter the number: 9900\n",
      "FizzBuzz\n"
     ]
    }
   ],
   "source": [
    "if __name__ == \"__main__\":\n",
    "    \n",
    "    num = int(input(\"Enter the number: \"))\n",
    "    \n",
    "    if num % 3 == 0 and num % 5 == 0:\n",
    "        print(\"FizzBuzz\")\n",
    "    elif num % 3 == 0:\n",
    "        print(\"Fizz\")\n",
    "    elif num % 5 == 0:\n",
    "        print(\"Buzz\")\n",
    "    else:\n",
    "        print(f'{num} is neither the multiple of 3 nor 5')"
   ]
  },
  {
   "cell_type": "markdown",
   "id": "7549c3ec",
   "metadata": {},
   "source": [
    "# Palindrome"
   ]
  },
  {
   "cell_type": "code",
   "execution_count": 14,
   "id": "2e21ec3e",
   "metadata": {},
   "outputs": [
    {
     "name": "stdout",
     "output_type": "stream",
     "text": [
      "Enter the word: madam\n",
      "The word is plaindrome\n"
     ]
    }
   ],
   "source": [
    "if __name__ == \"__main__\":\n",
    "    word = input(\"Enter the word: \")\n",
    "    \n",
    "    if word[::-1] == word:\n",
    "        print(\"The word is plaindrome\")\n",
    "    else:\n",
    "        print(\"The word is not a palindrome\")"
   ]
  },
  {
   "cell_type": "markdown",
   "id": "f079417b",
   "metadata": {},
   "source": [
    "# Program for returning reverse of given string"
   ]
  },
  {
   "cell_type": "code",
   "execution_count": 15,
   "id": "4c413153",
   "metadata": {},
   "outputs": [],
   "source": [
    "def reverse(string):\n",
    "    return string[::-1]"
   ]
  },
  {
   "cell_type": "code",
   "execution_count": 16,
   "id": "518792c7",
   "metadata": {},
   "outputs": [
    {
     "name": "stdout",
     "output_type": "stream",
     "text": [
      "Enter the string: My name is Akash\n",
      "hsakA si eman yM\n"
     ]
    }
   ],
   "source": [
    "if __name__ == \"__main__\":\n",
    "    string = input(\"Enter the string: \")\n",
    "    \n",
    "    print(reverse(string))"
   ]
  },
  {
   "cell_type": "markdown",
   "id": "c2030050",
   "metadata": {},
   "source": [
    "# Creating own browser"
   ]
  },
  {
   "cell_type": "code",
   "execution_count": 1,
   "id": "de21858a",
   "metadata": {},
   "outputs": [],
   "source": [
    "import sys"
   ]
  },
  {
   "cell_type": "code",
   "execution_count": 2,
   "id": "4755cc9d",
   "metadata": {},
   "outputs": [],
   "source": [
    "from PyQt5.QtCore import *"
   ]
  },
  {
   "cell_type": "code",
   "execution_count": 3,
   "id": "35729e9a",
   "metadata": {},
   "outputs": [],
   "source": [
    "from PyQt5.QtWidgets import *"
   ]
  },
  {
   "cell_type": "code",
   "execution_count": 4,
   "id": "9a9b2680",
   "metadata": {},
   "outputs": [],
   "source": [
    "from PyQt5.QtWebEngineWidgets import *"
   ]
  },
  {
   "cell_type": "code",
   "execution_count": 5,
   "id": "00877db2",
   "metadata": {},
   "outputs": [],
   "source": [
    "class MainWindow(QMainWindow):\n",
    "    def __init__(self):\n",
    "        super(MainWindow, self).__init__()\n",
    "        self.browser = QWebEngineView()\n",
    "        self.browser.setUrl(QUrl('https://search.brave.com/'))\n",
    "        self.setCentralWidget(self.browser)\n",
    "        self.showMaximized()\n",
    "        \n",
    "        # Navigation Bar\n",
    "        navigation_bar = QToolBar()\n",
    "        self.addToolBar(navigation_bar)\n",
    "        # back button setting\n",
    "        back_button = QAction('Back', self)\n",
    "        back_button.triggered.connect(self.browser.back)\n",
    "        navigation_bar.addAction(back_button)\n",
    "        # forward button setting\n",
    "        forward_button = QAction('Forward', self)\n",
    "        forward_button.triggered.connect(self.browser.forward)\n",
    "        navigation_bar.addAction(forward_button)\n",
    "        # reload button setting\n",
    "        reload_button = QAction('Reload', self)\n",
    "        reload_button.triggered.connect(self.browser.reload)\n",
    "        navigation_bar.addAction(reload_button)\n",
    "        # Home button setting\n",
    "        home_button = QAction('Home', self)\n",
    "        home_button.triggered.connect(self.navigate_home)\n",
    "        navigation_bar.addAction(home_button)\n",
    "\n",
    "        self.url_bar = QLineEdit()\n",
    "        self.url_bar.returnPressed.connect(self.navigate_to_url)\n",
    "        navigation_bar.addWidget(self.url_bar)\n",
    "\n",
    "        self.browser.urlChanged.connect(self.update_url)\n",
    "    \n",
    "    def navigate_home(self):\n",
    "        self.browser.setUrl(QUrl('https://www.wikipedia.org/'))\n",
    "\n",
    "    def navigate_to_url(self):\n",
    "        url = self.url_bar.text()\n",
    "        self.browser.setUrl(QUrl(url))\n",
    "\n",
    "    def update_url(self, q):\n",
    "        self.url_bar.setText(q.toString())"
   ]
  },
  {
   "cell_type": "code",
   "execution_count": 6,
   "id": "4539b32f",
   "metadata": {},
   "outputs": [
    {
     "data": {
      "text/plain": [
       "0"
      ]
     },
     "execution_count": 6,
     "metadata": {},
     "output_type": "execute_result"
    }
   ],
   "source": [
    "app = QApplication(sys.argv)\n",
    "QApplication.setApplicationName('Mikana')\n",
    "window = MainWindow()\n",
    "app.exec_()"
   ]
  },
  {
   "cell_type": "code",
   "execution_count": null,
   "id": "9fb59c85",
   "metadata": {},
   "outputs": [],
   "source": []
  }
 ],
 "metadata": {
  "kernelspec": {
   "display_name": "Python 3 (ipykernel)",
   "language": "python",
   "name": "python3"
  },
  "language_info": {
   "codemirror_mode": {
    "name": "ipython",
    "version": 3
   },
   "file_extension": ".py",
   "mimetype": "text/x-python",
   "name": "python",
   "nbconvert_exporter": "python",
   "pygments_lexer": "ipython3",
   "version": "3.10.9"
  }
 },
 "nbformat": 4,
 "nbformat_minor": 5
}
