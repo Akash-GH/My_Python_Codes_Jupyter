{
 "cells": [
  {
   "cell_type": "markdown",
   "id": "92f44bec",
   "metadata": {},
   "source": [
    "# Card Class"
   ]
  },
  {
   "cell_type": "code",
   "execution_count": 1,
   "id": "b5bd5a63",
   "metadata": {},
   "outputs": [],
   "source": [
    "import random"
   ]
  },
  {
   "cell_type": "code",
   "execution_count": 2,
   "id": "56e2e4ea",
   "metadata": {},
   "outputs": [],
   "source": [
    "suits = ('Hearts', 'Diamonds', 'Spades', 'Clubs')\n",
    "ranks = ('Two', 'Three', 'Four', 'Five', 'Six', 'Seven', 'Eight', 'Nine', 'Ten', 'Jack', 'Queen', 'King', 'Ace')\n",
    "values = {'Two':2, 'Three':3, 'Four':4, 'Five':5, 'Six':6, 'Seven':7, 'Eight':8, \n",
    "            'Nine':9, 'Ten':10, 'Jack':11, 'Queen':12, 'King':13, 'Ace':14}"
   ]
  },
  {
   "cell_type": "code",
   "execution_count": 3,
   "id": "ce8cd13e",
   "metadata": {},
   "outputs": [],
   "source": [
    "class Card:\n",
    "    \n",
    "    def __init__(self,suit,rank):\n",
    "        self.suit = suit\n",
    "        self.rank = rank\n",
    "        self.values = values[rank]\n",
    "    \n",
    "    def __str__(self):\n",
    "        return f\"{self.rank} of {self.suit}\""
   ]
  },
  {
   "cell_type": "code",
   "execution_count": 4,
   "id": "ad21cd68",
   "metadata": {},
   "outputs": [],
   "source": [
    "two_of_diamonds = Card(\"Diamond\",\"Two\")"
   ]
  },
  {
   "cell_type": "code",
   "execution_count": 5,
   "id": "241e88cf",
   "metadata": {},
   "outputs": [
    {
     "data": {
      "text/plain": [
       "'Diamond'"
      ]
     },
     "execution_count": 5,
     "metadata": {},
     "output_type": "execute_result"
    }
   ],
   "source": [
    "two_of_diamonds.suit"
   ]
  },
  {
   "cell_type": "code",
   "execution_count": 6,
   "id": "2fa0a426",
   "metadata": {},
   "outputs": [
    {
     "data": {
      "text/plain": [
       "'Two'"
      ]
     },
     "execution_count": 6,
     "metadata": {},
     "output_type": "execute_result"
    }
   ],
   "source": [
    "two_of_diamonds.rank"
   ]
  },
  {
   "cell_type": "code",
   "execution_count": 7,
   "id": "26b67d24",
   "metadata": {},
   "outputs": [
    {
     "data": {
      "text/plain": [
       "2"
      ]
     },
     "execution_count": 7,
     "metadata": {},
     "output_type": "execute_result"
    }
   ],
   "source": [
    "two_of_diamonds.values"
   ]
  },
  {
   "cell_type": "code",
   "execution_count": 8,
   "id": "52e9a27f",
   "metadata": {},
   "outputs": [],
   "source": [
    "three_of_spades = Card(\"Spades\",\"Three\")"
   ]
  },
  {
   "cell_type": "code",
   "execution_count": 9,
   "id": "ad7d28da",
   "metadata": {},
   "outputs": [
    {
     "data": {
      "text/plain": [
       "'Spades'"
      ]
     },
     "execution_count": 9,
     "metadata": {},
     "output_type": "execute_result"
    }
   ],
   "source": [
    "three_of_spades.suit"
   ]
  },
  {
   "cell_type": "code",
   "execution_count": 10,
   "id": "25bfa027",
   "metadata": {},
   "outputs": [
    {
     "data": {
      "text/plain": [
       "'Three'"
      ]
     },
     "execution_count": 10,
     "metadata": {},
     "output_type": "execute_result"
    }
   ],
   "source": [
    "three_of_spades.rank"
   ]
  },
  {
   "cell_type": "code",
   "execution_count": 11,
   "id": "54b0c2e1",
   "metadata": {},
   "outputs": [
    {
     "data": {
      "text/plain": [
       "3"
      ]
     },
     "execution_count": 11,
     "metadata": {},
     "output_type": "execute_result"
    }
   ],
   "source": [
    "three_of_spades.values"
   ]
  },
  {
   "cell_type": "code",
   "execution_count": 12,
   "id": "bb8b7e16",
   "metadata": {},
   "outputs": [
    {
     "data": {
      "text/plain": [
       "True"
      ]
     },
     "execution_count": 12,
     "metadata": {},
     "output_type": "execute_result"
    }
   ],
   "source": [
    "two_of_diamonds.values < three_of_spades.values"
   ]
  },
  {
   "cell_type": "markdown",
   "id": "1bb8c3a8",
   "metadata": {},
   "source": [
    "# Deck Class"
   ]
  },
  {
   "cell_type": "code",
   "execution_count": 13,
   "id": "cdaf69cf",
   "metadata": {},
   "outputs": [],
   "source": [
    "class Deck:\n",
    "    \n",
    "    def __init__(self):\n",
    "        \n",
    "        self.all_cards = []\n",
    "        \n",
    "        for suit in suits:\n",
    "            for rank in ranks:\n",
    "                \n",
    "                created_card = Card(suit,rank)\n",
    "                \n",
    "                self.all_cards.append(created_card)\n",
    "    \n",
    "    \n",
    "    def shuffle(self):\n",
    "        random.shuffle(self.all_cards)\n",
    "        \n",
    "    def deal_one(self):\n",
    "        return self.all_cards.pop()        "
   ]
  },
  {
   "cell_type": "code",
   "execution_count": 14,
   "id": "ddf39fc5",
   "metadata": {},
   "outputs": [],
   "source": [
    "card_deck = Deck()"
   ]
  },
  {
   "cell_type": "code",
   "execution_count": 15,
   "id": "6dd1d3ff",
   "metadata": {},
   "outputs": [
    {
     "data": {
      "text/plain": [
       "[<__main__.Card at 0x21c1300f2b0>,\n",
       " <__main__.Card at 0x21c1300f2e0>,\n",
       " <__main__.Card at 0x21c1300ff10>,\n",
       " <__main__.Card at 0x21c1300ffa0>,\n",
       " <__main__.Card at 0x21c1300ff70>,\n",
       " <__main__.Card at 0x21c1300d8d0>,\n",
       " <__main__.Card at 0x21c1300f0d0>,\n",
       " <__main__.Card at 0x21c1300e7d0>,\n",
       " <__main__.Card at 0x21c1300c2e0>,\n",
       " <__main__.Card at 0x21c1300fdc0>,\n",
       " <__main__.Card at 0x21c1300fbb0>,\n",
       " <__main__.Card at 0x21c1300faf0>,\n",
       " <__main__.Card at 0x21c1300fb50>,\n",
       " <__main__.Card at 0x21c1300fd90>,\n",
       " <__main__.Card at 0x21c1300fa60>,\n",
       " <__main__.Card at 0x21c1300f9d0>,\n",
       " <__main__.Card at 0x21c1300f970>,\n",
       " <__main__.Card at 0x21c1300fac0>,\n",
       " <__main__.Card at 0x21c1300eb00>,\n",
       " <__main__.Card at 0x21c1300d270>,\n",
       " <__main__.Card at 0x21c1300f520>,\n",
       " <__main__.Card at 0x21c1300e740>,\n",
       " <__main__.Card at 0x21c1300fe20>,\n",
       " <__main__.Card at 0x21c1300dab0>,\n",
       " <__main__.Card at 0x21c1300de70>,\n",
       " <__main__.Card at 0x21c1300e590>,\n",
       " <__main__.Card at 0x21c1300efe0>,\n",
       " <__main__.Card at 0x21c1300f010>,\n",
       " <__main__.Card at 0x21c1300f070>,\n",
       " <__main__.Card at 0x21c1300f310>,\n",
       " <__main__.Card at 0x21c1300f370>,\n",
       " <__main__.Card at 0x21c1300f610>,\n",
       " <__main__.Card at 0x21c1300f8e0>,\n",
       " <__main__.Card at 0x21c1300f880>,\n",
       " <__main__.Card at 0x21c1300f820>,\n",
       " <__main__.Card at 0x21c1300f7c0>,\n",
       " <__main__.Card at 0x21c1300f760>,\n",
       " <__main__.Card at 0x21c1300f700>,\n",
       " <__main__.Card at 0x21c1300f6a0>,\n",
       " <__main__.Card at 0x21c1300ef80>,\n",
       " <__main__.Card at 0x21c1300eef0>,\n",
       " <__main__.Card at 0x21c1300ee90>,\n",
       " <__main__.Card at 0x21c1300ed70>,\n",
       " <__main__.Card at 0x21c1300eb90>,\n",
       " <__main__.Card at 0x21c1300eb30>,\n",
       " <__main__.Card at 0x21c1300ea70>,\n",
       " <__main__.Card at 0x21c1300ea10>,\n",
       " <__main__.Card at 0x21c1300e9e0>,\n",
       " <__main__.Card at 0x21c1300e980>,\n",
       " <__main__.Card at 0x21c1300e920>,\n",
       " <__main__.Card at 0x21c1300e8c0>,\n",
       " <__main__.Card at 0x21c1300e860>]"
      ]
     },
     "execution_count": 15,
     "metadata": {},
     "output_type": "execute_result"
    }
   ],
   "source": [
    "card_deck.all_cards"
   ]
  },
  {
   "cell_type": "code",
   "execution_count": 16,
   "id": "1c7e6818",
   "metadata": {},
   "outputs": [],
   "source": [
    "first_card = card_deck.all_cards[0]"
   ]
  },
  {
   "cell_type": "code",
   "execution_count": 17,
   "id": "8b4061a2",
   "metadata": {},
   "outputs": [
    {
     "data": {
      "text/plain": [
       "<__main__.Card at 0x21c1300f2b0>"
      ]
     },
     "execution_count": 17,
     "metadata": {},
     "output_type": "execute_result"
    }
   ],
   "source": [
    "first_card"
   ]
  },
  {
   "cell_type": "code",
   "execution_count": 18,
   "id": "0a7a03cd",
   "metadata": {},
   "outputs": [
    {
     "name": "stdout",
     "output_type": "stream",
     "text": [
      "Two of Hearts\n"
     ]
    }
   ],
   "source": [
    "print(first_card)"
   ]
  },
  {
   "cell_type": "code",
   "execution_count": 19,
   "id": "839267c4",
   "metadata": {},
   "outputs": [],
   "source": [
    "bottom_card = card_deck.all_cards[-1]"
   ]
  },
  {
   "cell_type": "code",
   "execution_count": 20,
   "id": "e75e21f2",
   "metadata": {},
   "outputs": [
    {
     "data": {
      "text/plain": [
       "<__main__.Card at 0x21c1300e860>"
      ]
     },
     "execution_count": 20,
     "metadata": {},
     "output_type": "execute_result"
    }
   ],
   "source": [
    "bottom_card "
   ]
  },
  {
   "cell_type": "code",
   "execution_count": 21,
   "id": "2ba411c2",
   "metadata": {},
   "outputs": [
    {
     "name": "stdout",
     "output_type": "stream",
     "text": [
      "Ace of Clubs\n"
     ]
    }
   ],
   "source": [
    "print(bottom_card) "
   ]
  },
  {
   "cell_type": "code",
   "execution_count": 22,
   "id": "66059aba",
   "metadata": {},
   "outputs": [
    {
     "name": "stdout",
     "output_type": "stream",
     "text": [
      "Two of Hearts\n",
      "Three of Hearts\n",
      "Four of Hearts\n",
      "Five of Hearts\n",
      "Six of Hearts\n",
      "Seven of Hearts\n",
      "Eight of Hearts\n",
      "Nine of Hearts\n",
      "Ten of Hearts\n",
      "Jack of Hearts\n",
      "Queen of Hearts\n",
      "King of Hearts\n",
      "Ace of Hearts\n",
      "Two of Diamonds\n",
      "Three of Diamonds\n",
      "Four of Diamonds\n",
      "Five of Diamonds\n",
      "Six of Diamonds\n",
      "Seven of Diamonds\n",
      "Eight of Diamonds\n",
      "Nine of Diamonds\n",
      "Ten of Diamonds\n",
      "Jack of Diamonds\n",
      "Queen of Diamonds\n",
      "King of Diamonds\n",
      "Ace of Diamonds\n",
      "Two of Spades\n",
      "Three of Spades\n",
      "Four of Spades\n",
      "Five of Spades\n",
      "Six of Spades\n",
      "Seven of Spades\n",
      "Eight of Spades\n",
      "Nine of Spades\n",
      "Ten of Spades\n",
      "Jack of Spades\n",
      "Queen of Spades\n",
      "King of Spades\n",
      "Ace of Spades\n",
      "Two of Clubs\n",
      "Three of Clubs\n",
      "Four of Clubs\n",
      "Five of Clubs\n",
      "Six of Clubs\n",
      "Seven of Clubs\n",
      "Eight of Clubs\n",
      "Nine of Clubs\n",
      "Ten of Clubs\n",
      "Jack of Clubs\n",
      "Queen of Clubs\n",
      "King of Clubs\n",
      "Ace of Clubs\n"
     ]
    }
   ],
   "source": [
    "for cards in card_deck.all_cards:\n",
    "    print(cards)"
   ]
  },
  {
   "cell_type": "code",
   "execution_count": 23,
   "id": "85627b63",
   "metadata": {},
   "outputs": [],
   "source": [
    "card_deck.shuffle()"
   ]
  },
  {
   "cell_type": "code",
   "execution_count": 24,
   "id": "9617f137",
   "metadata": {},
   "outputs": [],
   "source": [
    "# s = Shuffle\n",
    "sfirst_card = card_deck.all_cards[0]"
   ]
  },
  {
   "cell_type": "code",
   "execution_count": 25,
   "id": "dbc70639",
   "metadata": {},
   "outputs": [
    {
     "data": {
      "text/plain": [
       "<__main__.Card at 0x21c1300d270>"
      ]
     },
     "execution_count": 25,
     "metadata": {},
     "output_type": "execute_result"
    }
   ],
   "source": [
    "sfirst_card"
   ]
  },
  {
   "cell_type": "code",
   "execution_count": 26,
   "id": "dd536b73",
   "metadata": {},
   "outputs": [
    {
     "name": "stdout",
     "output_type": "stream",
     "text": [
      "Eight of Diamonds\n"
     ]
    }
   ],
   "source": [
    "print(sfirst_card)"
   ]
  },
  {
   "cell_type": "code",
   "execution_count": 27,
   "id": "d7c07146",
   "metadata": {},
   "outputs": [],
   "source": [
    "sbottom_card = card_deck.all_cards[-1]"
   ]
  },
  {
   "cell_type": "code",
   "execution_count": 28,
   "id": "e037fd2f",
   "metadata": {},
   "outputs": [
    {
     "data": {
      "text/plain": [
       "<__main__.Card at 0x21c1300ef80>"
      ]
     },
     "execution_count": 28,
     "metadata": {},
     "output_type": "execute_result"
    }
   ],
   "source": [
    "sbottom_card "
   ]
  },
  {
   "cell_type": "code",
   "execution_count": 29,
   "id": "5a011673",
   "metadata": {},
   "outputs": [
    {
     "name": "stdout",
     "output_type": "stream",
     "text": [
      "Two of Clubs\n"
     ]
    }
   ],
   "source": [
    "print(sbottom_card) "
   ]
  },
  {
   "cell_type": "code",
   "execution_count": 30,
   "id": "b2187392",
   "metadata": {},
   "outputs": [
    {
     "name": "stdout",
     "output_type": "stream",
     "text": [
      "Eight of Diamonds\n",
      "Seven of Clubs\n",
      "King of Clubs\n",
      "Three of Clubs\n",
      "Ten of Spades\n",
      "Ace of Diamonds\n",
      "King of Diamonds\n",
      "Jack of Spades\n",
      "Five of Spades\n",
      "Queen of Diamonds\n",
      "Five of Diamonds\n",
      "Two of Hearts\n",
      "Five of Hearts\n",
      "Four of Spades\n",
      "Three of Diamonds\n",
      "Ace of Spades\n",
      "Jack of Clubs\n",
      "Nine of Spades\n",
      "Eight of Clubs\n",
      "Jack of Hearts\n",
      "Ten of Clubs\n",
      "Nine of Diamonds\n",
      "Four of Diamonds\n",
      "Seven of Diamonds\n",
      "Queen of Spades\n",
      "Eight of Hearts\n",
      "Seven of Spades\n",
      "Nine of Clubs\n",
      "King of Spades\n",
      "King of Hearts\n",
      "Six of Clubs\n",
      "Ace of Clubs\n",
      "Ace of Hearts\n",
      "Six of Hearts\n",
      "Ten of Diamonds\n",
      "Queen of Hearts\n",
      "Jack of Diamonds\n",
      "Three of Hearts\n",
      "Four of Clubs\n",
      "Seven of Hearts\n",
      "Six of Diamonds\n",
      "Two of Diamonds\n",
      "Queen of Clubs\n",
      "Five of Clubs\n",
      "Two of Spades\n",
      "Three of Spades\n",
      "Nine of Hearts\n",
      "Eight of Spades\n",
      "Four of Hearts\n",
      "Ten of Hearts\n",
      "Six of Spades\n",
      "Two of Clubs\n"
     ]
    }
   ],
   "source": [
    "for scards in card_deck.all_cards:\n",
    "    print(scards)"
   ]
  },
  {
   "cell_type": "code",
   "execution_count": 31,
   "id": "59690d1d",
   "metadata": {},
   "outputs": [],
   "source": [
    "mycard = card_deck.deal_one()"
   ]
  },
  {
   "cell_type": "code",
   "execution_count": 32,
   "id": "b259a988",
   "metadata": {},
   "outputs": [
    {
     "name": "stdout",
     "output_type": "stream",
     "text": [
      "Two of Clubs\n"
     ]
    }
   ],
   "source": [
    "print(mycard)"
   ]
  },
  {
   "cell_type": "code",
   "execution_count": 33,
   "id": "3df27fdf",
   "metadata": {},
   "outputs": [
    {
     "data": {
      "text/plain": [
       "51"
      ]
     },
     "execution_count": 33,
     "metadata": {},
     "output_type": "execute_result"
    }
   ],
   "source": [
    "len(card_deck.all_cards)"
   ]
  },
  {
   "cell_type": "markdown",
   "id": "3933a7e6",
   "metadata": {},
   "source": [
    "# Player Class"
   ]
  },
  {
   "cell_type": "code",
   "execution_count": 34,
   "id": "37606cac",
   "metadata": {},
   "outputs": [],
   "source": [
    "class Player:\n",
    "    \n",
    "    def __init__(self,name):\n",
    "        self.name = name\n",
    "        self.all_cards = []\n",
    "    \n",
    "    def remove_one(self):\n",
    "        return self.all_cards.pop(0)\n",
    "    \n",
    "    def add_cards(self,new_cards):\n",
    "        if type(new_cards) == type([]):\n",
    "            self.all_cards.extend(new_cards)\n",
    "        else:\n",
    "            self.all_cards.append(new_cards)\n",
    "        \n",
    "    def __str__(self):\n",
    "        return f\"Player: {self.name} has {len(self.all_cards)} cards\""
   ]
  },
  {
   "cell_type": "code",
   "execution_count": 35,
   "id": "c19b9568",
   "metadata": {},
   "outputs": [],
   "source": [
    "Player1 = Player(\"Akash\")"
   ]
  },
  {
   "cell_type": "code",
   "execution_count": 36,
   "id": "bd8c3635",
   "metadata": {},
   "outputs": [
    {
     "name": "stdout",
     "output_type": "stream",
     "text": [
      "Player: Akash has 0 cards\n"
     ]
    }
   ],
   "source": [
    "print(Player1)"
   ]
  },
  {
   "cell_type": "code",
   "execution_count": 37,
   "id": "8082c023",
   "metadata": {},
   "outputs": [],
   "source": [
    "Player1.add_cards(mycard)"
   ]
  },
  {
   "cell_type": "code",
   "execution_count": 38,
   "id": "99107815",
   "metadata": {},
   "outputs": [
    {
     "name": "stdout",
     "output_type": "stream",
     "text": [
      "Player: Akash has 1 cards\n"
     ]
    }
   ],
   "source": [
    "print(Player1)"
   ]
  },
  {
   "cell_type": "code",
   "execution_count": 39,
   "id": "6540237e",
   "metadata": {},
   "outputs": [],
   "source": [
    "Player1.add_cards([mycard,mycard,mycard])"
   ]
  },
  {
   "cell_type": "code",
   "execution_count": 40,
   "id": "e308a69b",
   "metadata": {},
   "outputs": [
    {
     "name": "stdout",
     "output_type": "stream",
     "text": [
      "Player: Akash has 4 cards\n"
     ]
    }
   ],
   "source": [
    "print(Player1)"
   ]
  },
  {
   "cell_type": "code",
   "execution_count": 41,
   "id": "f1699c25",
   "metadata": {},
   "outputs": [
    {
     "data": {
      "text/plain": [
       "<__main__.Card at 0x21c1300ef80>"
      ]
     },
     "execution_count": 41,
     "metadata": {},
     "output_type": "execute_result"
    }
   ],
   "source": [
    "Player1.remove_one()"
   ]
  },
  {
   "cell_type": "code",
   "execution_count": 42,
   "id": "bd63dbfe",
   "metadata": {},
   "outputs": [
    {
     "name": "stdout",
     "output_type": "stream",
     "text": [
      "Player: Akash has 3 cards\n"
     ]
    }
   ],
   "source": [
    "print(Player1)"
   ]
  },
  {
   "cell_type": "markdown",
   "id": "9efa163e",
   "metadata": {},
   "source": [
    "# Game Logic"
   ]
  },
  {
   "cell_type": "code",
   "execution_count": 79,
   "id": "8938b553",
   "metadata": {},
   "outputs": [],
   "source": [
    "# Game setup\n",
    "player_one = Player(\"One\") # player 1 created\n",
    "player_two = Player(\"Two\") # player 2 created\n",
    "\n",
    "new_deck = Deck() # A new deck of cards is created\n",
    "new_deck.shuffle() # deck has been shuffled\n",
    "\n",
    "for cards in range(26): # Each player will get 26 cards each\n",
    "    player_one.add_cards(new_deck.deal_one()) # Each get one card one by one \n",
    "    player_two.add_cards(new_deck.deal_one()) "
   ]
  },
  {
   "cell_type": "code",
   "execution_count": 80,
   "id": "906ad6fb",
   "metadata": {},
   "outputs": [
    {
     "data": {
      "text/plain": [
       "26"
      ]
     },
     "execution_count": 80,
     "metadata": {},
     "output_type": "execute_result"
    }
   ],
   "source": [
    "len(player_one.all_cards)"
   ]
  },
  {
   "cell_type": "code",
   "execution_count": 81,
   "id": "39ee73cf",
   "metadata": {},
   "outputs": [
    {
     "data": {
      "text/plain": [
       "26"
      ]
     },
     "execution_count": 81,
     "metadata": {},
     "output_type": "execute_result"
    }
   ],
   "source": [
    "len(player_two.all_cards)\n"
   ]
  },
  {
   "cell_type": "code",
   "execution_count": 82,
   "id": "a1b39d08",
   "metadata": {},
   "outputs": [],
   "source": [
    "game_on = True"
   ]
  },
  {
   "cell_type": "code",
   "execution_count": 83,
   "id": "b4efd169",
   "metadata": {},
   "outputs": [
    {
     "name": "stdout",
     "output_type": "stream",
     "text": [
      "Round 1\n",
      "Round 2\n",
      "WAR!\n",
      "Round 3\n",
      "Round 4\n",
      "Round 5\n",
      "Round 6\n",
      "Round 7\n",
      "Round 8\n",
      "Round 9\n",
      "Round 10\n",
      "Round 11\n",
      "Round 12\n",
      "Round 13\n",
      "Round 14\n",
      "Round 15\n",
      "Round 16\n",
      "Round 17\n",
      "Round 18\n",
      "Round 19\n",
      "WAR!\n",
      "Round 20\n",
      "Round 21\n",
      "Round 22\n",
      "Round 23\n",
      "Round 24\n",
      "Round 25\n",
      "Round 26\n",
      "Round 27\n",
      "WAR!\n",
      "Round 28\n",
      "Round 29\n",
      "Round 30\n",
      "Round 31\n",
      "Round 32\n",
      "Round 33\n",
      "Round 34\n",
      "Round 35\n",
      "Round 36\n",
      "Round 37\n",
      "Round 38\n",
      "Round 39\n",
      "Round 40\n",
      "Round 41\n",
      "Round 42\n",
      "Round 43\n",
      "Round 44\n",
      "Round 45\n",
      "Round 46\n",
      "Round 47\n",
      "Round 48\n",
      "WAR!\n",
      "Round 49\n",
      "Round 50\n",
      "Round 51\n",
      "Round 52\n",
      "Round 53\n",
      "Round 54\n",
      "Round 55\n",
      "Round 56\n",
      "Round 57\n",
      "Round 58\n",
      "Round 59\n",
      "WAR!\n",
      "Round 60\n",
      "Round 61\n",
      "Round 62\n",
      "Round 63\n",
      "Round 64\n",
      "Round 65\n",
      "Round 66\n",
      "Round 67\n",
      "Round 68\n",
      "Round 69\n",
      "Round 70\n",
      "Round 71\n",
      "WAR!\n",
      "WAR!\n",
      "Player Two unable to play war Game Over!\n",
      "Player One Wins, Player Two Loses \n"
     ]
    }
   ],
   "source": [
    "round_num = 0\n",
    "\n",
    "while game_on:\n",
    "    \n",
    "    round_num += 1 # Round number is incremented by 1\n",
    "    print(f\"Round {round_num}\") \n",
    "    \n",
    "    if len(player_one.all_cards) == 0: # This statement will be executed only when player 1 run out of cards\n",
    "        print(\"Player One, out of cards Player Two wins\")\n",
    "        game_on = False\n",
    "        break\n",
    "        \n",
    "    if len(player_two.all_cards) == 0: # This statement will be executed only when player 2 run out of cards\n",
    "        print(\"Player Two, out of cards Player One wins\")\n",
    "        game_on = False\n",
    "        break\n",
    "    \n",
    "    # Start a New Round\n",
    "    player_one_cards = [] # cards which the Player 1 has \n",
    "    player_one_cards.append(player_one.remove_one()) # It will pop out the first card from the cards player 1 has\n",
    "    \n",
    "    player_two_cards = [] # cards which the Player 2 has \n",
    "    player_two_cards.append(player_two.remove_one()) # It will pop out the first card from the cards player 2 has\n",
    "    \n",
    "    # checking who will win or lose and also there will be condition for war(tie)\n",
    "    at_war = True\n",
    "    \n",
    "    while at_war:\n",
    "        \n",
    "        if player_one_cards[-1].values > player_two_cards[-1].values: # value of last card player 1 is greater than of player 2\n",
    "            \n",
    "            player_one.add_cards(player_one_cards) # player 1 will take both the cards.\n",
    "            player_one.add_cards(player_two_cards)\n",
    "            \n",
    "            at_war = False\n",
    "            \n",
    "        elif player_one_cards[-1].values < player_two_cards[-1].values: # value of last card player 2 is greater than of player1\n",
    "            \n",
    "            player_two.add_cards(player_two_cards) # player 1 will take both the cards.\n",
    "            player_two.add_cards(player_one_cards)\n",
    "            \n",
    "            at_war = False\n",
    "            \n",
    "        else:\n",
    "            \n",
    "            \n",
    "            print(\"WAR!\")\n",
    "            \n",
    "            if len(player_one.all_cards) < 5: # if player 1 has cards less than 5 then it cannot play war\n",
    "                    print(\"Player One unable to play war Game Over!\")\n",
    "                    print(\"Player Two Wins, Player One Loses \")\n",
    "                    game_on = False\n",
    "                    break\n",
    "             \n",
    "            elif len(player_two.all_cards) < 5: # if player 2 has cards less than 5 then it cannot play war\n",
    "                    print(\"Player Two unable to play war Game Over!\")\n",
    "                    print(\"Player One Wins, Player Two Loses \")\n",
    "                    game_on = False\n",
    "                    break\n",
    "                    \n",
    "            else:\n",
    "                for cards in range(5): # both players will take out 5 cards each this will be continued till any one cards = 0\n",
    "                    player_one_cards.append(player_one.remove_one())\n",
    "                    player_two_cards.append(player_two.remove_one())              "
   ]
  },
  {
   "cell_type": "markdown",
   "id": "76acb7cc",
   "metadata": {},
   "source": [
    "MORE NUMBER OF CARD FOR WAR SHORTER GAME AND LESS NUMBER OF CARDS FOR LONGER WAR GAME. REMEMBER TO RUN THIS GAME LOGIC AGAIN AND AGAIN WE SHOULD ALSO RERUN THE GAME SETUP. WITHOUT THIS GAME LOGIC CANNOT BE RUN AGAIN. PLEASE MAKE SURE U HAVE RERUN THE GAME SETUP CELL."
   ]
  }
 ],
 "metadata": {
  "kernelspec": {
   "display_name": "Python 3 (ipykernel)",
   "language": "python",
   "name": "python3"
  },
  "language_info": {
   "codemirror_mode": {
    "name": "ipython",
    "version": 3
   },
   "file_extension": ".py",
   "mimetype": "text/x-python",
   "name": "python",
   "nbconvert_exporter": "python",
   "pygments_lexer": "ipython3",
   "version": "3.10.9"
  }
 },
 "nbformat": 4,
 "nbformat_minor": 5
}
