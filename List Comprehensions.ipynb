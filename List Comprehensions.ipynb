{
 "cells": [
  {
   "cell_type": "code",
   "execution_count": 1,
   "id": "612ab6d3",
   "metadata": {},
   "outputs": [],
   "source": [
    "Name = \"Akash Mishra\""
   ]
  },
  {
   "cell_type": "code",
   "execution_count": 2,
   "id": "1ee56238",
   "metadata": {},
   "outputs": [],
   "source": [
    "mylist = []\n",
    "\n",
    "for letter in Name:\n",
    "    mylist.append(letter)"
   ]
  },
  {
   "cell_type": "code",
   "execution_count": 3,
   "id": "40cdd617",
   "metadata": {},
   "outputs": [
    {
     "data": {
      "text/plain": [
       "['A', 'k', 'a', 's', 'h', ' ', 'M', 'i', 's', 'h', 'r', 'a']"
      ]
     },
     "execution_count": 3,
     "metadata": {},
     "output_type": "execute_result"
    }
   ],
   "source": [
    "mylist"
   ]
  },
  {
   "cell_type": "code",
   "execution_count": 4,
   "id": "dbeac067",
   "metadata": {},
   "outputs": [],
   "source": [
    "namelist = [letter for letter in Name]"
   ]
  },
  {
   "cell_type": "code",
   "execution_count": 5,
   "id": "c10d1e9b",
   "metadata": {},
   "outputs": [
    {
     "data": {
      "text/plain": [
       "['A', 'k', 'a', 's', 'h', ' ', 'M', 'i', 's', 'h', 'r', 'a']"
      ]
     },
     "execution_count": 5,
     "metadata": {},
     "output_type": "execute_result"
    }
   ],
   "source": [
    "namelist"
   ]
  },
  {
   "cell_type": "code",
   "execution_count": 6,
   "id": "0a97c648",
   "metadata": {},
   "outputs": [],
   "source": [
    "numlist = [num for num in range(0,11)]"
   ]
  },
  {
   "cell_type": "code",
   "execution_count": 7,
   "id": "e9674cd5",
   "metadata": {},
   "outputs": [
    {
     "data": {
      "text/plain": [
       "[0, 1, 2, 3, 4, 5, 6, 7, 8, 9, 10]"
      ]
     },
     "execution_count": 7,
     "metadata": {},
     "output_type": "execute_result"
    }
   ],
   "source": [
    "numlist"
   ]
  },
  {
   "cell_type": "code",
   "execution_count": 8,
   "id": "1daa5917",
   "metadata": {},
   "outputs": [],
   "source": [
    "numsqlist = [num**2 for num in range(0,11)]"
   ]
  },
  {
   "cell_type": "code",
   "execution_count": 9,
   "id": "ddb47e01",
   "metadata": {},
   "outputs": [
    {
     "data": {
      "text/plain": [
       "[0, 1, 4, 9, 16, 25, 36, 49, 64, 81, 100]"
      ]
     },
     "execution_count": 9,
     "metadata": {},
     "output_type": "execute_result"
    }
   ],
   "source": [
    "numsqlist"
   ]
  },
  {
   "cell_type": "code",
   "execution_count": 10,
   "id": "0897c916",
   "metadata": {},
   "outputs": [],
   "source": [
    "r_numlist = []\n",
    "    \n",
    "for num in range(0,11):\n",
    "    r_numlist.append(num)"
   ]
  },
  {
   "cell_type": "code",
   "execution_count": 11,
   "id": "dc361406",
   "metadata": {},
   "outputs": [
    {
     "data": {
      "text/plain": [
       "[0, 1, 2, 3, 4, 5, 6, 7, 8, 9, 10]"
      ]
     },
     "execution_count": 11,
     "metadata": {},
     "output_type": "execute_result"
    }
   ],
   "source": [
    "r_numlist"
   ]
  },
  {
   "cell_type": "code",
   "execution_count": 12,
   "id": "600b0a6e",
   "metadata": {},
   "outputs": [],
   "source": [
    "r_numsqlist = []\n",
    "for num in range(0,11):\n",
    "    r_numsqlist.append(num**2)"
   ]
  },
  {
   "cell_type": "code",
   "execution_count": 13,
   "id": "3939625a",
   "metadata": {},
   "outputs": [
    {
     "data": {
      "text/plain": [
       "[0, 1, 4, 9, 16, 25, 36, 49, 64, 81, 100]"
      ]
     },
     "execution_count": 13,
     "metadata": {},
     "output_type": "execute_result"
    }
   ],
   "source": [
    "r_numsqlist"
   ]
  },
  {
   "cell_type": "code",
   "execution_count": 14,
   "id": "69097560",
   "metadata": {},
   "outputs": [],
   "source": [
    "even_num = [num for num in range(1,11) if num % 2 == 0]"
   ]
  },
  {
   "cell_type": "code",
   "execution_count": 15,
   "id": "ddff406d",
   "metadata": {},
   "outputs": [
    {
     "data": {
      "text/plain": [
       "[2, 4, 6, 8, 10]"
      ]
     },
     "execution_count": 15,
     "metadata": {},
     "output_type": "execute_result"
    }
   ],
   "source": [
    "even_num"
   ]
  },
  {
   "cell_type": "code",
   "execution_count": 18,
   "id": "840ccc66",
   "metadata": {},
   "outputs": [],
   "source": [
    "celcius = [30,60,70,95]\n",
    "fahrenheit = []\n",
    "\n",
    "for temp in celcius:\n",
    "    fahrenheit.append((9/5)*temp + 32)"
   ]
  },
  {
   "cell_type": "code",
   "execution_count": 19,
   "id": "5bedbfdd",
   "metadata": {},
   "outputs": [
    {
     "data": {
      "text/plain": [
       "[86.0, 140.0, 158.0, 203.0]"
      ]
     },
     "execution_count": 19,
     "metadata": {},
     "output_type": "execute_result"
    }
   ],
   "source": [
    "fahrenheit"
   ]
  },
  {
   "cell_type": "code",
   "execution_count": 20,
   "id": "d06a2a4a",
   "metadata": {},
   "outputs": [],
   "source": [
    "r_even_num = []\n",
    "\n",
    "for num in range(1,11):\n",
    "    if num % 2 == 0:\n",
    "        r_even_num.append(num)"
   ]
  },
  {
   "cell_type": "code",
   "execution_count": 21,
   "id": "2825f3ed",
   "metadata": {},
   "outputs": [
    {
     "data": {
      "text/plain": [
       "[2, 4, 6, 8, 10]"
      ]
     },
     "execution_count": 21,
     "metadata": {},
     "output_type": "execute_result"
    }
   ],
   "source": [
    "r_even_num"
   ]
  },
  {
   "cell_type": "code",
   "execution_count": 22,
   "id": "a9b2b4d3",
   "metadata": {},
   "outputs": [],
   "source": [
    "r_fahrenheit = [(9/5)*temp + 32 for temp in celcius]"
   ]
  },
  {
   "cell_type": "code",
   "execution_count": 23,
   "id": "95dd6e75",
   "metadata": {},
   "outputs": [
    {
     "data": {
      "text/plain": [
       "[86.0, 140.0, 158.0, 203.0]"
      ]
     },
     "execution_count": 23,
     "metadata": {},
     "output_type": "execute_result"
    }
   ],
   "source": [
    "r_fahrenheit"
   ]
  },
  {
   "cell_type": "code",
   "execution_count": 25,
   "id": "be2759a9",
   "metadata": {},
   "outputs": [],
   "source": [
    "result = [x if x % 2 == 0 else \"odd number\" for x in range(1,11)]"
   ]
  },
  {
   "cell_type": "code",
   "execution_count": 26,
   "id": "1719fffb",
   "metadata": {},
   "outputs": [
    {
     "data": {
      "text/plain": [
       "['odd number',\n",
       " 2,\n",
       " 'odd number',\n",
       " 4,\n",
       " 'odd number',\n",
       " 6,\n",
       " 'odd number',\n",
       " 8,\n",
       " 'odd number',\n",
       " 10]"
      ]
     },
     "execution_count": 26,
     "metadata": {},
     "output_type": "execute_result"
    }
   ],
   "source": [
    "result"
   ]
  },
  {
   "cell_type": "code",
   "execution_count": 30,
   "id": "4fff4844",
   "metadata": {},
   "outputs": [],
   "source": [
    "mylist = []\n",
    "\n",
    "for x in [1,2,3]:\n",
    "    for y in [10,100,1000]:\n",
    "        mylist.append(x*y)"
   ]
  },
  {
   "cell_type": "code",
   "execution_count": 31,
   "id": "e73eb2d5",
   "metadata": {},
   "outputs": [
    {
     "data": {
      "text/plain": [
       "[10, 100, 1000, 20, 200, 2000, 30, 300, 3000]"
      ]
     },
     "execution_count": 31,
     "metadata": {},
     "output_type": "execute_result"
    }
   ],
   "source": [
    "mylist"
   ]
  },
  {
   "cell_type": "code",
   "execution_count": 32,
   "id": "01ba4562",
   "metadata": {},
   "outputs": [],
   "source": [
    "multiples =  [x * y for x in [1,2,3] for y in [10,100,1000]]"
   ]
  },
  {
   "cell_type": "code",
   "execution_count": 33,
   "id": "dac29705",
   "metadata": {},
   "outputs": [
    {
     "data": {
      "text/plain": [
       "[10, 100, 1000, 20, 200, 2000, 30, 300, 3000]"
      ]
     },
     "execution_count": 33,
     "metadata": {},
     "output_type": "execute_result"
    }
   ],
   "source": [
    "multiples"
   ]
  },
  {
   "cell_type": "code",
   "execution_count": null,
   "id": "b951aaa1",
   "metadata": {},
   "outputs": [],
   "source": []
  }
 ],
 "metadata": {
  "kernelspec": {
   "display_name": "Python 3 (ipykernel)",
   "language": "python",
   "name": "python3"
  },
  "language_info": {
   "codemirror_mode": {
    "name": "ipython",
    "version": 3
   },
   "file_extension": ".py",
   "mimetype": "text/x-python",
   "name": "python",
   "nbconvert_exporter": "python",
   "pygments_lexer": "ipython3",
   "version": "3.10.9"
  }
 },
 "nbformat": 4,
 "nbformat_minor": 5
}
