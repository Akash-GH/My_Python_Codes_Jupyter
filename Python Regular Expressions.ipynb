{
 "cells": [
  {
   "cell_type": "code",
   "execution_count": 1,
   "id": "f5ffd07b",
   "metadata": {},
   "outputs": [],
   "source": [
    "quote = \"If you do something good to others, happiness will always around you.\""
   ]
  },
  {
   "cell_type": "code",
   "execution_count": 3,
   "id": "0472e496",
   "metadata": {},
   "outputs": [
    {
     "data": {
      "text/plain": [
       "True"
      ]
     },
     "execution_count": 3,
     "metadata": {},
     "output_type": "execute_result"
    }
   ],
   "source": [
    "'you' in quote"
   ]
  },
  {
   "cell_type": "code",
   "execution_count": 4,
   "id": "8093dbdd",
   "metadata": {},
   "outputs": [],
   "source": [
    "import re"
   ]
  },
  {
   "cell_type": "code",
   "execution_count": 5,
   "id": "32083761",
   "metadata": {},
   "outputs": [],
   "source": [
    "match = re.search('you',quote)"
   ]
  },
  {
   "cell_type": "code",
   "execution_count": 6,
   "id": "1b42fcce",
   "metadata": {},
   "outputs": [
    {
     "data": {
      "text/plain": [
       "<re.Match object; span=(3, 6), match='you'>"
      ]
     },
     "execution_count": 6,
     "metadata": {},
     "output_type": "execute_result"
    }
   ],
   "source": [
    "match"
   ]
  },
  {
   "cell_type": "code",
   "execution_count": 7,
   "id": "12fdb7df",
   "metadata": {},
   "outputs": [],
   "source": [
    "matches = re.findall('you',quote)"
   ]
  },
  {
   "cell_type": "code",
   "execution_count": 8,
   "id": "337a4b7b",
   "metadata": {},
   "outputs": [
    {
     "data": {
      "text/plain": [
       "['you', 'you']"
      ]
     },
     "execution_count": 8,
     "metadata": {},
     "output_type": "execute_result"
    }
   ],
   "source": [
    "matches"
   ]
  },
  {
   "cell_type": "code",
   "execution_count": 9,
   "id": "59b5be51",
   "metadata": {},
   "outputs": [
    {
     "name": "stdout",
     "output_type": "stream",
     "text": [
      "<re.Match object; span=(3, 6), match='you'>\n",
      "<re.Match object; span=(65, 68), match='you'>\n"
     ]
    }
   ],
   "source": [
    "for match in re.finditer('you',quote):\n",
    "    print(match)"
   ]
  },
  {
   "cell_type": "code",
   "execution_count": 10,
   "id": "7cee5a35",
   "metadata": {},
   "outputs": [
    {
     "data": {
      "text/plain": [
       "69"
      ]
     },
     "execution_count": 10,
     "metadata": {},
     "output_type": "execute_result"
    }
   ],
   "source": [
    "len(quote)"
   ]
  },
  {
   "cell_type": "code",
   "execution_count": 11,
   "id": "f2db2805",
   "metadata": {},
   "outputs": [
    {
     "name": "stdout",
     "output_type": "stream",
     "text": [
      "you\n",
      "you\n"
     ]
    }
   ],
   "source": [
    "for match in re.finditer('you',quote):\n",
    "    print(match.group())"
   ]
  },
  {
   "cell_type": "code",
   "execution_count": 12,
   "id": "12dda096",
   "metadata": {},
   "outputs": [
    {
     "name": "stdout",
     "output_type": "stream",
     "text": [
      "(3, 6)\n",
      "(65, 68)\n"
     ]
    }
   ],
   "source": [
    "for match in re.finditer('you',quote):\n",
    "    print(match.span())"
   ]
  },
  {
   "cell_type": "code",
   "execution_count": 14,
   "id": "7cc6f868",
   "metadata": {},
   "outputs": [
    {
     "name": "stdout",
     "output_type": "stream",
     "text": [
      "3\n",
      "65\n"
     ]
    }
   ],
   "source": [
    "for match in re.finditer('you',quote):\n",
    "    print(match.start())"
   ]
  },
  {
   "cell_type": "code",
   "execution_count": 15,
   "id": "c4bfbe35",
   "metadata": {},
   "outputs": [
    {
     "name": "stdout",
     "output_type": "stream",
     "text": [
      "6\n",
      "68\n"
     ]
    }
   ],
   "source": [
    "for match in re.finditer('you',quote):\n",
    "    print(match.end())"
   ]
  },
  {
   "cell_type": "code",
   "execution_count": 16,
   "id": "db31d4cc",
   "metadata": {},
   "outputs": [],
   "source": [
    "text = \"My phone number is 999-888-7777\""
   ]
  },
  {
   "cell_type": "code",
   "execution_count": 17,
   "id": "69b72fb8",
   "metadata": {},
   "outputs": [],
   "source": [
    "phone = re.search('999-888-7777',text)"
   ]
  },
  {
   "cell_type": "code",
   "execution_count": 18,
   "id": "5dba520f",
   "metadata": {},
   "outputs": [
    {
     "data": {
      "text/plain": [
       "<re.Match object; span=(19, 31), match='999-888-7777'>"
      ]
     },
     "execution_count": 18,
     "metadata": {},
     "output_type": "execute_result"
    }
   ],
   "source": [
    "phone"
   ]
  },
  {
   "cell_type": "code",
   "execution_count": 19,
   "id": "61adc961",
   "metadata": {},
   "outputs": [],
   "source": [
    "phone1 = re.search(r\"\\d\\d\\d-\\d\\d\\d-\\d\\d\\d\\d\",text)"
   ]
  },
  {
   "cell_type": "code",
   "execution_count": 20,
   "id": "08d7a8c3",
   "metadata": {},
   "outputs": [
    {
     "data": {
      "text/plain": [
       "<re.Match object; span=(19, 31), match='999-888-7777'>"
      ]
     },
     "execution_count": 20,
     "metadata": {},
     "output_type": "execute_result"
    }
   ],
   "source": [
    "phone1"
   ]
  },
  {
   "cell_type": "code",
   "execution_count": 21,
   "id": "fff391c8",
   "metadata": {},
   "outputs": [],
   "source": [
    "phone2 = re.search(r\"\\d{3}-\\d{3}-\\d{4}\",text)"
   ]
  },
  {
   "cell_type": "code",
   "execution_count": 22,
   "id": "1ef3c039",
   "metadata": {},
   "outputs": [
    {
     "data": {
      "text/plain": [
       "<re.Match object; span=(19, 31), match='999-888-7777'>"
      ]
     },
     "execution_count": 22,
     "metadata": {},
     "output_type": "execute_result"
    }
   ],
   "source": [
    "phone2"
   ]
  },
  {
   "cell_type": "code",
   "execution_count": 27,
   "id": "c1d77138",
   "metadata": {},
   "outputs": [],
   "source": [
    "phone3 = re.compile(r\"(\\d{3})-(\\d{3})-(\\d{4})\")"
   ]
  },
  {
   "cell_type": "code",
   "execution_count": 28,
   "id": "756c53f8",
   "metadata": {},
   "outputs": [],
   "source": [
    "phone4 = re.search(phone3,text)"
   ]
  },
  {
   "cell_type": "code",
   "execution_count": 29,
   "id": "bfafd6d1",
   "metadata": {},
   "outputs": [
    {
     "data": {
      "text/plain": [
       "'999-888-7777'"
      ]
     },
     "execution_count": 29,
     "metadata": {},
     "output_type": "execute_result"
    }
   ],
   "source": [
    "phone4.group()"
   ]
  },
  {
   "cell_type": "code",
   "execution_count": 30,
   "id": "1c90623e",
   "metadata": {},
   "outputs": [
    {
     "data": {
      "text/plain": [
       "'999'"
      ]
     },
     "execution_count": 30,
     "metadata": {},
     "output_type": "execute_result"
    }
   ],
   "source": [
    "phone4.group(1)"
   ]
  },
  {
   "cell_type": "code",
   "execution_count": 31,
   "id": "e4f1a62f",
   "metadata": {},
   "outputs": [
    {
     "data": {
      "text/plain": [
       "'888'"
      ]
     },
     "execution_count": 31,
     "metadata": {},
     "output_type": "execute_result"
    }
   ],
   "source": [
    "phone4.group(2)"
   ]
  },
  {
   "cell_type": "code",
   "execution_count": 32,
   "id": "75700427",
   "metadata": {},
   "outputs": [
    {
     "data": {
      "text/plain": [
       "'7777'"
      ]
     },
     "execution_count": 32,
     "metadata": {},
     "output_type": "execute_result"
    }
   ],
   "source": [
    "phone4.group(3)"
   ]
  },
  {
   "cell_type": "code",
   "execution_count": 33,
   "id": "23740702",
   "metadata": {},
   "outputs": [
    {
     "data": {
      "text/plain": [
       "<re.Match object; span=(4, 7), match='cat'>"
      ]
     },
     "execution_count": 33,
     "metadata": {},
     "output_type": "execute_result"
    }
   ],
   "source": [
    " re.search(r'dog|cat','The cat is here')"
   ]
  },
  {
   "cell_type": "code",
   "execution_count": 34,
   "id": "0e8addfb",
   "metadata": {},
   "outputs": [
    {
     "data": {
      "text/plain": [
       "<re.Match object; span=(4, 7), match='dog'>"
      ]
     },
     "execution_count": 34,
     "metadata": {},
     "output_type": "execute_result"
    }
   ],
   "source": [
    "re.search(r'dog|cat','The dog is here')"
   ]
  },
  {
   "cell_type": "code",
   "execution_count": 35,
   "id": "8f49c996",
   "metadata": {},
   "outputs": [
    {
     "data": {
      "text/plain": [
       "<re.Match object; span=(4, 7), match='cat'>"
      ]
     },
     "execution_count": 35,
     "metadata": {},
     "output_type": "execute_result"
    }
   ],
   "source": [
    "re.search(r'.at','The cat is here')"
   ]
  },
  {
   "cell_type": "code",
   "execution_count": 36,
   "id": "7bd24f37",
   "metadata": {},
   "outputs": [
    {
     "data": {
      "text/plain": [
       "<re.Match object; span=(4, 7), match='cat'>"
      ]
     },
     "execution_count": 36,
     "metadata": {},
     "output_type": "execute_result"
    }
   ],
   "source": [
    "re.search(r'.at','The cat and rat play together on the mat')"
   ]
  },
  {
   "cell_type": "code",
   "execution_count": 37,
   "id": "28595b8c",
   "metadata": {},
   "outputs": [],
   "source": [
    "pattern = re.search(r'.at','The cat and rat play together on the mat')"
   ]
  },
  {
   "cell_type": "code",
   "execution_count": 38,
   "id": "29362e28",
   "metadata": {},
   "outputs": [
    {
     "name": "stdout",
     "output_type": "stream",
     "text": [
      "<re.Match object; span=(4, 7), match='cat'>\n"
     ]
    }
   ],
   "source": [
    "print(pattern)"
   ]
  },
  {
   "cell_type": "code",
   "execution_count": 39,
   "id": "36aa9023",
   "metadata": {},
   "outputs": [],
   "source": [
    "text = 'The cat and rat play together on the mat'"
   ]
  },
  {
   "cell_type": "code",
   "execution_count": 40,
   "id": "42508e23",
   "metadata": {},
   "outputs": [],
   "source": [
    "pattern = re.findall(r\".at\",text)"
   ]
  },
  {
   "cell_type": "code",
   "execution_count": 41,
   "id": "fac1ec11",
   "metadata": {},
   "outputs": [
    {
     "data": {
      "text/plain": [
       "['cat', 'rat', 'mat']"
      ]
     },
     "execution_count": 41,
     "metadata": {},
     "output_type": "execute_result"
    }
   ],
   "source": [
    "pattern"
   ]
  },
  {
   "cell_type": "code",
   "execution_count": 42,
   "id": "632e7122",
   "metadata": {},
   "outputs": [
    {
     "data": {
      "text/plain": [
       "['2']"
      ]
     },
     "execution_count": 42,
     "metadata": {},
     "output_type": "execute_result"
    }
   ],
   "source": [
    "re.findall(r'^\\d','2 is a number')"
   ]
  },
  {
   "cell_type": "code",
   "execution_count": 43,
   "id": "223b06c7",
   "metadata": {},
   "outputs": [
    {
     "data": {
      "text/plain": [
       "['2']"
      ]
     },
     "execution_count": 43,
     "metadata": {},
     "output_type": "execute_result"
    }
   ],
   "source": [
    "re.findall(r'\\d$','The number is 2')"
   ]
  },
  {
   "cell_type": "code",
   "execution_count": 44,
   "id": "cd422664",
   "metadata": {},
   "outputs": [],
   "source": [
    "numsent = \"There are 3 numbers in 345 in this sentence no 1\""
   ]
  },
  {
   "cell_type": "code",
   "execution_count": 45,
   "id": "199b6173",
   "metadata": {},
   "outputs": [],
   "source": [
    "pattern = r'[^\\d]'"
   ]
  },
  {
   "cell_type": "code",
   "execution_count": 46,
   "id": "46d7418d",
   "metadata": {},
   "outputs": [
    {
     "data": {
      "text/plain": [
       "['T',\n",
       " 'h',\n",
       " 'e',\n",
       " 'r',\n",
       " 'e',\n",
       " ' ',\n",
       " 'a',\n",
       " 'r',\n",
       " 'e',\n",
       " ' ',\n",
       " ' ',\n",
       " 'n',\n",
       " 'u',\n",
       " 'm',\n",
       " 'b',\n",
       " 'e',\n",
       " 'r',\n",
       " 's',\n",
       " ' ',\n",
       " 'i',\n",
       " 'n',\n",
       " ' ',\n",
       " ' ',\n",
       " 'i',\n",
       " 'n',\n",
       " ' ',\n",
       " 't',\n",
       " 'h',\n",
       " 'i',\n",
       " 's',\n",
       " ' ',\n",
       " 's',\n",
       " 'e',\n",
       " 'n',\n",
       " 't',\n",
       " 'e',\n",
       " 'n',\n",
       " 'c',\n",
       " 'e',\n",
       " ' ',\n",
       " 'n',\n",
       " 'o',\n",
       " ' ']"
      ]
     },
     "execution_count": 46,
     "metadata": {},
     "output_type": "execute_result"
    }
   ],
   "source": [
    "re.findall(pattern,numsent)"
   ]
  },
  {
   "cell_type": "code",
   "execution_count": 48,
   "id": "7fcee5e5",
   "metadata": {},
   "outputs": [],
   "source": [
    "pattern = r'[^\\d]+'"
   ]
  },
  {
   "cell_type": "code",
   "execution_count": 49,
   "id": "93e5bc43",
   "metadata": {},
   "outputs": [
    {
     "data": {
      "text/plain": [
       "['There are ', ' numbers in ', ' in this sentence no ']"
      ]
     },
     "execution_count": 49,
     "metadata": {},
     "output_type": "execute_result"
    }
   ],
   "source": [
    "re.findall(pattern,numsent)"
   ]
  },
  {
   "cell_type": "code",
   "execution_count": 50,
   "id": "edb6c90d",
   "metadata": {},
   "outputs": [],
   "source": [
    "puncstring = \"Hey! This is a string with a punctuation mark. What can we do to remove this punctuation remark?\""
   ]
  },
  {
   "cell_type": "code",
   "execution_count": 51,
   "id": "cf56e16a",
   "metadata": {},
   "outputs": [
    {
     "data": {
      "text/plain": [
       "['!', '.', '?']"
      ]
     },
     "execution_count": 51,
     "metadata": {},
     "output_type": "execute_result"
    }
   ],
   "source": [
    "re.findall(r'[!.?]',puncstring)"
   ]
  },
  {
   "cell_type": "code",
   "execution_count": 52,
   "id": "e824974b",
   "metadata": {},
   "outputs": [
    {
     "data": {
      "text/plain": [
       "['H',\n",
       " 'e',\n",
       " 'y',\n",
       " ' ',\n",
       " 'T',\n",
       " 'h',\n",
       " 'i',\n",
       " 's',\n",
       " ' ',\n",
       " 'i',\n",
       " 's',\n",
       " ' ',\n",
       " 'a',\n",
       " ' ',\n",
       " 's',\n",
       " 't',\n",
       " 'r',\n",
       " 'i',\n",
       " 'n',\n",
       " 'g',\n",
       " ' ',\n",
       " 'w',\n",
       " 'i',\n",
       " 't',\n",
       " 'h',\n",
       " ' ',\n",
       " 'a',\n",
       " ' ',\n",
       " 'p',\n",
       " 'u',\n",
       " 'n',\n",
       " 'c',\n",
       " 't',\n",
       " 'u',\n",
       " 'a',\n",
       " 't',\n",
       " 'i',\n",
       " 'o',\n",
       " 'n',\n",
       " ' ',\n",
       " 'm',\n",
       " 'a',\n",
       " 'r',\n",
       " 'k',\n",
       " ' ',\n",
       " 'W',\n",
       " 'h',\n",
       " 'a',\n",
       " 't',\n",
       " ' ',\n",
       " 'c',\n",
       " 'a',\n",
       " 'n',\n",
       " ' ',\n",
       " 'w',\n",
       " 'e',\n",
       " ' ',\n",
       " 'd',\n",
       " 'o',\n",
       " ' ',\n",
       " 't',\n",
       " 'o',\n",
       " ' ',\n",
       " 'r',\n",
       " 'e',\n",
       " 'm',\n",
       " 'o',\n",
       " 'v',\n",
       " 'e',\n",
       " ' ',\n",
       " 't',\n",
       " 'h',\n",
       " 'i',\n",
       " 's',\n",
       " ' ',\n",
       " 'p',\n",
       " 'u',\n",
       " 'n',\n",
       " 'c',\n",
       " 't',\n",
       " 'u',\n",
       " 'a',\n",
       " 't',\n",
       " 'i',\n",
       " 'o',\n",
       " 'n',\n",
       " ' ',\n",
       " 'r',\n",
       " 'e',\n",
       " 'm',\n",
       " 'a',\n",
       " 'r',\n",
       " 'k']"
      ]
     },
     "execution_count": 52,
     "metadata": {},
     "output_type": "execute_result"
    }
   ],
   "source": [
    "re.findall(r'[^!.?]',puncstring)"
   ]
  },
  {
   "cell_type": "code",
   "execution_count": 53,
   "id": "db086a12",
   "metadata": {},
   "outputs": [
    {
     "data": {
      "text/plain": [
       "['Hey',\n",
       " ' This is a string with a punctuation mark',\n",
       " ' What can we do to remove this punctuation remark']"
      ]
     },
     "execution_count": 53,
     "metadata": {},
     "output_type": "execute_result"
    }
   ],
   "source": [
    "re.findall(r'[^!.?]+',puncstring)"
   ]
  },
  {
   "cell_type": "code",
   "execution_count": 54,
   "id": "eb4d9860",
   "metadata": {},
   "outputs": [],
   "source": [
    "nice = re.findall(r'[^!.?]+',puncstring)"
   ]
  },
  {
   "cell_type": "code",
   "execution_count": 56,
   "id": "13f3c420",
   "metadata": {},
   "outputs": [
    {
     "data": {
      "text/plain": [
       "'Hey  This is a string with a punctuation mark  What can we do to remove this punctuation remark'"
      ]
     },
     "execution_count": 56,
     "metadata": {},
     "output_type": "execute_result"
    }
   ],
   "source": [
    "\" \".join(nice)"
   ]
  },
  {
   "cell_type": "code",
   "execution_count": 65,
   "id": "17b29e2c",
   "metadata": {},
   "outputs": [],
   "source": [
    "hypensent = \"There are many words with hypen such as well-being,six-pack,mother-in-law,editor-in-chief,etc.\""
   ]
  },
  {
   "cell_type": "code",
   "execution_count": 66,
   "id": "0bc13615",
   "metadata": {},
   "outputs": [
    {
     "data": {
      "text/plain": [
       "['T',\n",
       " 'h',\n",
       " 'e',\n",
       " 'r',\n",
       " 'e',\n",
       " 'a',\n",
       " 'r',\n",
       " 'e',\n",
       " 'm',\n",
       " 'a',\n",
       " 'n',\n",
       " 'y',\n",
       " 'w',\n",
       " 'o',\n",
       " 'r',\n",
       " 'd',\n",
       " 's',\n",
       " 'w',\n",
       " 'i',\n",
       " 't',\n",
       " 'h',\n",
       " 'h',\n",
       " 'y',\n",
       " 'p',\n",
       " 'e',\n",
       " 'n',\n",
       " 's',\n",
       " 'u',\n",
       " 'c',\n",
       " 'h',\n",
       " 'a',\n",
       " 's',\n",
       " 'w',\n",
       " 'e',\n",
       " 'l',\n",
       " 'l',\n",
       " 'b',\n",
       " 'e',\n",
       " 'i',\n",
       " 'n',\n",
       " 'g',\n",
       " 's',\n",
       " 'i',\n",
       " 'x',\n",
       " 'p',\n",
       " 'a',\n",
       " 'c',\n",
       " 'k',\n",
       " 'm',\n",
       " 'o',\n",
       " 't',\n",
       " 'h',\n",
       " 'e',\n",
       " 'r',\n",
       " 'i',\n",
       " 'n',\n",
       " 'l',\n",
       " 'a',\n",
       " 'w',\n",
       " 'e',\n",
       " 'd',\n",
       " 'i',\n",
       " 't',\n",
       " 'o',\n",
       " 'r',\n",
       " 'i',\n",
       " 'n',\n",
       " 'c',\n",
       " 'h',\n",
       " 'i',\n",
       " 'e',\n",
       " 'f',\n",
       " 'e',\n",
       " 't',\n",
       " 'c']"
      ]
     },
     "execution_count": 66,
     "metadata": {},
     "output_type": "execute_result"
    }
   ],
   "source": [
    "re.findall(r'[\\w]',hypensent)"
   ]
  },
  {
   "cell_type": "code",
   "execution_count": 67,
   "id": "ea05fed3",
   "metadata": {},
   "outputs": [
    {
     "data": {
      "text/plain": [
       "['There',\n",
       " 'are',\n",
       " 'many',\n",
       " 'words',\n",
       " 'with',\n",
       " 'hypen',\n",
       " 'such',\n",
       " 'as',\n",
       " 'well',\n",
       " 'being',\n",
       " 'six',\n",
       " 'pack',\n",
       " 'mother',\n",
       " 'in',\n",
       " 'law',\n",
       " 'editor',\n",
       " 'in',\n",
       " 'chief',\n",
       " 'etc']"
      ]
     },
     "execution_count": 67,
     "metadata": {},
     "output_type": "execute_result"
    }
   ],
   "source": [
    "re.findall(r'[\\w]+',hypensent)"
   ]
  },
  {
   "cell_type": "code",
   "execution_count": 68,
   "id": "8cf20263",
   "metadata": {},
   "outputs": [
    {
     "data": {
      "text/plain": [
       "['well-being', 'six-pack', 'mother-in', 'editor-in']"
      ]
     },
     "execution_count": 68,
     "metadata": {},
     "output_type": "execute_result"
    }
   ],
   "source": [
    "re.findall(r'[\\w]+-[\\w]+',hypensent)"
   ]
  },
  {
   "cell_type": "code",
   "execution_count": 69,
   "id": "a98f8aac",
   "metadata": {},
   "outputs": [
    {
     "data": {
      "text/plain": [
       "['mother-in-law', 'editor-in-chief']"
      ]
     },
     "execution_count": 69,
     "metadata": {},
     "output_type": "execute_result"
    }
   ],
   "source": [
    "re.findall(r'[\\w]+-[\\w]+-[\\w]+',hypensent)"
   ]
  },
  {
   "cell_type": "code",
   "execution_count": 70,
   "id": "971adc9c",
   "metadata": {},
   "outputs": [],
   "source": [
    "sent = \"Small children goes to kindergarden\"\n",
    "sent1 = \"Everyone one should have kindness in them\"\n",
    "sent3 = \"When I was small I used to eat kinderjoy a lot\""
   ]
  },
  {
   "cell_type": "code",
   "execution_count": 71,
   "id": "e6371bcf",
   "metadata": {},
   "outputs": [
    {
     "data": {
      "text/plain": [
       "<re.Match object; span=(23, 35), match='kindergarden'>"
      ]
     },
     "execution_count": 71,
     "metadata": {},
     "output_type": "execute_result"
    }
   ],
   "source": [
    "re.search(r'kind(ergarden|ness|erjoy)',sent)"
   ]
  },
  {
   "cell_type": "code",
   "execution_count": 72,
   "id": "e35c14b1",
   "metadata": {},
   "outputs": [
    {
     "data": {
      "text/plain": [
       "<re.Match object; span=(25, 33), match='kindness'>"
      ]
     },
     "execution_count": 72,
     "metadata": {},
     "output_type": "execute_result"
    }
   ],
   "source": [
    "re.search(r'kind(ergarden|ness|erjoy)',sent1)"
   ]
  },
  {
   "cell_type": "code",
   "execution_count": 74,
   "id": "8c87c406",
   "metadata": {},
   "outputs": [
    {
     "data": {
      "text/plain": [
       "<re.Match object; span=(31, 40), match='kinderjoy'>"
      ]
     },
     "execution_count": 74,
     "metadata": {},
     "output_type": "execute_result"
    }
   ],
   "source": [
    "re.search(r'kind(ergarden|ness|erjoy)',sent3)"
   ]
  },
  {
   "cell_type": "code",
   "execution_count": null,
   "id": "c192271a",
   "metadata": {},
   "outputs": [],
   "source": []
  }
 ],
 "metadata": {
  "kernelspec": {
   "display_name": "Python 3 (ipykernel)",
   "language": "python",
   "name": "python3"
  },
  "language_info": {
   "codemirror_mode": {
    "name": "ipython",
    "version": 3
   },
   "file_extension": ".py",
   "mimetype": "text/x-python",
   "name": "python",
   "nbconvert_exporter": "python",
   "pygments_lexer": "ipython3",
   "version": "3.10.9"
  }
 },
 "nbformat": 4,
 "nbformat_minor": 5
}
