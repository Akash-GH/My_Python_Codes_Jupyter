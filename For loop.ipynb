{
 "cells": [
  {
   "cell_type": "code",
   "execution_count": 1,
   "id": "bb8e09f7",
   "metadata": {},
   "outputs": [],
   "source": [
    "num_list = [1,2,3,4,5,6,7,8,9,10]"
   ]
  },
  {
   "cell_type": "code",
   "execution_count": 3,
   "id": "614f7074",
   "metadata": {},
   "outputs": [
    {
     "name": "stdout",
     "output_type": "stream",
     "text": [
      "1\n",
      "2\n",
      "3\n",
      "4\n",
      "5\n",
      "6\n",
      "7\n",
      "8\n",
      "9\n",
      "10\n"
     ]
    }
   ],
   "source": [
    "# for loop used on list\n",
    "for num in num_list:\n",
    "    print(num)"
   ]
  },
  {
   "cell_type": "code",
   "execution_count": 6,
   "id": "bca38be7",
   "metadata": {},
   "outputs": [
    {
     "name": "stdout",
     "output_type": "stream",
     "text": [
      "Odd number: 1\n",
      "Even Number: 2\n",
      "Odd number: 3\n",
      "Even Number: 4\n",
      "Odd number: 5\n",
      "Even Number: 6\n",
      "Odd number: 7\n",
      "Even Number: 8\n",
      "Odd number: 9\n",
      "Even Number: 10\n"
     ]
    }
   ],
   "source": [
    "for num in num_list:\n",
    "    if num % 2 == 0:\n",
    "        print(f'Even Number: {num}')\n",
    "    else:\n",
    "        print(f'Odd number: {num}')"
   ]
  },
  {
   "cell_type": "code",
   "execution_count": 24,
   "id": "293099e0",
   "metadata": {},
   "outputs": [
    {
     "name": "stdout",
     "output_type": "stream",
     "text": [
      "1\n",
      "3\n",
      "6\n",
      "10\n",
      "15\n",
      "21\n",
      "28\n",
      "36\n",
      "45\n",
      "55\n",
      "The sum of all the numbers in the given list is 55\n"
     ]
    }
   ],
   "source": [
    "sum_of_list = 0\n",
    "\n",
    "for num in num_list:\n",
    "    sum_of_list = sum_of_list + num\n",
    "    print(sum_of_list)\n",
    "\n",
    "print(f'The sum of all the numbers in the given list is {sum_of_list}')"
   ]
  },
  {
   "cell_type": "code",
   "execution_count": 7,
   "id": "6fdb44d1",
   "metadata": {},
   "outputs": [],
   "source": [
    "tup = (1,2,3)"
   ]
  },
  {
   "cell_type": "code",
   "execution_count": 8,
   "id": "dcd5a7f5",
   "metadata": {},
   "outputs": [
    {
     "name": "stdout",
     "output_type": "stream",
     "text": [
      "1\n",
      "2\n",
      "3\n"
     ]
    }
   ],
   "source": [
    "for num in tup:\n",
    "    print(num)"
   ]
  },
  {
   "cell_type": "code",
   "execution_count": 9,
   "id": "fad53322",
   "metadata": {},
   "outputs": [],
   "source": [
    "mytup = [(1,2),(3,4),(5,6),(7,8)]"
   ]
  },
  {
   "cell_type": "code",
   "execution_count": 11,
   "id": "913ef42b",
   "metadata": {},
   "outputs": [
    {
     "name": "stdout",
     "output_type": "stream",
     "text": [
      "(1, 2)\n",
      "(3, 4)\n",
      "(5, 6)\n",
      "(7, 8)\n"
     ]
    }
   ],
   "source": [
    "for num in mytup:\n",
    "    print(num)"
   ]
  },
  {
   "cell_type": "code",
   "execution_count": 10,
   "id": "f03fbe2b",
   "metadata": {},
   "outputs": [
    {
     "name": "stdout",
     "output_type": "stream",
     "text": [
      "1\n",
      "2\n",
      "3\n",
      "4\n",
      "5\n",
      "6\n",
      "7\n",
      "8\n"
     ]
    }
   ],
   "source": [
    "# Tuple unpacking\n",
    "for a,b in mytup:\n",
    "    print(a)\n",
    "    print(b)"
   ]
  },
  {
   "cell_type": "code",
   "execution_count": 12,
   "id": "15f6290e",
   "metadata": {},
   "outputs": [],
   "source": [
    "message = \"hello Akash\""
   ]
  },
  {
   "cell_type": "code",
   "execution_count": 13,
   "id": "27cb097c",
   "metadata": {},
   "outputs": [
    {
     "name": "stdout",
     "output_type": "stream",
     "text": [
      "h\n",
      "e\n",
      "l\n",
      "l\n",
      "o\n",
      " \n",
      "A\n",
      "k\n",
      "a\n",
      "s\n",
      "h\n"
     ]
    }
   ],
   "source": [
    "# for loop used in string\n",
    "for letter in message:\n",
    "    print(letter)"
   ]
  },
  {
   "cell_type": "code",
   "execution_count": 15,
   "id": "31d49846",
   "metadata": {},
   "outputs": [
    {
     "data": {
      "text/plain": [
       "11"
      ]
     },
     "execution_count": 15,
     "metadata": {},
     "output_type": "execute_result"
    }
   ],
   "source": [
    "len(message)"
   ]
  },
  {
   "cell_type": "code",
   "execution_count": 14,
   "id": "ebf7ff48",
   "metadata": {},
   "outputs": [
    {
     "name": "stdout",
     "output_type": "stream",
     "text": [
      "Awesome\n",
      "Awesome\n",
      "Awesome\n",
      "Awesome\n",
      "Awesome\n",
      "Awesome\n",
      "Awesome\n",
      "Awesome\n",
      "Awesome\n",
      "Awesome\n",
      "Awesome\n"
     ]
    }
   ],
   "source": [
    "for _ in message:\n",
    "    print(\"Awesome\")"
   ]
  },
  {
   "cell_type": "code",
   "execution_count": 16,
   "id": "981a9d1b",
   "metadata": {},
   "outputs": [
    {
     "name": "stdout",
     "output_type": "stream",
     "text": [
      "Ohayo\n",
      "Ohayo\n",
      "Ohayo\n",
      "Ohayo\n",
      "Ohayo\n",
      "Ohayo\n",
      "Ohayo\n",
      "Ohayo\n",
      "Ohayo\n",
      "Ohayo\n",
      "Ohayo\n"
     ]
    }
   ],
   "source": [
    "for letter in message:\n",
    "    print(\"Ohayo\")"
   ]
  },
  {
   "cell_type": "code",
   "execution_count": 17,
   "id": "0ad2d023",
   "metadata": {},
   "outputs": [],
   "source": [
    "d = {'Mango':100,'Apple':80}"
   ]
  },
  {
   "cell_type": "code",
   "execution_count": 18,
   "id": "68ccc56c",
   "metadata": {},
   "outputs": [
    {
     "name": "stdout",
     "output_type": "stream",
     "text": [
      "Mango\n",
      "Apple\n"
     ]
    }
   ],
   "source": [
    "# For loop used on a dictionary\n",
    "# here u can notice that only the keys value are printed\n",
    "for value in d:\n",
    "    print(value)"
   ]
  },
  {
   "cell_type": "code",
   "execution_count": 19,
   "id": "85beac87",
   "metadata": {},
   "outputs": [
    {
     "name": "stdout",
     "output_type": "stream",
     "text": [
      "('Mango', 100)\n",
      "('Apple', 80)\n"
     ]
    }
   ],
   "source": [
    "# here both keys and values can be printed\n",
    "for value in d.items():\n",
    "    print(value)"
   ]
  },
  {
   "cell_type": "code",
   "execution_count": 20,
   "id": "8f2d3a21",
   "metadata": {},
   "outputs": [
    {
     "name": "stdout",
     "output_type": "stream",
     "text": [
      "Mango\n",
      "100\n",
      "Apple\n",
      "80\n"
     ]
    }
   ],
   "source": [
    "# Unpacking dictionary\n",
    "for keys,values in d.items():\n",
    "    print(keys)\n",
    "    print(values)"
   ]
  },
  {
   "cell_type": "code",
   "execution_count": 21,
   "id": "fe249c92",
   "metadata": {},
   "outputs": [
    {
     "name": "stdout",
     "output_type": "stream",
     "text": [
      "Mango\n",
      "Apple\n"
     ]
    }
   ],
   "source": [
    "for value in d.keys():\n",
    "    print(value)"
   ]
  },
  {
   "cell_type": "code",
   "execution_count": 22,
   "id": "91e09c83",
   "metadata": {},
   "outputs": [
    {
     "name": "stdout",
     "output_type": "stream",
     "text": [
      "100\n",
      "80\n"
     ]
    }
   ],
   "source": [
    "for value in d.values():\n",
    "    print(value)"
   ]
  },
  {
   "cell_type": "markdown",
   "id": "5a35ae81",
   "metadata": {},
   "source": [
    "Here we have seen how can an object can be iterated using for loop on lists,strings,tupes and dictionaries."
   ]
  }
 ],
 "metadata": {
  "kernelspec": {
   "display_name": "Python 3 (ipykernel)",
   "language": "python",
   "name": "python3"
  },
  "language_info": {
   "codemirror_mode": {
    "name": "ipython",
    "version": 3
   },
   "file_extension": ".py",
   "mimetype": "text/x-python",
   "name": "python",
   "nbconvert_exporter": "python",
   "pygments_lexer": "ipython3",
   "version": "3.10.9"
  }
 },
 "nbformat": 4,
 "nbformat_minor": 5
}
